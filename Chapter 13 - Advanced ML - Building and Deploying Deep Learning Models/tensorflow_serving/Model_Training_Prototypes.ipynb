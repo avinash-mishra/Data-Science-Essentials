{
 "cells": [
  {
   "cell_type": "markdown",
   "metadata": {},
   "source": [
    "# Build and Deploy Deep Learning Vision Models with TensorFlow "
   ]
  },
  {
   "cell_type": "markdown",
   "metadata": {},
   "source": [
    "![](https://miro.medium.com/max/2275/1*-uxB0EnnMX-rAoTFp8xZew.png)\n",
    "\n",
    "Thanks to faster compute, better storage and easy to use software, deep learning based solutions are definitely seeing the light of the day coming out from the proof-of-concept tunnel into the real-world! We are seeing widespread adoption of deep learning models across diverse domains in the industry including healthcare, finance, retail, tech, logistics, food-tech, agriculture amongst many others! Considering the fact that deep learning models are resource hungry and often compute-heavy, we need to pause for a moment and think about model inference and serving times, when consumed by end-users.\n",
    "\n",
    "We will be covering the following topics in this tutorial:\n",
    "\n",
    "- Main Objective — Building an Apparel Classifier\n",
    "- Training a simple CNN Model\n",
    "- Fine-tuning a pre-trained ResNet-50 CNN Model\n",
    "- TensorFlow Serving Overview\n",
    "- Saving models for TensorFlow Serving\n",
    "- Serving models with CPU Inference\n",
    "- Serving models with Docker for GPU Inference\n",
    "- Bonus: Building an Apparel Classifier API with Flask & TensorFlow Serving\n",
    "\n",
    "<div style=\"text-align: right\"><i><font size=\"2\">Tutorial by: <a href=\"https://www.linkedin.com/in/avinash-mishra-a0846360/\" target=\"_parent\">Avinash Mishra</a></font></i></div>"
   ]
  },
  {
   "cell_type": "markdown",
   "metadata": {},
   "source": [
    "# Load Dependencies \n",
    "\n",
    "While the original article for this tutorial was written on TensorFlow 1.14, it leverages the __`tf.keras`__ API style and hence it is recommended you try this out on TensorFlow 2.0"
   ]
  },
  {
   "cell_type": "code",
   "execution_count": 1,
   "metadata": {},
   "outputs": [
    {
     "name": "stdout",
     "output_type": "stream",
     "text": [
      "1.14.0\n"
     ]
    }
   ],
   "source": [
    "# to prevent unnecessary warnings\n",
    "import warnings\n",
    "warnings.simplefilter(action='ignore', category=FutureWarning)\n",
    "\n",
    "# TensorFlow and tf.keras\n",
    "import tensorflow as tf\n",
    "from tensorflow import keras\n",
    "\n",
    "# Helper libraries\n",
    "import numpy as np\n",
    "import matplotlib.pyplot as plt\n",
    "import os\n",
    "import subprocess\n",
    "import cv2\n",
    "import json\n",
    "import requests\n",
    "from tqdm import tqdm\n",
    "\n",
    "tf.logging.set_verbosity(tf.logging.ERROR)\n",
    "print(tf.__version__)\n",
    "\n",
    "%matplotlib inline"
   ]
  },
  {
   "cell_type": "markdown",
   "metadata": {},
   "source": [
    "# Main Objective — Building & Deploying an Apparel Classifier\n",
    "\n",
    "We will keep things simple here with regard to the key objective. We will build a simple apparel classifier by training models on the very famous [Fashion MNIST](https://github.com/zalandoresearch/fashion-mnist) dataset based on Zalando’s article images — consisting of a training set of 60,000 examples and a test set of 10,000 examples. Each example is a 28x28 grayscale image, associated with a label from 10 classes. The idea is to classify these images into an apparel category amongst 10 categories on which we will be training our models on.\n",
    "\n",
    "Here's an example how the data looks (each class takes three-rows):\n",
    "\n",
    "<table>\n",
    "  <tr><td>\n",
    "    <img src=\"https://raw.githubusercontent.com/zalandoresearch/fashion-mnist/master/doc/img/fashion-mnist-sprite.png\"\n",
    "         alt=\"Fashion MNIST sprite\"  width=\"600\">\n",
    "  </td></tr>\n",
    "  <tr><td align=\"center\">\n",
    "    <a href=\"https://github.com/zalandoresearch/fashion-mnist\">Fashion-MNIST samples</a> (by Zalando, MIT License).<br/>&nbsp;\n",
    "  </td></tr>\n",
    "</table>\n",
    "\n",
    "Fashion MNIST is intended as a drop-in replacement for the classic [MNIST](http://yann.lecun.com/exdb/mnist/) dataset—often used as the \"Hello, World\" of machine learning programs for computer vision. You can access the Fashion MNIST directly from TensorFlow.\n",
    "\n",
    "__Note:__ Although these are really images, they are loaded as NumPy arrays and not binary image objects."
   ]
  },
  {
   "cell_type": "markdown",
   "metadata": {},
   "source": [
    "We will build the following two deep learning CNN (Convolutional Neural Network) classifiers in this article before focusing on model serving.\n",
    "- A simple CNN trained from scratch\n",
    "- Fine-tuning a pre-trained ResNet-50 CNN\n",
    "\n",
    "The intent of this article is to focus more on deployment and serving aspects hence we won’t spend a whole lot of time talking about model architectures or training and fine-tuning. Feel free to check out a brief on CNNs if necessary towards the very end of [this article](https://towardsdatascience.com/ai-powered-search-for-extra-terrestrial-intelligence-analyzing-radio-telescopic-data-c9e46741041) but we will add it in this notebook also in the following section for your ease of access. My testbed for this article was a [Google Cloud Platform Deep Learning VM](https://cloud.google.com/deep-learning-vm/) with a NVIDIA Tesla T4 which makes it really easy to carry out experiments on the cloud!\n",
    "\n",
    "![](https://miro.medium.com/max/570/1*hDu3dNc7AN2rOX-fpxr_wA.png)"
   ]
  },
  {
   "cell_type": "markdown",
   "metadata": {},
   "source": [
    "# Load Dataset\n",
    "Here we will leverage an out of the box dataset since the intent of this tutorial is to showcase model serving more than model architecture, training and evaluation. However we will cover these steps also to a good extent."
   ]
  },
  {
   "cell_type": "code",
   "execution_count": 2,
   "metadata": {},
   "outputs": [
    {
     "name": "stdout",
     "output_type": "stream",
     "text": [
      "\n",
      "Train_images.shape: (60000, 28, 28), of uint8\n",
      "Test_images.shape: (10000, 28, 28), of uint8\n"
     ]
    }
   ],
   "source": [
    "fashion_mnist = keras.datasets.fashion_mnist\n",
    "(train_images, train_labels), (test_images, test_labels) = fashion_mnist.load_data()\n",
    "\n",
    "class_names = ['T-shirt/top', 'Trouser', 'Pullover', 'Dress', 'Coat',\n",
    "               'Sandal', 'Shirt', 'Sneaker', 'Bag', 'Ankle boot']\n",
    "\n",
    "print('\\nTrain_images.shape: {}, of {}'.format(train_images.shape, train_images.dtype))\n",
    "print('Test_images.shape: {}, of {}'.format(test_images.shape, test_images.dtype))"
   ]
  },
  {
   "cell_type": "markdown",
   "metadata": {},
   "source": [
    "Based on what we mentioned earlier, we have 60000 training and 10000 test images of size 28x28. We will now start training our deep learning models."
   ]
  },
  {
   "cell_type": "markdown",
   "metadata": {},
   "source": [
    "# Brief on Convolutional Neural Networks\n",
    "\n",
    "The most popular deep learning models leveraged for computer vision problems are convolutional neural networks (CNNs)!\n",
    "\n",
    "![](https://miro.medium.com/max/2000/1*rO65zGl2k7xVBRhJZggQSA.gif)\n",
    "\n",
    "CNNs typically consist of multiple convolution and pooling layers which help the deep learning model in automatically extracting relevant features from visual data like images. Due to this multi-layered architecture, CNNs learn a robust hierarchy of features, which are spatial, rotation, and translation invariant.\n",
    "\n",
    "![](https://miro.medium.com/max/1456/1*NKL76WYQwH5LuqyaQTjBNw.png)\n",
    "\n",
    "The key operations in a CNN model are depicted in the figure above. Any image can be represented as a tensor of pixel values. The convolution layers help in extracting features from this image (forms feature maps). Shallower layers (closer to the input data) in the network learn very generic features like edges, corners and so on. Deeper layers in the network (closer to the output layer) learn very specific features pertaining to the input image. The following graphic helps summarize the key aspects of any CNN model.\n",
    "\n",
    "![](https://miro.medium.com/max/1366/1*nCQeDMjKoTGst1RiCDo9Fw.png)\n",
    "\n",
    "We will be building a CNN from scratch as well as leverage the power of transfer learning, where we use pre-trained deep learning CNNs in this tutorial. "
   ]
  },
  {
   "cell_type": "markdown",
   "metadata": {},
   "source": [
    "# Training a simple CNN Model from Scratch\n",
    "\n",
    "In this section, we will train a basic 2-layer CNN model from scratch."
   ]
  },
  {
   "cell_type": "markdown",
   "metadata": {},
   "source": [
    "## Reshaping Image Data for Modeling\n",
    "\n",
    "We do need to reshape our data before we train our model. Here we will work on grayscale, 1-channel images (image pixel tensors)"
   ]
  },
  {
   "cell_type": "code",
   "execution_count": 3,
   "metadata": {},
   "outputs": [
    {
     "name": "stdout",
     "output_type": "stream",
     "text": [
      "\n",
      "Train_images.shape: (60000, 28, 28, 1), of uint8\n",
      "Test_images.shape: (10000, 28, 28, 1), of uint8\n"
     ]
    }
   ],
   "source": [
    "# reshape for feeding into the model\n",
    "train_images_gr = train_images.reshape(train_images.shape[0], 28, 28, 1)\n",
    "test_images_gr = test_images.reshape(test_images.shape[0], 28, 28, 1)\n",
    "\n",
    "print('\\nTrain_images.shape: {}, of {}'.format(train_images_gr.shape, train_images_gr.dtype))\n",
    "print('Test_images.shape: {}, of {}'.format(test_images_gr.shape, test_images_gr.dtype))"
   ]
  },
  {
   "cell_type": "markdown",
   "metadata": {},
   "source": [
    "## Visualize sample images"
   ]
  },
  {
   "cell_type": "code",
   "execution_count": 5,
   "metadata": {},
   "outputs": [
    {
     "name": "stdout",
     "output_type": "stream",
     "text": [
      "['Ankle boot', 'T-shirt/top', 'T-shirt/top', 'Dress', 'T-shirt/top', 'Pullover', 'Sneaker', 'Pullover', 'Sandal', 'Sandal']\n"
     ]
    },
    {
     "data": {
      "image/png": "[encoded data removed]",
      "text/plain": [
       "<Figure size 864x432 with 10 Axes>"
      ]
     },
     "metadata": {
      "needs_background": "light"
     },
     "output_type": "display_data"
    }
   ],
   "source": [
    "fig, ax = plt.subplots(2, 5, figsize=(12, 6))\n",
    "ax[0, 0].imshow(train_images_gr[0].reshape(28,28))\n",
    "ax[0, 1].imshow(train_images_gr[1].reshape(28,28))\n",
    "ax[0, 2].imshow(train_images_gr[2].reshape(28,28))\n",
    "ax[0, 3].imshow(train_images_gr[3].reshape(28,28))\n",
    "ax[0, 4].imshow(train_images_gr[4].reshape(28,28))\n",
    "ax[1, 0].imshow(train_images_gr[5].reshape(28,28))\n",
    "ax[1, 1].imshow(train_images_gr[6].reshape(28,28))\n",
    "ax[1, 2].imshow(train_images_gr[7].reshape(28,28))\n",
    "ax[1, 3].imshow(train_images_gr[8].reshape(28,28))\n",
    "ax[1, 4].imshow(train_images_gr[9].reshape(28,28))\n",
    "\n",
    "print([class_names[i] for i in train_labels[:10]])"
   ]
  },
  {
   "cell_type": "markdown",
   "metadata": {},
   "source": [
    "## Build CNN Model Architecture\n",
    "\n",
    "We will now build our basic 2-layer CNN model architecture."
   ]
  },
  {
   "cell_type": "code",
   "execution_count": 6,
   "metadata": {},
   "outputs": [],
   "source": [
    "INPUT_SHAPE = (28, 28, 1)\n",
    "\n",
    "def create_cnn_architecture_model1(input_shape):\n",
    "    inp = keras.layers.Input(shape=input_shape)\n",
    "\n",
    "    conv1 = keras.layers.Conv2D(filters=16, kernel_size=(3, 3), strides=(1, 1), \n",
    "                                activation='relu', padding='same')(inp)\n",
    "    pool1 = keras.layers.MaxPooling2D(pool_size=(2, 2))(conv1)\n",
    "    conv2 = keras.layers.Conv2D(filters=32, kernel_size=(3, 3), strides=(1, 1), \n",
    "                                   activation='relu', padding='same')(pool1)\n",
    "    pool2 = keras.layers.MaxPooling2D(pool_size=(2, 2))(conv2)\n",
    "\n",
    "    flat = keras.layers.Flatten()(pool2)\n",
    "\n",
    "    hidden1 = keras.layers.Dense(256, activation='relu')(flat)\n",
    "    drop1 = keras.layers.Dropout(rate=0.3)(hidden1)\n",
    "\n",
    "    out = keras.layers.Dense(10, activation='softmax')(drop1)\n",
    "\n",
    "    model = keras.Model(inputs=inp, outputs=out)\n",
    "    model.compile(optimizer='adam',\n",
    "                    loss='sparse_categorical_crossentropy',\n",
    "                    metrics=['accuracy'])\n",
    "    return model"
   ]
  },
  {
   "cell_type": "code",
   "execution_count": 7,
   "metadata": {},
   "outputs": [
    {
     "name": "stdout",
     "output_type": "stream",
     "text": [
      "Model: \"model\"\n",
      "_________________________________________________________________\n",
      "Layer (type)                 Output Shape              Param #   \n",
      "=================================================================\n",
      "input_1 (InputLayer)         [(None, 28, 28, 1)]       0         \n",
      "_________________________________________________________________\n",
      "conv2d (Conv2D)              (None, 28, 28, 16)        160       \n",
      "_________________________________________________________________\n",
      "max_pooling2d (MaxPooling2D) (None, 14, 14, 16)        0         \n",
      "_________________________________________________________________\n",
      "conv2d_1 (Conv2D)            (None, 14, 14, 32)        4640      \n",
      "_________________________________________________________________\n",
      "max_pooling2d_1 (MaxPooling2 (None, 7, 7, 32)          0         \n",
      "_________________________________________________________________\n",
      "flatten (Flatten)            (None, 1568)              0         \n",
      "_________________________________________________________________\n",
      "dense (Dense)                (None, 256)               401664    \n",
      "_________________________________________________________________\n",
      "dropout (Dropout)            (None, 256)               0         \n",
      "_________________________________________________________________\n",
      "dense_1 (Dense)              (None, 10)                2570      \n",
      "=================================================================\n",
      "Total params: 409,034\n",
      "Trainable params: 409,034\n",
      "Non-trainable params: 0\n",
      "_________________________________________________________________\n"
     ]
    }
   ],
   "source": [
    "model = create_cnn_architecture_model1(input_shape=INPUT_SHAPE)\n",
    "model.summary()"
   ]
  },
  {
   "cell_type": "markdown",
   "metadata": {},
   "source": [
    "## Model Training\n",
    "\n",
    "Let’s train our model for 10 epochs and look at the performance."
   ]
  },
  {
   "cell_type": "code",
   "execution_count": 8,
   "metadata": {},
   "outputs": [
    {
     "name": "stdout",
     "output_type": "stream",
     "text": [
      "Train on 54000 samples, validate on 6000 samples\n",
      "Epoch 1/10\n",
      "54000/54000 [==============================] - 7s 122us/sample - loss: 0.4614 - acc: 0.8323 - val_loss: 0.3462 - val_acc: 0.8725\n",
      "Epoch 2/10\n",
      "54000/54000 [==============================] - 5s 86us/sample - loss: 0.3073 - acc: 0.8892 - val_loss: 0.2825 - val_acc: 0.8950\n",
      "Epoch 3/10\n",
      "54000/54000 [==============================] - 5s 87us/sample - loss: 0.2633 - acc: 0.9029 - val_loss: 0.2749 - val_acc: 0.9002\n",
      "Epoch 4/10\n",
      "54000/54000 [==============================] - 5s 86us/sample - loss: 0.2327 - acc: 0.9146 - val_loss: 0.2390 - val_acc: 0.9113\n",
      "Epoch 5/10\n",
      "54000/54000 [==============================] - 5s 86us/sample - loss: 0.2072 - acc: 0.9227 - val_loss: 0.2268 - val_acc: 0.9178\n",
      "Epoch 6/10\n",
      "54000/54000 [==============================] - 5s 85us/sample - loss: 0.1862 - acc: 0.9320 - val_loss: 0.2252 - val_acc: 0.9120\n",
      "Epoch 7/10\n",
      "54000/54000 [==============================] - 5s 86us/sample - loss: 0.1702 - acc: 0.9361 - val_loss: 0.2503 - val_acc: 0.9085\n",
      "Epoch 8/10\n",
      "54000/54000 [==============================] - 5s 86us/sample - loss: 0.1532 - acc: 0.9425 - val_loss: 0.2416 - val_acc: 0.9145\n",
      "Epoch 9/10\n",
      "54000/54000 [==============================] - 5s 86us/sample - loss: 0.1401 - acc: 0.9468 - val_loss: 0.2269 - val_acc: 0.9207\n",
      "Epoch 10/10\n",
      "54000/54000 [==============================] - 5s 86us/sample - loss: 0.1242 - acc: 0.9531 - val_loss: 0.2600 - val_acc: 0.9173\n"
     ]
    },
    {
     "data": {
      "text/plain": [
       "<tensorflow.python.keras.callbacks.History at 0x7fa8561cf860>"
      ]
     },
     "execution_count": 8,
     "metadata": {},
     "output_type": "execute_result"
    }
   ],
   "source": [
    "EPOCHS = 10\n",
    "train_images_scaled = train_images_gr / 255.\n",
    "model.fit(train_images_scaled, train_labels, validation_split=0.1, epochs=EPOCHS)"
   ]
  },
  {
   "cell_type": "markdown",
   "metadata": {},
   "source": [
    "## Save Model Weights"
   ]
  },
  {
   "cell_type": "code",
   "execution_count": 12,
   "metadata": {},
   "outputs": [],
   "source": [
    "import os\n",
    "\n",
    "if not os.path.isdir('model_weights/'):\n",
    "    os.mkdir('model_weights/')\n",
    "    \n",
    "model.save_weights(filepath='model_weights/cnn_model1_wt.h5', overwrite=True)"
   ]
  },
  {
   "cell_type": "markdown",
   "metadata": {},
   "source": [
    "## Build Model Architecture and Load Model Weights"
   ]
  },
  {
   "cell_type": "code",
   "execution_count": 13,
   "metadata": {},
   "outputs": [],
   "source": [
    "model = create_cnn_architecture_model1(input_shape=INPUT_SHAPE)\n",
    "model.load_weights('model_weights/cnn_model1_wt.h5')"
   ]
  },
  {
   "cell_type": "markdown",
   "metadata": {},
   "source": [
    "## Evaluate Model Performance on Test Data"
   ]
  },
  {
   "cell_type": "code",
   "execution_count": 14,
   "metadata": {},
   "outputs": [
    {
     "data": {
      "text/plain": [
       "array([[2.3509341e-07, 1.8592436e-07, 3.8615093e-07, 3.9954253e-09,\n",
       "        5.1049998e-11, 6.1697951e-06, 4.8840683e-09, 1.6855559e-04,\n",
       "        1.5167489e-10, 9.9982446e-01],\n",
       "       [1.5478851e-07, 3.7445472e-15, 9.9999964e-01, 1.1585889e-08,\n",
       "        1.5451874e-07, 1.3980947e-13, 1.3006213e-07, 2.5441058e-17,\n",
       "        8.9267704e-10, 1.7517097e-15],\n",
       "       [3.6006306e-11, 1.0000000e+00, 7.4322477e-16, 8.0970395e-09,\n",
       "        1.1093018e-12, 3.4197353e-18, 1.0867690e-13, 1.9505497e-20,\n",
       "        9.3743034e-15, 7.3673968e-19],\n",
       "       [1.4155675e-11, 1.0000000e+00, 1.3689348e-16, 7.9281286e-12,\n",
       "        3.0459305e-10, 4.3686655e-21, 2.3509194e-12, 3.7370269e-23,\n",
       "        5.9047653e-17, 3.0999163e-21],\n",
       "       [2.7989013e-02, 2.1256679e-09, 4.6217279e-03, 5.9983249e-06,\n",
       "        1.9115859e-04, 3.0010604e-08, 9.6719199e-01, 2.5058446e-08,\n",
       "        8.4256769e-08, 5.1935036e-08]], dtype=float32)"
      ]
     },
     "execution_count": 14,
     "metadata": {},
     "output_type": "execute_result"
    }
   ],
   "source": [
    "test_images_scaled = test_images_gr / 255.\n",
    "predictions = model.predict(test_images_scaled)\n",
    "predictions[:5]"
   ]
  },
  {
   "cell_type": "code",
   "execution_count": 15,
   "metadata": {},
   "outputs": [
    {
     "data": {
      "text/plain": [
       "array([9, 2, 1, 1, 6])"
      ]
     },
     "execution_count": 15,
     "metadata": {},
     "output_type": "execute_result"
    }
   ],
   "source": [
    "prediction_labels = np.argmax(predictions, axis=1)\n",
    "prediction_labels[:5]"
   ]
  },
  {
   "cell_type": "code",
   "execution_count": 16,
   "metadata": {},
   "outputs": [
    {
     "name": "stdout",
     "output_type": "stream",
     "text": [
      "              precision    recall  f1-score   support\n",
      "\n",
      " T-shirt/top       0.86      0.86      0.86      1000\n",
      "     Trouser       0.98      0.99      0.99      1000\n",
      "    Pullover       0.81      0.89      0.85      1000\n",
      "       Dress       0.92      0.92      0.92      1000\n",
      "        Coat       0.91      0.77      0.83      1000\n",
      "      Sandal       0.99      0.98      0.98      1000\n",
      "       Shirt       0.75      0.78      0.77      1000\n",
      "     Sneaker       0.92      0.99      0.95      1000\n",
      "         Bag       0.99      0.98      0.99      1000\n",
      "  Ankle boot       0.98      0.93      0.95      1000\n",
      "\n",
      "    accuracy                           0.91     10000\n",
      "   macro avg       0.91      0.91      0.91     10000\n",
      "weighted avg       0.91      0.91      0.91     10000\n",
      "\n"
     ]
    },
    {
     "data": {
      "text/html": [
       "<div>\n",
       "<style scoped>\n",
       "    .dataframe tbody tr th:only-of-type {\n",
       "        vertical-align: middle;\n",
       "    }\n",
       "\n",
       "    .dataframe tbody tr th {\n",
       "        vertical-align: top;\n",
       "    }\n",
       "\n",
       "    .dataframe thead th {\n",
       "        text-align: right;\n",
       "    }\n",
       "</style>\n",
       "<table border=\"1\" class=\"dataframe\">\n",
       "  <thead>\n",
       "    <tr style=\"text-align: right;\">\n",
       "      <th></th>\n",
       "      <th>T-shirt/top</th>\n",
       "      <th>Trouser</th>\n",
       "      <th>Pullover</th>\n",
       "      <th>Dress</th>\n",
       "      <th>Coat</th>\n",
       "      <th>Sandal</th>\n",
       "      <th>Shirt</th>\n",
       "      <th>Sneaker</th>\n",
       "      <th>Bag</th>\n",
       "      <th>Ankle boot</th>\n",
       "    </tr>\n",
       "  </thead>\n",
       "  <tbody>\n",
       "    <tr>\n",
       "      <td>T-shirt/top</td>\n",
       "      <td>863</td>\n",
       "      <td>0</td>\n",
       "      <td>17</td>\n",
       "      <td>11</td>\n",
       "      <td>4</td>\n",
       "      <td>1</td>\n",
       "      <td>96</td>\n",
       "      <td>0</td>\n",
       "      <td>8</td>\n",
       "      <td>0</td>\n",
       "    </tr>\n",
       "    <tr>\n",
       "      <td>Trouser</td>\n",
       "      <td>0</td>\n",
       "      <td>991</td>\n",
       "      <td>0</td>\n",
       "      <td>7</td>\n",
       "      <td>0</td>\n",
       "      <td>0</td>\n",
       "      <td>2</td>\n",
       "      <td>0</td>\n",
       "      <td>0</td>\n",
       "      <td>0</td>\n",
       "    </tr>\n",
       "    <tr>\n",
       "      <td>Pullover</td>\n",
       "      <td>17</td>\n",
       "      <td>1</td>\n",
       "      <td>894</td>\n",
       "      <td>8</td>\n",
       "      <td>19</td>\n",
       "      <td>0</td>\n",
       "      <td>60</td>\n",
       "      <td>0</td>\n",
       "      <td>1</td>\n",
       "      <td>0</td>\n",
       "    </tr>\n",
       "    <tr>\n",
       "      <td>Dress</td>\n",
       "      <td>18</td>\n",
       "      <td>6</td>\n",
       "      <td>11</td>\n",
       "      <td>920</td>\n",
       "      <td>21</td>\n",
       "      <td>0</td>\n",
       "      <td>23</td>\n",
       "      <td>0</td>\n",
       "      <td>1</td>\n",
       "      <td>0</td>\n",
       "    </tr>\n",
       "    <tr>\n",
       "      <td>Coat</td>\n",
       "      <td>0</td>\n",
       "      <td>0</td>\n",
       "      <td>131</td>\n",
       "      <td>28</td>\n",
       "      <td>769</td>\n",
       "      <td>0</td>\n",
       "      <td>71</td>\n",
       "      <td>0</td>\n",
       "      <td>1</td>\n",
       "      <td>0</td>\n",
       "    </tr>\n",
       "    <tr>\n",
       "      <td>Sandal</td>\n",
       "      <td>0</td>\n",
       "      <td>0</td>\n",
       "      <td>0</td>\n",
       "      <td>0</td>\n",
       "      <td>0</td>\n",
       "      <td>978</td>\n",
       "      <td>0</td>\n",
       "      <td>13</td>\n",
       "      <td>0</td>\n",
       "      <td>9</td>\n",
       "    </tr>\n",
       "    <tr>\n",
       "      <td>Shirt</td>\n",
       "      <td>101</td>\n",
       "      <td>6</td>\n",
       "      <td>48</td>\n",
       "      <td>27</td>\n",
       "      <td>34</td>\n",
       "      <td>0</td>\n",
       "      <td>781</td>\n",
       "      <td>0</td>\n",
       "      <td>3</td>\n",
       "      <td>0</td>\n",
       "    </tr>\n",
       "    <tr>\n",
       "      <td>Sneaker</td>\n",
       "      <td>0</td>\n",
       "      <td>0</td>\n",
       "      <td>0</td>\n",
       "      <td>0</td>\n",
       "      <td>0</td>\n",
       "      <td>6</td>\n",
       "      <td>0</td>\n",
       "      <td>987</td>\n",
       "      <td>0</td>\n",
       "      <td>7</td>\n",
       "    </tr>\n",
       "    <tr>\n",
       "      <td>Bag</td>\n",
       "      <td>2</td>\n",
       "      <td>3</td>\n",
       "      <td>0</td>\n",
       "      <td>2</td>\n",
       "      <td>1</td>\n",
       "      <td>0</td>\n",
       "      <td>5</td>\n",
       "      <td>2</td>\n",
       "      <td>985</td>\n",
       "      <td>0</td>\n",
       "    </tr>\n",
       "    <tr>\n",
       "      <td>Ankle boot</td>\n",
       "      <td>0</td>\n",
       "      <td>0</td>\n",
       "      <td>0</td>\n",
       "      <td>0</td>\n",
       "      <td>0</td>\n",
       "      <td>3</td>\n",
       "      <td>1</td>\n",
       "      <td>70</td>\n",
       "      <td>0</td>\n",
       "      <td>926</td>\n",
       "    </tr>\n",
       "  </tbody>\n",
       "</table>\n",
       "</div>"
      ],
      "text/plain": [
       "             T-shirt/top  Trouser  Pullover  Dress  Coat  Sandal  Shirt  \\\n",
       "T-shirt/top          863        0        17     11     4       1     96   \n",
       "Trouser                0      991         0      7     0       0      2   \n",
       "Pullover              17        1       894      8    19       0     60   \n",
       "Dress                 18        6        11    920    21       0     23   \n",
       "Coat                   0        0       131     28   769       0     71   \n",
       "Sandal                 0        0         0      0     0     978      0   \n",
       "Shirt                101        6        48     27    34       0    781   \n",
       "Sneaker                0        0         0      0     0       6      0   \n",
       "Bag                    2        3         0      2     1       0      5   \n",
       "Ankle boot             0        0         0      0     0       3      1   \n",
       "\n",
       "             Sneaker  Bag  Ankle boot  \n",
       "T-shirt/top        0    8           0  \n",
       "Trouser            0    0           0  \n",
       "Pullover           0    1           0  \n",
       "Dress              0    1           0  \n",
       "Coat               0    1           0  \n",
       "Sandal            13    0           9  \n",
       "Shirt              0    3           0  \n",
       "Sneaker          987    0           7  \n",
       "Bag                2  985           0  \n",
       "Ankle boot        70    0         926  "
      ]
     },
     "execution_count": 16,
     "metadata": {},
     "output_type": "execute_result"
    }
   ],
   "source": [
    "from sklearn.metrics import confusion_matrix, classification_report\n",
    "import pandas as pd\n",
    "\n",
    "print(classification_report(test_labels, prediction_labels, target_names=class_names))\n",
    "pd.DataFrame(confusion_matrix(test_labels, prediction_labels), index=class_names, columns=class_names)"
   ]
  },
  {
   "cell_type": "markdown",
   "metadata": {},
   "source": [
    "# Fine-tuning a pre-trained ResNet-50 CNN Model\n",
    "\n",
    "Here, we will use a ResNet-50 model which was pre-trained on the ImageNet dataset by fine-tuning it on the Fashion-MNIST dataset. The ResNet-50 model is a 50-convolutional block (several layers in each block) deep learning network built on the ImageNet database. This model has over 175+ layers in total and is a very deep network. ResNet stands for Residual Networks.\n",
    "\n",
    "![](https://miro.medium.com/max/875/0*qdCZYPLJQIWlqgjQ.png)\n",
    "\n"
   ]
  },
  {
   "cell_type": "markdown",
   "metadata": {},
   "source": [
    "## Build CNN Model Architecture\n"
   ]
  },
  {
   "cell_type": "code",
   "execution_count": 61,
   "metadata": {},
   "outputs": [],
   "source": [
    "INPUT_SHAPE_RN = (32, 32, 3)\n",
    "\n",
    "def create_cnn_architecture_model2(input_shape):\n",
    "    inc_net = keras.applications.resnet50.ResNet50(include_top=False, weights='imagenet', \n",
    "                                                          input_shape=input_shape)\n",
    "    inc_net.trainable = True\n",
    "    # Fine-tune the layers\n",
    "    for layer in inc_net.layers:\n",
    "        layer.trainable = True\n",
    "    \n",
    "    base_inc = inc_net\n",
    "    base_out = base_inc.output\n",
    "    pool_out = keras.layers.Flatten()(base_out)\n",
    "    \n",
    "    hidden1 = keras.layers.Dense(512, activation='relu')(pool_out)\n",
    "    drop1 = keras.layers.Dropout(rate=0.3)(hidden1)\n",
    "    hidden2 = keras.layers.Dense(512, activation='relu')(drop1)\n",
    "    drop2 = keras.layers.Dropout(rate=0.3)(hidden2)\n",
    "\n",
    "    out = keras.layers.Dense(10, activation='softmax')(drop2)\n",
    "\n",
    "    model = keras.Model(inputs=base_inc.input, outputs=out)\n",
    "    model.compile(optimizer=keras.optimizers.RMSprop(lr=1e-4),\n",
    "                    loss='sparse_categorical_crossentropy',\n",
    "                    metrics=['accuracy'])\n",
    "    return model"
   ]
  },
  {
   "cell_type": "code",
   "execution_count": 62,
   "metadata": {},
   "outputs": [
    {
     "name": "stdout",
     "output_type": "stream",
     "text": [
      "Model: \"model_3\"\n",
      "__________________________________________________________________________________________________\n",
      "Layer (type)                    Output Shape         Param #     Connected to                     \n",
      "==================================================================================================\n",
      "input_4 (InputLayer)            [(None, 32, 32, 3)]  0                                            \n",
      "__________________________________________________________________________________________________\n",
      "conv1_pad (ZeroPadding2D)       (None, 38, 38, 3)    0           input_4[0][0]                    \n",
      "__________________________________________________________________________________________________\n",
      "conv1 (Conv2D)                  (None, 16, 16, 64)   9472        conv1_pad[0][0]                  \n",
      "__________________________________________________________________________________________________\n",
      "bn_conv1 (BatchNormalization)   (None, 16, 16, 64)   256         conv1[0][0]                      \n",
      "__________________________________________________________________________________________________\n",
      "activation_49 (Activation)      (None, 16, 16, 64)   0           bn_conv1[0][0]                   \n",
      "__________________________________________________________________________________________________\n",
      "pool1_pad (ZeroPadding2D)       (None, 18, 18, 64)   0           activation_49[0][0]              \n",
      "__________________________________________________________________________________________________\n",
      "max_pooling2d_5 (MaxPooling2D)  (None, 8, 8, 64)     0           pool1_pad[0][0]                  \n",
      "__________________________________________________________________________________________________\n",
      "res2a_branch2a (Conv2D)         (None, 8, 8, 64)     4160        max_pooling2d_5[0][0]            \n",
      "__________________________________________________________________________________________________\n",
      "bn2a_branch2a (BatchNormalizati (None, 8, 8, 64)     256         res2a_branch2a[0][0]             \n",
      "__________________________________________________________________________________________________\n",
      "activation_50 (Activation)      (None, 8, 8, 64)     0           bn2a_branch2a[0][0]              \n",
      "__________________________________________________________________________________________________\n",
      "res2a_branch2b (Conv2D)         (None, 8, 8, 64)     36928       activation_50[0][0]              \n",
      "__________________________________________________________________________________________________\n",
      "bn2a_branch2b (BatchNormalizati (None, 8, 8, 64)     256         res2a_branch2b[0][0]             \n",
      "__________________________________________________________________________________________________\n",
      "activation_51 (Activation)      (None, 8, 8, 64)     0           bn2a_branch2b[0][0]              \n",
      "__________________________________________________________________________________________________\n",
      "res2a_branch2c (Conv2D)         (None, 8, 8, 256)    16640       activation_51[0][0]              \n",
      "__________________________________________________________________________________________________\n",
      "res2a_branch1 (Conv2D)          (None, 8, 8, 256)    16640       max_pooling2d_5[0][0]            \n",
      "__________________________________________________________________________________________________\n",
      "bn2a_branch2c (BatchNormalizati (None, 8, 8, 256)    1024        res2a_branch2c[0][0]             \n",
      "__________________________________________________________________________________________________\n",
      "bn2a_branch1 (BatchNormalizatio (None, 8, 8, 256)    1024        res2a_branch1[0][0]              \n",
      "__________________________________________________________________________________________________\n",
      "add_16 (Add)                    (None, 8, 8, 256)    0           bn2a_branch2c[0][0]              \n",
      "                                                                 bn2a_branch1[0][0]               \n",
      "__________________________________________________________________________________________________\n",
      "activation_52 (Activation)      (None, 8, 8, 256)    0           add_16[0][0]                     \n",
      "__________________________________________________________________________________________________\n",
      "res2b_branch2a (Conv2D)         (None, 8, 8, 64)     16448       activation_52[0][0]              \n",
      "__________________________________________________________________________________________________\n",
      "bn2b_branch2a (BatchNormalizati (None, 8, 8, 64)     256         res2b_branch2a[0][0]             \n",
      "__________________________________________________________________________________________________\n",
      "activation_53 (Activation)      (None, 8, 8, 64)     0           bn2b_branch2a[0][0]              \n",
      "__________________________________________________________________________________________________\n",
      "res2b_branch2b (Conv2D)         (None, 8, 8, 64)     36928       activation_53[0][0]              \n",
      "__________________________________________________________________________________________________\n",
      "bn2b_branch2b (BatchNormalizati (None, 8, 8, 64)     256         res2b_branch2b[0][0]             \n",
      "__________________________________________________________________________________________________\n",
      "activation_54 (Activation)      (None, 8, 8, 64)     0           bn2b_branch2b[0][0]              \n",
      "__________________________________________________________________________________________________\n",
      "res2b_branch2c (Conv2D)         (None, 8, 8, 256)    16640       activation_54[0][0]              \n",
      "__________________________________________________________________________________________________\n",
      "bn2b_branch2c (BatchNormalizati (None, 8, 8, 256)    1024        res2b_branch2c[0][0]             \n",
      "__________________________________________________________________________________________________\n",
      "add_17 (Add)                    (None, 8, 8, 256)    0           bn2b_branch2c[0][0]              \n",
      "                                                                 activation_52[0][0]              \n",
      "__________________________________________________________________________________________________\n",
      "activation_55 (Activation)      (None, 8, 8, 256)    0           add_17[0][0]                     \n",
      "__________________________________________________________________________________________________\n",
      "res2c_branch2a (Conv2D)         (None, 8, 8, 64)     16448       activation_55[0][0]              \n",
      "__________________________________________________________________________________________________\n",
      "bn2c_branch2a (BatchNormalizati (None, 8, 8, 64)     256         res2c_branch2a[0][0]             \n",
      "__________________________________________________________________________________________________\n",
      "activation_56 (Activation)      (None, 8, 8, 64)     0           bn2c_branch2a[0][0]              \n",
      "__________________________________________________________________________________________________\n",
      "res2c_branch2b (Conv2D)         (None, 8, 8, 64)     36928       activation_56[0][0]              \n",
      "__________________________________________________________________________________________________\n",
      "bn2c_branch2b (BatchNormalizati (None, 8, 8, 64)     256         res2c_branch2b[0][0]             \n",
      "__________________________________________________________________________________________________\n",
      "activation_57 (Activation)      (None, 8, 8, 64)     0           bn2c_branch2b[0][0]              \n",
      "__________________________________________________________________________________________________\n",
      "res2c_branch2c (Conv2D)         (None, 8, 8, 256)    16640       activation_57[0][0]              \n",
      "__________________________________________________________________________________________________\n",
      "bn2c_branch2c (BatchNormalizati (None, 8, 8, 256)    1024        res2c_branch2c[0][0]             \n",
      "__________________________________________________________________________________________________\n",
      "add_18 (Add)                    (None, 8, 8, 256)    0           bn2c_branch2c[0][0]              \n",
      "                                                                 activation_55[0][0]              \n",
      "__________________________________________________________________________________________________\n",
      "activation_58 (Activation)      (None, 8, 8, 256)    0           add_18[0][0]                     \n",
      "__________________________________________________________________________________________________\n",
      "res3a_branch2a (Conv2D)         (None, 4, 4, 128)    32896       activation_58[0][0]              \n",
      "__________________________________________________________________________________________________\n",
      "bn3a_branch2a (BatchNormalizati (None, 4, 4, 128)    512         res3a_branch2a[0][0]             \n",
      "__________________________________________________________________________________________________\n",
      "activation_59 (Activation)      (None, 4, 4, 128)    0           bn3a_branch2a[0][0]              \n",
      "__________________________________________________________________________________________________\n",
      "res3a_branch2b (Conv2D)         (None, 4, 4, 128)    147584      activation_59[0][0]              \n",
      "__________________________________________________________________________________________________\n",
      "bn3a_branch2b (BatchNormalizati (None, 4, 4, 128)    512         res3a_branch2b[0][0]             \n",
      "__________________________________________________________________________________________________\n",
      "activation_60 (Activation)      (None, 4, 4, 128)    0           bn3a_branch2b[0][0]              \n",
      "__________________________________________________________________________________________________\n",
      "res3a_branch2c (Conv2D)         (None, 4, 4, 512)    66048       activation_60[0][0]              \n",
      "__________________________________________________________________________________________________\n",
      "res3a_branch1 (Conv2D)          (None, 4, 4, 512)    131584      activation_58[0][0]              \n",
      "__________________________________________________________________________________________________\n",
      "bn3a_branch2c (BatchNormalizati (None, 4, 4, 512)    2048        res3a_branch2c[0][0]             \n",
      "__________________________________________________________________________________________________\n",
      "bn3a_branch1 (BatchNormalizatio (None, 4, 4, 512)    2048        res3a_branch1[0][0]              \n",
      "__________________________________________________________________________________________________\n",
      "add_19 (Add)                    (None, 4, 4, 512)    0           bn3a_branch2c[0][0]              \n",
      "                                                                 bn3a_branch1[0][0]               \n",
      "__________________________________________________________________________________________________\n",
      "activation_61 (Activation)      (None, 4, 4, 512)    0           add_19[0][0]                     \n",
      "__________________________________________________________________________________________________\n",
      "res3b_branch2a (Conv2D)         (None, 4, 4, 128)    65664       activation_61[0][0]              \n",
      "__________________________________________________________________________________________________\n",
      "bn3b_branch2a (BatchNormalizati (None, 4, 4, 128)    512         res3b_branch2a[0][0]             \n",
      "__________________________________________________________________________________________________\n",
      "activation_62 (Activation)      (None, 4, 4, 128)    0           bn3b_branch2a[0][0]              \n",
      "__________________________________________________________________________________________________\n",
      "res3b_branch2b (Conv2D)         (None, 4, 4, 128)    147584      activation_62[0][0]              \n",
      "__________________________________________________________________________________________________\n",
      "bn3b_branch2b (BatchNormalizati (None, 4, 4, 128)    512         res3b_branch2b[0][0]             \n",
      "__________________________________________________________________________________________________\n",
      "activation_63 (Activation)      (None, 4, 4, 128)    0           bn3b_branch2b[0][0]              \n",
      "__________________________________________________________________________________________________\n",
      "res3b_branch2c (Conv2D)         (None, 4, 4, 512)    66048       activation_63[0][0]              \n",
      "__________________________________________________________________________________________________\n",
      "bn3b_branch2c (BatchNormalizati (None, 4, 4, 512)    2048        res3b_branch2c[0][0]             \n",
      "__________________________________________________________________________________________________\n",
      "add_20 (Add)                    (None, 4, 4, 512)    0           bn3b_branch2c[0][0]              \n",
      "                                                                 activation_61[0][0]              \n",
      "__________________________________________________________________________________________________\n",
      "activation_64 (Activation)      (None, 4, 4, 512)    0           add_20[0][0]                     \n",
      "__________________________________________________________________________________________________\n",
      "res3c_branch2a (Conv2D)         (None, 4, 4, 128)    65664       activation_64[0][0]              \n",
      "__________________________________________________________________________________________________\n",
      "bn3c_branch2a (BatchNormalizati (None, 4, 4, 128)    512         res3c_branch2a[0][0]             \n",
      "__________________________________________________________________________________________________\n",
      "activation_65 (Activation)      (None, 4, 4, 128)    0           bn3c_branch2a[0][0]              \n",
      "__________________________________________________________________________________________________\n",
      "res3c_branch2b (Conv2D)         (None, 4, 4, 128)    147584      activation_65[0][0]              \n",
      "__________________________________________________________________________________________________\n",
      "bn3c_branch2b (BatchNormalizati (None, 4, 4, 128)    512         res3c_branch2b[0][0]             \n",
      "__________________________________________________________________________________________________\n",
      "activation_66 (Activation)      (None, 4, 4, 128)    0           bn3c_branch2b[0][0]              \n",
      "__________________________________________________________________________________________________\n",
      "res3c_branch2c (Conv2D)         (None, 4, 4, 512)    66048       activation_66[0][0]              \n",
      "__________________________________________________________________________________________________\n",
      "bn3c_branch2c (BatchNormalizati (None, 4, 4, 512)    2048        res3c_branch2c[0][0]             \n",
      "__________________________________________________________________________________________________\n",
      "add_21 (Add)                    (None, 4, 4, 512)    0           bn3c_branch2c[0][0]              \n",
      "                                                                 activation_64[0][0]              \n",
      "__________________________________________________________________________________________________\n",
      "activation_67 (Activation)      (None, 4, 4, 512)    0           add_21[0][0]                     \n",
      "__________________________________________________________________________________________________\n",
      "res3d_branch2a (Conv2D)         (None, 4, 4, 128)    65664       activation_67[0][0]              \n",
      "__________________________________________________________________________________________________\n",
      "bn3d_branch2a (BatchNormalizati (None, 4, 4, 128)    512         res3d_branch2a[0][0]             \n",
      "__________________________________________________________________________________________________\n",
      "activation_68 (Activation)      (None, 4, 4, 128)    0           bn3d_branch2a[0][0]              \n",
      "__________________________________________________________________________________________________\n",
      "res3d_branch2b (Conv2D)         (None, 4, 4, 128)    147584      activation_68[0][0]              \n",
      "__________________________________________________________________________________________________\n",
      "bn3d_branch2b (BatchNormalizati (None, 4, 4, 128)    512         res3d_branch2b[0][0]             \n",
      "__________________________________________________________________________________________________\n",
      "activation_69 (Activation)      (None, 4, 4, 128)    0           bn3d_branch2b[0][0]              \n",
      "__________________________________________________________________________________________________\n",
      "res3d_branch2c (Conv2D)         (None, 4, 4, 512)    66048       activation_69[0][0]              \n",
      "__________________________________________________________________________________________________\n",
      "bn3d_branch2c (BatchNormalizati (None, 4, 4, 512)    2048        res3d_branch2c[0][0]             \n",
      "__________________________________________________________________________________________________\n",
      "add_22 (Add)                    (None, 4, 4, 512)    0           bn3d_branch2c[0][0]              \n",
      "                                                                 activation_67[0][0]              \n",
      "__________________________________________________________________________________________________\n",
      "activation_70 (Activation)      (None, 4, 4, 512)    0           add_22[0][0]                     \n",
      "__________________________________________________________________________________________________\n",
      "res4a_branch2a (Conv2D)         (None, 2, 2, 256)    131328      activation_70[0][0]              \n",
      "__________________________________________________________________________________________________\n",
      "bn4a_branch2a (BatchNormalizati (None, 2, 2, 256)    1024        res4a_branch2a[0][0]             \n",
      "__________________________________________________________________________________________________\n",
      "activation_71 (Activation)      (None, 2, 2, 256)    0           bn4a_branch2a[0][0]              \n",
      "__________________________________________________________________________________________________\n",
      "res4a_branch2b (Conv2D)         (None, 2, 2, 256)    590080      activation_71[0][0]              \n",
      "__________________________________________________________________________________________________\n",
      "bn4a_branch2b (BatchNormalizati (None, 2, 2, 256)    1024        res4a_branch2b[0][0]             \n",
      "__________________________________________________________________________________________________\n",
      "activation_72 (Activation)      (None, 2, 2, 256)    0           bn4a_branch2b[0][0]              \n",
      "__________________________________________________________________________________________________\n",
      "res4a_branch2c (Conv2D)         (None, 2, 2, 1024)   263168      activation_72[0][0]              \n",
      "__________________________________________________________________________________________________\n",
      "res4a_branch1 (Conv2D)          (None, 2, 2, 1024)   525312      activation_70[0][0]              \n",
      "__________________________________________________________________________________________________\n",
      "bn4a_branch2c (BatchNormalizati (None, 2, 2, 1024)   4096        res4a_branch2c[0][0]             \n",
      "__________________________________________________________________________________________________\n",
      "bn4a_branch1 (BatchNormalizatio (None, 2, 2, 1024)   4096        res4a_branch1[0][0]              \n",
      "__________________________________________________________________________________________________\n",
      "add_23 (Add)                    (None, 2, 2, 1024)   0           bn4a_branch2c[0][0]              \n",
      "                                                                 bn4a_branch1[0][0]               \n",
      "__________________________________________________________________________________________________\n",
      "activation_73 (Activation)      (None, 2, 2, 1024)   0           add_23[0][0]                     \n",
      "__________________________________________________________________________________________________\n",
      "res4b_branch2a (Conv2D)         (None, 2, 2, 256)    262400      activation_73[0][0]              \n",
      "__________________________________________________________________________________________________\n",
      "bn4b_branch2a (BatchNormalizati (None, 2, 2, 256)    1024        res4b_branch2a[0][0]             \n",
      "__________________________________________________________________________________________________\n",
      "activation_74 (Activation)      (None, 2, 2, 256)    0           bn4b_branch2a[0][0]              \n",
      "__________________________________________________________________________________________________\n",
      "res4b_branch2b (Conv2D)         (None, 2, 2, 256)    590080      activation_74[0][0]              \n",
      "__________________________________________________________________________________________________\n",
      "bn4b_branch2b (BatchNormalizati (None, 2, 2, 256)    1024        res4b_branch2b[0][0]             \n",
      "__________________________________________________________________________________________________\n",
      "activation_75 (Activation)      (None, 2, 2, 256)    0           bn4b_branch2b[0][0]              \n",
      "__________________________________________________________________________________________________\n",
      "res4b_branch2c (Conv2D)         (None, 2, 2, 1024)   263168      activation_75[0][0]              \n",
      "__________________________________________________________________________________________________\n",
      "bn4b_branch2c (BatchNormalizati (None, 2, 2, 1024)   4096        res4b_branch2c[0][0]             \n",
      "__________________________________________________________________________________________________\n",
      "add_24 (Add)                    (None, 2, 2, 1024)   0           bn4b_branch2c[0][0]              \n",
      "                                                                 activation_73[0][0]              \n",
      "__________________________________________________________________________________________________\n",
      "activation_76 (Activation)      (None, 2, 2, 1024)   0           add_24[0][0]                     \n",
      "__________________________________________________________________________________________________\n",
      "res4c_branch2a (Conv2D)         (None, 2, 2, 256)    262400      activation_76[0][0]              \n",
      "__________________________________________________________________________________________________\n",
      "bn4c_branch2a (BatchNormalizati (None, 2, 2, 256)    1024        res4c_branch2a[0][0]             \n",
      "__________________________________________________________________________________________________\n",
      "activation_77 (Activation)      (None, 2, 2, 256)    0           bn4c_branch2a[0][0]              \n",
      "__________________________________________________________________________________________________\n",
      "res4c_branch2b (Conv2D)         (None, 2, 2, 256)    590080      activation_77[0][0]              \n",
      "__________________________________________________________________________________________________\n",
      "bn4c_branch2b (BatchNormalizati (None, 2, 2, 256)    1024        res4c_branch2b[0][0]             \n",
      "__________________________________________________________________________________________________\n",
      "activation_78 (Activation)      (None, 2, 2, 256)    0           bn4c_branch2b[0][0]              \n",
      "__________________________________________________________________________________________________\n",
      "res4c_branch2c (Conv2D)         (None, 2, 2, 1024)   263168      activation_78[0][0]              \n",
      "__________________________________________________________________________________________________\n",
      "bn4c_branch2c (BatchNormalizati (None, 2, 2, 1024)   4096        res4c_branch2c[0][0]             \n",
      "__________________________________________________________________________________________________\n",
      "add_25 (Add)                    (None, 2, 2, 1024)   0           bn4c_branch2c[0][0]              \n",
      "                                                                 activation_76[0][0]              \n",
      "__________________________________________________________________________________________________\n",
      "activation_79 (Activation)      (None, 2, 2, 1024)   0           add_25[0][0]                     \n",
      "__________________________________________________________________________________________________\n",
      "res4d_branch2a (Conv2D)         (None, 2, 2, 256)    262400      activation_79[0][0]              \n",
      "__________________________________________________________________________________________________\n",
      "bn4d_branch2a (BatchNormalizati (None, 2, 2, 256)    1024        res4d_branch2a[0][0]             \n",
      "__________________________________________________________________________________________________\n",
      "activation_80 (Activation)      (None, 2, 2, 256)    0           bn4d_branch2a[0][0]              \n",
      "__________________________________________________________________________________________________\n",
      "res4d_branch2b (Conv2D)         (None, 2, 2, 256)    590080      activation_80[0][0]              \n",
      "__________________________________________________________________________________________________\n",
      "bn4d_branch2b (BatchNormalizati (None, 2, 2, 256)    1024        res4d_branch2b[0][0]             \n",
      "__________________________________________________________________________________________________\n",
      "activation_81 (Activation)      (None, 2, 2, 256)    0           bn4d_branch2b[0][0]              \n",
      "__________________________________________________________________________________________________\n",
      "res4d_branch2c (Conv2D)         (None, 2, 2, 1024)   263168      activation_81[0][0]              \n",
      "__________________________________________________________________________________________________\n",
      "bn4d_branch2c (BatchNormalizati (None, 2, 2, 1024)   4096        res4d_branch2c[0][0]             \n",
      "__________________________________________________________________________________________________\n",
      "add_26 (Add)                    (None, 2, 2, 1024)   0           bn4d_branch2c[0][0]              \n",
      "                                                                 activation_79[0][0]              \n",
      "__________________________________________________________________________________________________\n",
      "activation_82 (Activation)      (None, 2, 2, 1024)   0           add_26[0][0]                     \n",
      "__________________________________________________________________________________________________\n",
      "res4e_branch2a (Conv2D)         (None, 2, 2, 256)    262400      activation_82[0][0]              \n",
      "__________________________________________________________________________________________________\n",
      "bn4e_branch2a (BatchNormalizati (None, 2, 2, 256)    1024        res4e_branch2a[0][0]             \n",
      "__________________________________________________________________________________________________\n",
      "activation_83 (Activation)      (None, 2, 2, 256)    0           bn4e_branch2a[0][0]              \n",
      "__________________________________________________________________________________________________\n",
      "res4e_branch2b (Conv2D)         (None, 2, 2, 256)    590080      activation_83[0][0]              \n",
      "__________________________________________________________________________________________________\n",
      "bn4e_branch2b (BatchNormalizati (None, 2, 2, 256)    1024        res4e_branch2b[0][0]             \n",
      "__________________________________________________________________________________________________\n",
      "activation_84 (Activation)      (None, 2, 2, 256)    0           bn4e_branch2b[0][0]              \n",
      "__________________________________________________________________________________________________\n",
      "res4e_branch2c (Conv2D)         (None, 2, 2, 1024)   263168      activation_84[0][0]              \n",
      "__________________________________________________________________________________________________\n",
      "bn4e_branch2c (BatchNormalizati (None, 2, 2, 1024)   4096        res4e_branch2c[0][0]             \n",
      "__________________________________________________________________________________________________\n",
      "add_27 (Add)                    (None, 2, 2, 1024)   0           bn4e_branch2c[0][0]              \n",
      "                                                                 activation_82[0][0]              \n",
      "__________________________________________________________________________________________________\n",
      "activation_85 (Activation)      (None, 2, 2, 1024)   0           add_27[0][0]                     \n",
      "__________________________________________________________________________________________________\n",
      "res4f_branch2a (Conv2D)         (None, 2, 2, 256)    262400      activation_85[0][0]              \n",
      "__________________________________________________________________________________________________\n",
      "bn4f_branch2a (BatchNormalizati (None, 2, 2, 256)    1024        res4f_branch2a[0][0]             \n",
      "__________________________________________________________________________________________________\n",
      "activation_86 (Activation)      (None, 2, 2, 256)    0           bn4f_branch2a[0][0]              \n",
      "__________________________________________________________________________________________________\n",
      "res4f_branch2b (Conv2D)         (None, 2, 2, 256)    590080      activation_86[0][0]              \n",
      "__________________________________________________________________________________________________\n",
      "bn4f_branch2b (BatchNormalizati (None, 2, 2, 256)    1024        res4f_branch2b[0][0]             \n",
      "__________________________________________________________________________________________________\n",
      "activation_87 (Activation)      (None, 2, 2, 256)    0           bn4f_branch2b[0][0]              \n",
      "__________________________________________________________________________________________________\n",
      "res4f_branch2c (Conv2D)         (None, 2, 2, 1024)   263168      activation_87[0][0]              \n",
      "__________________________________________________________________________________________________\n",
      "bn4f_branch2c (BatchNormalizati (None, 2, 2, 1024)   4096        res4f_branch2c[0][0]             \n",
      "__________________________________________________________________________________________________\n",
      "add_28 (Add)                    (None, 2, 2, 1024)   0           bn4f_branch2c[0][0]              \n",
      "                                                                 activation_85[0][0]              \n",
      "__________________________________________________________________________________________________\n",
      "activation_88 (Activation)      (None, 2, 2, 1024)   0           add_28[0][0]                     \n",
      "__________________________________________________________________________________________________\n",
      "res5a_branch2a (Conv2D)         (None, 1, 1, 512)    524800      activation_88[0][0]              \n",
      "__________________________________________________________________________________________________\n",
      "bn5a_branch2a (BatchNormalizati (None, 1, 1, 512)    2048        res5a_branch2a[0][0]             \n",
      "__________________________________________________________________________________________________\n",
      "activation_89 (Activation)      (None, 1, 1, 512)    0           bn5a_branch2a[0][0]              \n",
      "__________________________________________________________________________________________________\n",
      "res5a_branch2b (Conv2D)         (None, 1, 1, 512)    2359808     activation_89[0][0]              \n",
      "__________________________________________________________________________________________________\n",
      "bn5a_branch2b (BatchNormalizati (None, 1, 1, 512)    2048        res5a_branch2b[0][0]             \n",
      "__________________________________________________________________________________________________\n",
      "activation_90 (Activation)      (None, 1, 1, 512)    0           bn5a_branch2b[0][0]              \n",
      "__________________________________________________________________________________________________\n",
      "res5a_branch2c (Conv2D)         (None, 1, 1, 2048)   1050624     activation_90[0][0]              \n",
      "__________________________________________________________________________________________________\n",
      "res5a_branch1 (Conv2D)          (None, 1, 1, 2048)   2099200     activation_88[0][0]              \n",
      "__________________________________________________________________________________________________\n",
      "bn5a_branch2c (BatchNormalizati (None, 1, 1, 2048)   8192        res5a_branch2c[0][0]             \n",
      "__________________________________________________________________________________________________\n",
      "bn5a_branch1 (BatchNormalizatio (None, 1, 1, 2048)   8192        res5a_branch1[0][0]              \n",
      "__________________________________________________________________________________________________\n",
      "add_29 (Add)                    (None, 1, 1, 2048)   0           bn5a_branch2c[0][0]              \n",
      "                                                                 bn5a_branch1[0][0]               \n",
      "__________________________________________________________________________________________________\n",
      "activation_91 (Activation)      (None, 1, 1, 2048)   0           add_29[0][0]                     \n",
      "__________________________________________________________________________________________________\n",
      "res5b_branch2a (Conv2D)         (None, 1, 1, 512)    1049088     activation_91[0][0]              \n",
      "__________________________________________________________________________________________________\n",
      "bn5b_branch2a (BatchNormalizati (None, 1, 1, 512)    2048        res5b_branch2a[0][0]             \n",
      "__________________________________________________________________________________________________\n",
      "activation_92 (Activation)      (None, 1, 1, 512)    0           bn5b_branch2a[0][0]              \n",
      "__________________________________________________________________________________________________\n",
      "res5b_branch2b (Conv2D)         (None, 1, 1, 512)    2359808     activation_92[0][0]              \n",
      "__________________________________________________________________________________________________\n",
      "bn5b_branch2b (BatchNormalizati (None, 1, 1, 512)    2048        res5b_branch2b[0][0]             \n",
      "__________________________________________________________________________________________________\n",
      "activation_93 (Activation)      (None, 1, 1, 512)    0           bn5b_branch2b[0][0]              \n",
      "__________________________________________________________________________________________________\n",
      "res5b_branch2c (Conv2D)         (None, 1, 1, 2048)   1050624     activation_93[0][0]              \n",
      "__________________________________________________________________________________________________\n",
      "bn5b_branch2c (BatchNormalizati (None, 1, 1, 2048)   8192        res5b_branch2c[0][0]             \n",
      "__________________________________________________________________________________________________\n",
      "add_30 (Add)                    (None, 1, 1, 2048)   0           bn5b_branch2c[0][0]              \n",
      "                                                                 activation_91[0][0]              \n",
      "__________________________________________________________________________________________________\n",
      "activation_94 (Activation)      (None, 1, 1, 2048)   0           add_30[0][0]                     \n",
      "__________________________________________________________________________________________________\n",
      "res5c_branch2a (Conv2D)         (None, 1, 1, 512)    1049088     activation_94[0][0]              \n",
      "__________________________________________________________________________________________________\n",
      "bn5c_branch2a (BatchNormalizati (None, 1, 1, 512)    2048        res5c_branch2a[0][0]             \n",
      "__________________________________________________________________________________________________\n",
      "activation_95 (Activation)      (None, 1, 1, 512)    0           bn5c_branch2a[0][0]              \n",
      "__________________________________________________________________________________________________\n",
      "res5c_branch2b (Conv2D)         (None, 1, 1, 512)    2359808     activation_95[0][0]              \n",
      "__________________________________________________________________________________________________\n",
      "bn5c_branch2b (BatchNormalizati (None, 1, 1, 512)    2048        res5c_branch2b[0][0]             \n",
      "__________________________________________________________________________________________________\n",
      "activation_96 (Activation)      (None, 1, 1, 512)    0           bn5c_branch2b[0][0]              \n",
      "__________________________________________________________________________________________________\n",
      "res5c_branch2c (Conv2D)         (None, 1, 1, 2048)   1050624     activation_96[0][0]              \n",
      "__________________________________________________________________________________________________\n",
      "bn5c_branch2c (BatchNormalizati (None, 1, 1, 2048)   8192        res5c_branch2c[0][0]             \n",
      "__________________________________________________________________________________________________\n",
      "add_31 (Add)                    (None, 1, 1, 2048)   0           bn5c_branch2c[0][0]              \n",
      "                                                                 activation_94[0][0]              \n",
      "__________________________________________________________________________________________________\n",
      "activation_97 (Activation)      (None, 1, 1, 2048)   0           add_31[0][0]                     \n",
      "__________________________________________________________________________________________________\n",
      "flatten_3 (Flatten)             (None, 2048)         0           activation_97[0][0]              \n",
      "__________________________________________________________________________________________________\n",
      "dense_7 (Dense)                 (None, 512)          1049088     flatten_3[0][0]                  \n",
      "__________________________________________________________________________________________________\n",
      "dropout_4 (Dropout)             (None, 512)          0           dense_7[0][0]                    \n",
      "__________________________________________________________________________________________________\n",
      "dense_8 (Dense)                 (None, 512)          262656      dropout_4[0][0]                  \n",
      "__________________________________________________________________________________________________\n",
      "dropout_5 (Dropout)             (None, 512)          0           dense_8[0][0]                    \n",
      "__________________________________________________________________________________________________\n",
      "dense_9 (Dense)                 (None, 10)           5130        dropout_5[0][0]                  \n",
      "==================================================================================================\n",
      "Total params: 24,904,586\n",
      "Trainable params: 24,851,466\n",
      "Non-trainable params: 53,120\n",
      "__________________________________________________________________________________________________\n"
     ]
    }
   ],
   "source": [
    "model2 = create_cnn_architecture_model2(input_shape=INPUT_SHAPE_RN)\n",
    "model2.summary()"
   ]
  },
  {
   "cell_type": "markdown",
   "metadata": {},
   "source": [
    "## Reshaping Image Data for Modeling\n",
    "\n",
    "We do need to reshape our data before we train our model. Here we will convert the images to 3-channel images (image pixel tensors) as the ResNet model was originally trained on RGB images"
   ]
  },
  {
   "cell_type": "code",
   "execution_count": 63,
   "metadata": {},
   "outputs": [
    {
     "name": "stdout",
     "output_type": "stream",
     "text": [
      "\n",
      "Train_images.shape: (60000, 28, 28, 3), of uint8\n",
      "Test_images.shape: (10000, 28, 28, 3), of uint8\n"
     ]
    }
   ],
   "source": [
    "train_images_3ch = np.stack([train_images]*3, axis=-1)\n",
    "test_images_3ch = np.stack([test_images]*3, axis=-1)\n",
    "\n",
    "print('\\nTrain_images.shape: {}, of {}'.format(train_images_3ch.shape, train_images_3ch.dtype))\n",
    "print('Test_images.shape: {}, of {}'.format(test_images_3ch.shape, test_images_3ch.dtype))"
   ]
  },
  {
   "cell_type": "markdown",
   "metadata": {},
   "source": [
    "## Resizing Image Data for Modeling\n",
    "\n",
    "The minimum image size expected by the ResNet model is 32x32 so we need to resize our images"
   ]
  },
  {
   "cell_type": "code",
   "execution_count": 64,
   "metadata": {},
   "outputs": [],
   "source": [
    "import cv2\n",
    "\n",
    "def resize_image_array(img, img_size_dims):\n",
    "    img = cv2.resize(img, dsize=img_size_dims, \n",
    "                     interpolation=cv2.INTER_CUBIC)\n",
    "    img = np.array(img, dtype=np.float32)\n",
    "    return img"
   ]
  },
  {
   "cell_type": "code",
   "execution_count": 65,
   "metadata": {},
   "outputs": [
    {
     "name": "stdout",
     "output_type": "stream",
     "text": [
      "\n",
      "Train_images.shape: (60000, 32, 32, 3), of float32\n",
      "Test_images.shape: (10000, 32, 32, 3), of float32\n",
      "CPU times: user 1.48 s, sys: 332 ms, total: 1.81 s\n",
      "Wall time: 1.81 s\n"
     ]
    }
   ],
   "source": [
    "%%time\n",
    "\n",
    "IMG_DIMS = (32, 32)\n",
    "\n",
    "train_images_3ch = np.array([resize_image_array(img, img_size_dims=IMG_DIMS) for img in train_images_3ch])\n",
    "test_images_3ch = np.array([resize_image_array(img, img_size_dims=IMG_DIMS) for img in test_images_3ch])\n",
    "\n",
    "print('\\nTrain_images.shape: {}, of {}'.format(train_images_3ch.shape, train_images_3ch.dtype))\n",
    "print('Test_images.shape: {}, of {}'.format(test_images_3ch.shape, test_images_3ch.dtype))"
   ]
  },
  {
   "cell_type": "markdown",
   "metadata": {},
   "source": [
    "## Model Training\n",
    "\n",
    "Let’s train our model for 10 epochs and look at the performance."
   ]
  },
  {
   "cell_type": "code",
   "execution_count": 66,
   "metadata": {},
   "outputs": [
    {
     "name": "stdout",
     "output_type": "stream",
     "text": [
      "Train on 54000 samples, validate on 6000 samples\n",
      "Epoch 1/10\n",
      "54000/54000 [==============================] - 100s 2ms/sample - loss: 0.5434 - acc: 0.8299 - val_loss: 0.3318 - val_acc: 0.9043\n",
      "Epoch 2/10\n",
      "54000/54000 [==============================] - 92s 2ms/sample - loss: 0.3186 - acc: 0.9024 - val_loss: 5.9477 - val_acc: 0.8462\n",
      "Epoch 3/10\n",
      "54000/54000 [==============================] - 92s 2ms/sample - loss: 0.2859 - acc: 0.9154 - val_loss: 0.3242 - val_acc: 0.9095\n",
      "Epoch 4/10\n",
      "54000/54000 [==============================] - 92s 2ms/sample - loss: 0.2603 - acc: 0.9254 - val_loss: 0.2457 - val_acc: 0.9202\n",
      "Epoch 5/10\n",
      "54000/54000 [==============================] - 92s 2ms/sample - loss: 0.2270 - acc: 0.9312 - val_loss: 0.8902 - val_acc: 0.9070\n",
      "Epoch 6/10\n",
      "54000/54000 [==============================] - 92s 2ms/sample - loss: 0.2135 - acc: 0.9376 - val_loss: 0.2303 - val_acc: 0.9263\n",
      "Epoch 7/10\n",
      "54000/54000 [==============================] - 92s 2ms/sample - loss: 0.1913 - acc: 0.9412 - val_loss: 2.2402 - val_acc: 0.9005\n",
      "Epoch 8/10\n",
      "54000/54000 [==============================] - 92s 2ms/sample - loss: 0.1895 - acc: 0.9447 - val_loss: 7.0202 - val_acc: 0.8890\n",
      "Epoch 9/10\n",
      "54000/54000 [==============================] - 92s 2ms/sample - loss: 0.1783 - acc: 0.9486 - val_loss: 0.3744 - val_acc: 0.9252\n",
      "Epoch 10/10\n",
      "54000/54000 [==============================] - 92s 2ms/sample - loss: 0.1645 - acc: 0.9524 - val_loss: 0.3773 - val_acc: 0.9288\n"
     ]
    },
    {
     "data": {
      "text/plain": [
       "<tensorflow.python.keras.callbacks.History at 0x7fa349325b38>"
      ]
     },
     "execution_count": 66,
     "metadata": {},
     "output_type": "execute_result"
    }
   ],
   "source": [
    "EPOCHS = 10\n",
    "train_images_3ch_scaled = train_images_3ch / 255.\n",
    "model2.fit(train_images_3ch_scaled, train_labels, validation_split=0.1, epochs=EPOCHS)"
   ]
  },
  {
   "cell_type": "markdown",
   "metadata": {},
   "source": [
    "## Save Model Weights"
   ]
  },
  {
   "cell_type": "code",
   "execution_count": 68,
   "metadata": {},
   "outputs": [],
   "source": [
    "if not os.path.isdir('model_weights/'):\n",
    "    os.mkdir('model_weights/')\n",
    "    \n",
    "model2.save_weights(filepath='model_weights/cnn_model2_wt.h5', overwrite=True)"
   ]
  },
  {
   "cell_type": "markdown",
   "metadata": {},
   "source": [
    "## Build Model Architecture and Load Model Weights"
   ]
  },
  {
   "cell_type": "code",
   "execution_count": 71,
   "metadata": {},
   "outputs": [
    {
     "name": "stderr",
     "output_type": "stream",
     "text": [
      "/usr/local/lib/python3.6/site-packages/keras_applications/resnet50.py:265: UserWarning: The output shape of `ResNet50(include_top=False)` has been changed since Keras 2.2.0.\n",
      "  warnings.warn('The output shape of `ResNet50(include_top=False)` '\n"
     ]
    }
   ],
   "source": [
    "model2 = create_cnn_architecture_model2(input_shape=INPUT_SHAPE_RN)\n",
    "model2.load_weights('model_weights/cnn_model2_wt.h5')"
   ]
  },
  {
   "cell_type": "markdown",
   "metadata": {},
   "source": [
    "## Evaluate Model Performance on Test Data"
   ]
  },
  {
   "cell_type": "code",
   "execution_count": 72,
   "metadata": {},
   "outputs": [
    {
     "data": {
      "text/plain": [
       "array([[1.4627905e-27, 3.6521165e-38, 5.0542327e-26, 4.0645336e-28,\n",
       "        1.1671447e-22, 1.9071728e-23, 1.6286052e-23, 6.8305542e-15,\n",
       "        6.2957465e-30, 1.0000000e+00],\n",
       "       [3.1515074e-04, 3.0811125e-07, 9.9435836e-01, 4.6387446e-05,\n",
       "        3.4326417e-03, 2.2274541e-07, 1.8430618e-03, 2.9105793e-06,\n",
       "        3.0699198e-07, 7.2593491e-07],\n",
       "       [0.0000000e+00, 1.0000000e+00, 0.0000000e+00, 0.0000000e+00,\n",
       "        0.0000000e+00, 0.0000000e+00, 0.0000000e+00, 0.0000000e+00,\n",
       "        0.0000000e+00, 0.0000000e+00],\n",
       "       [0.0000000e+00, 1.0000000e+00, 0.0000000e+00, 4.2666166e-37,\n",
       "        0.0000000e+00, 0.0000000e+00, 0.0000000e+00, 0.0000000e+00,\n",
       "        0.0000000e+00, 0.0000000e+00],\n",
       "       [1.0579407e-04, 3.3482966e-13, 1.2689007e-04, 4.4748973e-07,\n",
       "        8.8772045e-05, 2.6224026e-11, 9.9967813e-01, 2.1239790e-10,\n",
       "        3.1385207e-11, 1.7744918e-10]], dtype=float32)"
      ]
     },
     "execution_count": 72,
     "metadata": {},
     "output_type": "execute_result"
    }
   ],
   "source": [
    "test_images_3ch_scaled = test_images_3ch / 255.\n",
    "predictions = model2.predict(test_images_3ch_scaled)\n",
    "predictions[:5]"
   ]
  },
  {
   "cell_type": "code",
   "execution_count": 73,
   "metadata": {},
   "outputs": [
    {
     "data": {
      "text/plain": [
       "array([9, 2, 1, 1, 6])"
      ]
     },
     "execution_count": 73,
     "metadata": {},
     "output_type": "execute_result"
    }
   ],
   "source": [
    "prediction_labels = np.argmax(predictions, axis=1)\n",
    "prediction_labels[:5]"
   ]
  },
  {
   "cell_type": "code",
   "execution_count": 74,
   "metadata": {},
   "outputs": [
    {
     "name": "stdout",
     "output_type": "stream",
     "text": [
      "              precision    recall  f1-score   support\n",
      "\n",
      " T-shirt/top       0.86      0.89      0.87      1000\n",
      "     Trouser       0.99      0.98      0.99      1000\n",
      "    Pullover       0.85      0.92      0.88      1000\n",
      "       Dress       0.93      0.93      0.93      1000\n",
      "        Coat       0.88      0.88      0.88      1000\n",
      "      Sandal       0.99      0.99      0.99      1000\n",
      "       Shirt       0.83      0.74      0.78      1000\n",
      "     Sneaker       0.95      0.99      0.97      1000\n",
      "         Bag       0.98      0.99      0.99      1000\n",
      "  Ankle boot       0.99      0.95      0.97      1000\n",
      "\n",
      "    accuracy                           0.93     10000\n",
      "   macro avg       0.93      0.93      0.92     10000\n",
      "weighted avg       0.93      0.93      0.92     10000\n",
      "\n"
     ]
    },
    {
     "data": {
      "text/html": [
       "<div>\n",
       "<style scoped>\n",
       "    .dataframe tbody tr th:only-of-type {\n",
       "        vertical-align: middle;\n",
       "    }\n",
       "\n",
       "    .dataframe tbody tr th {\n",
       "        vertical-align: top;\n",
       "    }\n",
       "\n",
       "    .dataframe thead th {\n",
       "        text-align: right;\n",
       "    }\n",
       "</style>\n",
       "<table border=\"1\" class=\"dataframe\">\n",
       "  <thead>\n",
       "    <tr style=\"text-align: right;\">\n",
       "      <th></th>\n",
       "      <th>T-shirt/top</th>\n",
       "      <th>Trouser</th>\n",
       "      <th>Pullover</th>\n",
       "      <th>Dress</th>\n",
       "      <th>Coat</th>\n",
       "      <th>Sandal</th>\n",
       "      <th>Shirt</th>\n",
       "      <th>Sneaker</th>\n",
       "      <th>Bag</th>\n",
       "      <th>Ankle boot</th>\n",
       "    </tr>\n",
       "  </thead>\n",
       "  <tbody>\n",
       "    <tr>\n",
       "      <td>T-shirt/top</td>\n",
       "      <td>889</td>\n",
       "      <td>3</td>\n",
       "      <td>22</td>\n",
       "      <td>9</td>\n",
       "      <td>5</td>\n",
       "      <td>0</td>\n",
       "      <td>67</td>\n",
       "      <td>0</td>\n",
       "      <td>5</td>\n",
       "      <td>0</td>\n",
       "    </tr>\n",
       "    <tr>\n",
       "      <td>Trouser</td>\n",
       "      <td>3</td>\n",
       "      <td>983</td>\n",
       "      <td>2</td>\n",
       "      <td>10</td>\n",
       "      <td>0</td>\n",
       "      <td>0</td>\n",
       "      <td>0</td>\n",
       "      <td>0</td>\n",
       "      <td>2</td>\n",
       "      <td>0</td>\n",
       "    </tr>\n",
       "    <tr>\n",
       "      <td>Pullover</td>\n",
       "      <td>12</td>\n",
       "      <td>0</td>\n",
       "      <td>915</td>\n",
       "      <td>12</td>\n",
       "      <td>36</td>\n",
       "      <td>0</td>\n",
       "      <td>23</td>\n",
       "      <td>0</td>\n",
       "      <td>2</td>\n",
       "      <td>0</td>\n",
       "    </tr>\n",
       "    <tr>\n",
       "      <td>Dress</td>\n",
       "      <td>18</td>\n",
       "      <td>2</td>\n",
       "      <td>11</td>\n",
       "      <td>927</td>\n",
       "      <td>26</td>\n",
       "      <td>0</td>\n",
       "      <td>16</td>\n",
       "      <td>0</td>\n",
       "      <td>0</td>\n",
       "      <td>0</td>\n",
       "    </tr>\n",
       "    <tr>\n",
       "      <td>Coat</td>\n",
       "      <td>0</td>\n",
       "      <td>0</td>\n",
       "      <td>55</td>\n",
       "      <td>18</td>\n",
       "      <td>882</td>\n",
       "      <td>0</td>\n",
       "      <td>41</td>\n",
       "      <td>0</td>\n",
       "      <td>4</td>\n",
       "      <td>0</td>\n",
       "    </tr>\n",
       "    <tr>\n",
       "      <td>Sandal</td>\n",
       "      <td>0</td>\n",
       "      <td>0</td>\n",
       "      <td>0</td>\n",
       "      <td>0</td>\n",
       "      <td>0</td>\n",
       "      <td>992</td>\n",
       "      <td>0</td>\n",
       "      <td>8</td>\n",
       "      <td>0</td>\n",
       "      <td>0</td>\n",
       "    </tr>\n",
       "    <tr>\n",
       "      <td>Shirt</td>\n",
       "      <td>115</td>\n",
       "      <td>0</td>\n",
       "      <td>67</td>\n",
       "      <td>20</td>\n",
       "      <td>53</td>\n",
       "      <td>0</td>\n",
       "      <td>738</td>\n",
       "      <td>0</td>\n",
       "      <td>7</td>\n",
       "      <td>0</td>\n",
       "    </tr>\n",
       "    <tr>\n",
       "      <td>Sneaker</td>\n",
       "      <td>0</td>\n",
       "      <td>0</td>\n",
       "      <td>0</td>\n",
       "      <td>0</td>\n",
       "      <td>0</td>\n",
       "      <td>6</td>\n",
       "      <td>0</td>\n",
       "      <td>989</td>\n",
       "      <td>0</td>\n",
       "      <td>5</td>\n",
       "    </tr>\n",
       "    <tr>\n",
       "      <td>Bag</td>\n",
       "      <td>1</td>\n",
       "      <td>0</td>\n",
       "      <td>0</td>\n",
       "      <td>2</td>\n",
       "      <td>0</td>\n",
       "      <td>2</td>\n",
       "      <td>1</td>\n",
       "      <td>3</td>\n",
       "      <td>991</td>\n",
       "      <td>0</td>\n",
       "    </tr>\n",
       "    <tr>\n",
       "      <td>Ankle boot</td>\n",
       "      <td>0</td>\n",
       "      <td>0</td>\n",
       "      <td>1</td>\n",
       "      <td>0</td>\n",
       "      <td>0</td>\n",
       "      <td>7</td>\n",
       "      <td>0</td>\n",
       "      <td>45</td>\n",
       "      <td>0</td>\n",
       "      <td>947</td>\n",
       "    </tr>\n",
       "  </tbody>\n",
       "</table>\n",
       "</div>"
      ],
      "text/plain": [
       "             T-shirt/top  Trouser  Pullover  Dress  Coat  Sandal  Shirt  \\\n",
       "T-shirt/top          889        3        22      9     5       0     67   \n",
       "Trouser                3      983         2     10     0       0      0   \n",
       "Pullover              12        0       915     12    36       0     23   \n",
       "Dress                 18        2        11    927    26       0     16   \n",
       "Coat                   0        0        55     18   882       0     41   \n",
       "Sandal                 0        0         0      0     0     992      0   \n",
       "Shirt                115        0        67     20    53       0    738   \n",
       "Sneaker                0        0         0      0     0       6      0   \n",
       "Bag                    1        0         0      2     0       2      1   \n",
       "Ankle boot             0        0         1      0     0       7      0   \n",
       "\n",
       "             Sneaker  Bag  Ankle boot  \n",
       "T-shirt/top        0    5           0  \n",
       "Trouser            0    2           0  \n",
       "Pullover           0    2           0  \n",
       "Dress              0    0           0  \n",
       "Coat               0    4           0  \n",
       "Sandal             8    0           0  \n",
       "Shirt              0    7           0  \n",
       "Sneaker          989    0           5  \n",
       "Bag                3  991           0  \n",
       "Ankle boot        45    0         947  "
      ]
     },
     "execution_count": 74,
     "metadata": {},
     "output_type": "execute_result"
    }
   ],
   "source": [
    "print(classification_report(test_labels, prediction_labels, target_names=class_names))\n",
    "pd.DataFrame(confusion_matrix(test_labels, prediction_labels), index=class_names, columns=class_names)"
   ]
  },
  {
   "cell_type": "markdown",
   "metadata": {},
   "source": [
    "# Brief TensorFlow Serving Overview\n",
    "\n",
    "For productionizing deep learning or machine learning models, we need a robust system which can help us in making our models serve requests with speed and consistency. TensorFlow Serving is such a framework, which is a flexible, high-performance serving system for machine learning models, designed specifically for production environments.\n",
    "\n",
    "![](https://miro.medium.com/max/478/1*LM8nxisx4VAdC9G82OVtRg.png)\n",
    "\n",
    "The key steps to be followed for serving TensorFlow models are displayed in the following figure.\n",
    "\n",
    "![](https://miro.medium.com/max/805/1*bZJkbwx9Vx5TR38jcmF70Q.png)\n",
    "\n"
   ]
  },
  {
   "cell_type": "markdown",
   "metadata": {},
   "source": [
    "# Saving models for TensorFlow Serving\n",
    "\n",
    "We had briefly discussed this in the model serving methodology. To serve models using TensorFlow Serving, we need to save them into the SavedModel format. Thanks to the very nifty __`tf.saved_model.simple_save(…)`__ function, we can do this within a few lines."
   ]
  },
  {
   "cell_type": "code",
   "execution_count": 77,
   "metadata": {},
   "outputs": [],
   "source": [
    "model1 = create_cnn_architecture_model1(input_shape=INPUT_SHAPE)\n",
    "model1.load_weights('./model_weights/cnn_model1_wt.h5')\n",
    "export_path = './tf_saved_models/1'\n",
    "\n",
    "# Fetch the Keras session and save the model\n",
    "# The signature definition is defined by the input and output tensors\n",
    "# And stored with the default serving key\n",
    "tf.saved_model.simple_save(\n",
    "    keras.backend.get_session(),\n",
    "    export_path,\n",
    "    inputs={'input_image': model1.input},\n",
    "    outputs={t.name:t for t in model1.outputs})"
   ]
  },
  {
   "cell_type": "code",
   "execution_count": 78,
   "metadata": {},
   "outputs": [
    {
     "name": "stderr",
     "output_type": "stream",
     "text": [
      "/usr/local/lib/python3.6/site-packages/keras_applications/resnet50.py:265: UserWarning: The output shape of `ResNet50(include_top=False)` has been changed since Keras 2.2.0.\n",
      "  warnings.warn('The output shape of `ResNet50(include_top=False)` '\n"
     ]
    }
   ],
   "source": [
    "model2 = create_cnn_architecture_model2(input_shape=INPUT_SHAPE_RN)\n",
    "model2.load_weights('./model_weights/cnn_model2_wt.h5')\n",
    "export_path = './tf_saved_models/2'\n",
    "\n",
    "# Fetch the Keras session and save the model\n",
    "# The signature definition is defined by the input and output tensors\n",
    "# And stored with the default serving key\n",
    "tf.saved_model.simple_save(\n",
    "    keras.backend.get_session(),\n",
    "    export_path,\n",
    "    inputs={'input_image': model2.input},\n",
    "    outputs={t.name:t for t in model2.outputs})"
   ]
  },
  {
   "cell_type": "code",
   "execution_count": 83,
   "metadata": {},
   "outputs": [
    {
     "name": "stdout",
     "output_type": "stream",
     "text": [
      ".\n",
      "├── [115K]  Model_Training_Prototypes.ipynb\n",
      "├── [ 97M]  model_weights\n",
      "│   ├── [1.6M]  cnn_model1_wt.h5\n",
      "│   └── [ 95M]  cnn_model2_wt.h5\n",
      "└── [888M]  tf_saved_models\n",
      "    ├── [396M]  1\n",
      "    │   ├── [6.0M]  saved_model.pb\n",
      "    │   └── [390M]  variables\n",
      "    │       ├── [390M]  variables.data-00000-of-00001\n",
      "    │       └── [ 45K]  variables.index\n",
      "    └── [492M]  2\n",
      "        ├── [7.7M]  saved_model.pb\n",
      "        └── [485M]  variables\n",
      "            ├── [485M]  variables.data-00000-of-00001\n",
      "            └── [ 57K]  variables.index\n",
      "\n",
      " 985M used in 6 directories, 9 files\n"
     ]
    }
   ],
   "source": [
    "! tree --du -h ."
   ]
  },
  {
   "cell_type": "code",
   "execution_count": 91,
   "metadata": {},
   "outputs": [
    {
     "name": "stdout",
     "output_type": "stream",
     "text": [
      "\n",
      "MetaGraphDef with tag-set: 'serve' contains the following SignatureDefs:\n",
      "\n",
      "signature_def['serving_default']:\n",
      "  The given SavedModel SignatureDef contains the following input(s):\n",
      "    inputs['input_image'] tensor_info:\n",
      "        dtype: DT_FLOAT\n",
      "        shape: (-1, 32, 32, 3)\n",
      "        name: input_8:0\n",
      "  The given SavedModel SignatureDef contains the following output(s):\n",
      "    outputs['dense_19/Softmax:0'] tensor_info:\n",
      "        dtype: DT_FLOAT\n",
      "        shape: (-1, 10)\n",
      "        name: dense_19/Softmax:0\n",
      "  Method name is: tensorflow/serving/predict\n"
     ]
    }
   ],
   "source": [
    "!export PYTHONWARNINGS=\"ignore\" && saved_model_cli show --dir {'./tf_saved_models/2'} --all"
   ]
  },
  {
   "cell_type": "markdown",
   "metadata": {},
   "source": [
    "# Serving models with CPU Inference\n",
    "\n",
    "In this section, we will show how to serve our saved models using TensorFlow serving leveraging our CPUs. While we do a local installation here, using the docker setup is easiest and recommended using the following command.\n",
    "\n",
    "__`docker pull tensorflow/serving`__"
   ]
  },
  {
   "cell_type": "markdown",
   "metadata": {},
   "source": [
    "## Installing TensorFlow Serving (CPU)\n",
    "\n",
    "In case you don't have TensorFlow Serving installed, you can follow these steps"
   ]
  },
  {
   "cell_type": "code",
   "execution_count": 92,
   "metadata": {},
   "outputs": [
    {
     "name": "stdout",
     "output_type": "stream",
     "text": [
      "deb [arch=amd64] http://storage.googleapis.com/tensorflow-serving-apt stable tensorflow-model-server tensorflow-model-server-universal\n",
      "  % Total    % Received % Xferd  Average Speed   Time    Time     Time  Current\n",
      "                                 Dload  Upload   Total   Spent    Left  Speed\n",
      "100  2943  100  2943    0     0  18435      0 --:--:-- --:--:-- --:--:-- 18509\n",
      "OK\n"
     ]
    }
   ],
   "source": [
    "!echo \"deb [arch=amd64] http://storage.googleapis.com/tensorflow-serving-apt stable tensorflow-model-server tensorflow-model-server-universal\" \\\n",
    "| sudo tee /etc/apt/sources.list.d/tensorflow-serving.list && \\\n",
    "curl https://storage.googleapis.com/tensorflow-serving-apt/tensorflow-serving.release.pub.gpg \\\n",
    "| sudo apt-key add -"
   ]
  },
  {
   "cell_type": "code",
   "execution_count": 93,
   "metadata": {},
   "outputs": [
    {
     "name": "stdout",
     "output_type": "stream",
     "text": [
      "Reading package lists... Done\n",
      "Building dependency tree       \n",
      "Reading state information... Done\n",
      "The following packages will be REMOVED:\n",
      "  tensorflow-model-server\n",
      "0 upgraded, 0 newly installed, 1 to remove and 39 not upgraded.\n",
      "After this operation, 0 B of additional disk space will be used.\n",
      "(Reading database ... 124893 files and directories currently installed.)\n",
      "Removing tensorflow-model-server (1.14.0) ...\n"
     ]
    }
   ],
   "source": [
    "!sudo apt-get -y remove tensorflow-model-server"
   ]
  },
  {
   "cell_type": "code",
   "execution_count": 94,
   "metadata": {},
   "outputs": [
    {
     "name": "stdout",
     "output_type": "stream",
     "text": [
      "Hit:1 http://packages.cloud.google.com/apt cloud-sdk-stretch InRelease\n",
      "Get:2 http://security.debian.org stretch/updates InRelease [94.3 kB]           \n",
      "Hit:3 http://packages.cloud.google.com/apt google-compute-engine-stretch-stable InRelease\n",
      "Ign:4 http://deb.debian.org/debian stretch InRelease                           \n",
      "Hit:5 http://storage.googleapis.com/tensorflow-serving-apt stable InRelease    \n",
      "Get:6 http://deb.debian.org/debian stretch-updates InRelease [91.0 kB]         \n",
      "Hit:7 http://packages.cloud.google.com/apt google-cloud-packages-archive-keyring-stretch InRelease\n",
      "Get:9 http://deb.debian.org/debian stretch-backports InRelease [91.8 kB]       \n",
      "Hit:10 http://deb.debian.org/debian stretch Release           \n",
      "Hit:11 https://nvidia.github.io/libnvidia-container/debian9/amd64  InRelease\n",
      "Hit:12 https://nvidia.github.io/nvidia-container-runtime/debian9/amd64  InRelease\n",
      "Hit:13 https://nvidia.github.io/nvidia-docker/debian9/amd64  InRelease\n",
      "Hit:14 https://deb.nodesource.com/node_11.x stretch InRelease\n",
      "Get:8 https://packages.cloud.google.com/apt kubernetes-xenial InRelease [8,993 B]\n",
      "Hit:15 https://download.docker.com/linux/debian stretch InRelease\n",
      "Get:16 http://security.debian.org stretch/updates/main Sources [212 kB]\n",
      "Get:17 http://security.debian.org stretch/updates/main amd64 Packages [505 kB]\n",
      "Get:18 http://security.debian.org stretch/updates/main Translation-en [226 kB] \n",
      "Get:19 http://deb.debian.org/debian stretch-updates/main Sources.diff/Index [11.6 kB]\n",
      "Get:20 http://deb.debian.org/debian stretch-updates/main amd64 Packages.diff/Index [11.6 kB]\n",
      "Get:21 http://deb.debian.org/debian stretch-updates/main Sources 2019-09-18-2012.01.pdiff [552 B]\n",
      "Get:21 http://deb.debian.org/debian stretch-updates/main Sources 2019-09-18-2012.01.pdiff [552 B]\n",
      "Get:22 http://deb.debian.org/debian stretch-updates/main amd64 Packages 2019-09-18-2012.01.pdiff [337 B]\n",
      "Get:22 http://deb.debian.org/debian stretch-updates/main amd64 Packages 2019-09-18-2012.01.pdiff [337 B]\n",
      "Get:24 https://packages.cloud.google.com/apt kubernetes-xenial/main amd64 Packages [29.7 kB]\n",
      "Fetched 1,283 kB in 1s (1,160 kB/s)                             \n",
      "Reading package lists... Done\n",
      "Reading package lists... Done\n",
      "Building dependency tree       \n",
      "Reading state information... Done\n",
      "The following NEW packages will be installed:\n",
      "  tensorflow-model-server\n",
      "0 upgraded, 1 newly installed, 0 to remove and 41 not upgraded.\n",
      "Need to get 0 B/151 MB of archives.\n",
      "After this operation, 0 B of additional disk space will be used.\n",
      "Selecting previously unselected package tensorflow-model-server.\n",
      "(Reading database ... 124892 files and directories currently installed.)\n",
      "Preparing to unpack .../tensorflow-model-server_1.14.0_all.deb ...\n",
      "Unpacking tensorflow-model-server (1.14.0) ...\n",
      "Setting up tensorflow-model-server (1.14.0) ...\n"
     ]
    }
   ],
   "source": [
    "!sudo apt-get update && sudo apt-get install tensorflow-model-server"
   ]
  },
  {
   "cell_type": "markdown",
   "metadata": {},
   "source": [
    "## Check if TensorFlow Model Server is installed\n",
    "\n",
    "You can directly use __`tensorflow_model_server --version`__ instead of the full path"
   ]
  },
  {
   "cell_type": "code",
   "execution_count": 95,
   "metadata": {},
   "outputs": [
    {
     "name": "stdout",
     "output_type": "stream",
     "text": [
      "TensorFlow ModelServer: 1.14.0-rc0+dev.sha.34d9e85\n",
      "TensorFlow Library: 1.14.0\n"
     ]
    }
   ],
   "source": [
    "!/usr/bin/tensorflow_model_server --version"
   ]
  },
  {
   "cell_type": "markdown",
   "metadata": {},
   "source": [
    "## Start Serving our Deep Learning Models"
   ]
  },
  {
   "cell_type": "code",
   "execution_count": 109,
   "metadata": {},
   "outputs": [],
   "source": [
    "%%bash --bg \n",
    "nohup /usr/bin/tensorflow_model_server \\\n",
    "  --rest_api_port=8501 \\\n",
    "  --model_config_file=\"/home/jupyter/tensorflow_serving/models.conf\" >server.log 2>&1"
   ]
  },
  {
   "cell_type": "code",
   "execution_count": 110,
   "metadata": {},
   "outputs": [
    {
     "name": "stdout",
     "output_type": "stream",
     "text": [
      "2019-09-19 08:07:12.741113: I external/org_tensorflow/tensorflow/contrib/session_bundle/bundle_shim.cc:363] Attempting to load native SavedModelBundle in bundle-shim from: /home/jupyter/tensorflow_serving/tf_saved_models/2\n",
      "2019-09-19 08:07:12.741122: I external/org_tensorflow/tensorflow/cc/saved_model/reader.cc:31] Reading SavedModel from: /home/jupyter/tensorflow_serving/tf_saved_models/2\n",
      "2019-09-19 08:07:12.841283: I tensorflow_serving/core/basic_manager.cc:739] Successfully reserved resources to load servable {name: fashion_model_serving version: 1}\n",
      "2019-09-19 08:07:12.841325: I tensorflow_serving/core/loader_harness.cc:66] Approving load for servable version {name: fashion_model_serving version: 1}\n",
      "2019-09-19 08:07:12.841338: I tensorflow_serving/core/loader_harness.cc:74] Loading servable version {name: fashion_model_serving version: 1}\n",
      "2019-09-19 08:07:12.841357: I external/org_tensorflow/tensorflow/contrib/session_bundle/bundle_shim.cc:363] Attempting to load native SavedModelBundle in bundle-shim from: /home/jupyter/tensorflow_serving/tf_saved_models/1\n",
      "2019-09-19 08:07:12.841366: I external/org_tensorflow/tensorflow/cc/saved_model/reader.cc:31] Reading SavedModel from: /home/jupyter/tensorflow_serving/tf_saved_models/1\n",
      "2019-09-19 08:07:12.868488: I external/org_tensorflow/tensorflow/cc/saved_model/reader.cc:54] Reading meta graph with tags { serve }\n",
      "2019-09-19 08:07:12.979268: I external/org_tensorflow/tensorflow/cc/saved_model/reader.cc:54] Reading meta graph with tags { serve }\n",
      "2019-09-19 08:07:13.124075: I external/org_tensorflow/tensorflow/core/platform/cpu_feature_guard.cc:142] Your CPU supports instructions that this TensorFlow binary was not compiled to use: AVX2 FMA\n"
     ]
    }
   ],
   "source": [
    "!tail server.log"
   ]
  },
  {
   "cell_type": "markdown",
   "metadata": {},
   "source": [
    "## Serving Model Inference Requests"
   ]
  },
  {
   "cell_type": "code",
   "execution_count": 113,
   "metadata": {},
   "outputs": [
    {
     "data": {
      "image/png": "[encoded data removed]",
      "text/plain": [
       "<Figure size 1008x432 with 10 Axes>"
      ]
     },
     "metadata": {
      "needs_background": "light"
     },
     "output_type": "display_data"
    }
   ],
   "source": [
    "sample_test_data = test_images[580:590]\n",
    "sample_test_labels = test_labels[580:590]\n",
    "sample_test_data_processed = np.expand_dims(sample_test_data / 255., axis=3)\n",
    "data = json.dumps({\"signature_name\": \"serving_default\", \n",
    "                   \"instances\": sample_test_data_processed.tolist()})\n",
    "\n",
    "HEADERS = {'content-type': 'application/json'}\n",
    "MODEL1_API_URL = 'http://localhost:8501/v1/models/fashion_model_serving/versions/1:predict'\n",
    "\n",
    "json_response = requests.post(MODEL1_API_URL, data=data, headers=HEADERS)\n",
    "predictions = json.loads(json_response.text)['predictions']\n",
    "predictions = np.argmax(np.array(predictions), axis=1)\n",
    "prediction_labels = [class_names[p] for p in predictions]\n",
    "\n",
    "fig, ax = plt.subplots(2, 5, figsize=(14, 6))\n",
    "for idx, img in enumerate(sample_test_data):\n",
    "    rowidx = idx // 5\n",
    "    colidx = idx % 5\n",
    "    ax[rowidx, colidx].imshow(img)\n",
    "    ax[rowidx, colidx].set_title('Actual: {}\\nPredicted: {}'.format(class_names[sample_test_labels[idx]], \n",
    "                                                                    prediction_labels[idx]), fontsize=10)"
   ]
  },
  {
   "cell_type": "code",
   "execution_count": 114,
   "metadata": {},
   "outputs": [
    {
     "data": {
      "image/png": "[encoded data removed]",
      "text/plain": [
       "<Figure size 1008x432 with 10 Axes>"
      ]
     },
     "metadata": {
      "needs_background": "light"
     },
     "output_type": "display_data"
    }
   ],
   "source": [
    "def resize_image_array(img, img_size_dims):\n",
    "    img = cv2.resize(img, dsize=img_size_dims, \n",
    "                     interpolation=cv2.INTER_CUBIC)\n",
    "    img = np.array(img, dtype=np.float32)\n",
    "    return img\n",
    "\n",
    "sample_test_data = test_images[580:590]\n",
    "sample_test_labels = test_labels[580:590]\n",
    "IMG_DIMS = (32, 32)\n",
    "sample_test_data_processed = (np.array([resize_image_array(img, \n",
    "                                                           img_size_dims=IMG_DIMS) \n",
    "                                            for img in np.stack([sample_test_data]*3, \n",
    "                                                                axis=-1)])) / 255.\n",
    "data = json.dumps({\"signature_name\": \"serving_default\", \n",
    "                   \"instances\": sample_test_data_processed.tolist()})\n",
    "\n",
    "HEADERS = {'content-type': 'application/json'}\n",
    "MODEL2_API_URL = 'http://localhost:8501/v1/models/fashion_model_serving/versions/2:predict'\n",
    "\n",
    "json_response = requests.post(MODEL2_API_URL, data=data, headers=HEADERS)\n",
    "predictions = json.loads(json_response.text)['predictions']\n",
    "predictions = np.argmax(np.array(predictions), axis=1)\n",
    "prediction_labels = [class_names[p] for p in predictions]\n",
    "\n",
    "fig, ax = plt.subplots(2, 5, figsize=(14, 6))\n",
    "for idx, img in enumerate(sample_test_data):\n",
    "    rowidx = idx // 5\n",
    "    colidx = idx % 5\n",
    "    ax[rowidx, colidx].imshow(img)\n",
    "    ax[rowidx, colidx].set_title('Actual: {}\\nPredicted: {}'.format(class_names[sample_test_labels[idx]], \n",
    "                                                                    prediction_labels[idx]), fontsize=10)"
   ]
  },
  {
   "cell_type": "markdown",
   "metadata": {},
   "source": [
    "## Model Warmups\n",
    "\n",
    "While productionizing and serving models, an important thing to remember is that the TensorFlow runtime has components that are lazily initialized, which can cause high latency for the first request(s) sent to a model after it is loaded. This latency can be several orders of magnitude higher than that of a single inference request. Hence it is good to warmup the models by sending a few sample records as an initial request after loading the model. You can do this at model load time by checking out the [following documentation](https://www.tensorflow.org/tfx/serving/saved_model_warmup).\n",
    "\n",
    "Here, we will follow a simple approach of sending a sample request to each of our models to warm it up after it is loaded. For this, we save some sample data in a file which we can load and use later for warming up our models as showcased in the following code."
   ]
  },
  {
   "cell_type": "code",
   "execution_count": 115,
   "metadata": {},
   "outputs": [
    {
     "name": "stdout",
     "output_type": "stream",
     "text": [
      "Model 1 warmup complete\n",
      "Model 2 warmup complete\n"
     ]
    }
   ],
   "source": [
    "np.save('serve_warmup_data.npy', sample_test_data)\n",
    "\n",
    "def warmup_model1_serve(warmup_data):\n",
    "    warmup_data_processed = np.expand_dims(warmup_data / 255., axis=3)\n",
    "    data = json.dumps({\"signature_name\": \"serving_default\", \n",
    "                       \"instances\": warmup_data_processed.tolist()})\n",
    "\n",
    "    HEADERS = {'content-type': 'application/json'}\n",
    "    MODEL1_API_URL = 'http://localhost:8501/v1/models/fashion_model_serving/versions/1:predict'\n",
    "\n",
    "    json_response = requests.post(MODEL1_API_URL, data=data, headers=HEADERS)\n",
    "    predictions = json.loads(json_response.text)['predictions']\n",
    "    print('Model 1 warmup complete')\n",
    "    \n",
    "def warmup_model2_serve(warmup_data, img_dims=(32, 32)):\n",
    "    warmup_data_processed = (np.array([resize_image_array(img, \n",
    "                                                          img_size_dims=img_dims) \n",
    "                                            for img in np.stack([warmup_data]*3, \n",
    "                                                                axis=-1)])) / 255.\n",
    "    data = json.dumps({\"signature_name\": \"serving_default\", \n",
    "                       \"instances\": warmup_data_processed.tolist()})\n",
    "\n",
    "    HEADERS = {'content-type': 'application/json'}\n",
    "    MODEL2_API_URL = 'http://localhost:8501/v1/models/fashion_model_serving/versions/2:predict'\n",
    "\n",
    "    json_response = requests.post(MODEL2_API_URL, data=data, headers=HEADERS)\n",
    "    predictions = json.loads(json_response.text)['predictions']\n",
    "    print('Model 2 warmup complete')\n",
    "    \n",
    "warmup_data = np.load('serve_warmup_data.npy')\n",
    "warmup_model1_serve(warmup_data)\n",
    "warmup_model2_serve(warmup_data)"
   ]
  },
  {
   "cell_type": "markdown",
   "metadata": {},
   "source": [
    "## Benchmarking Model Serving Requests"
   ]
  },
  {
   "cell_type": "code",
   "execution_count": 116,
   "metadata": {},
   "outputs": [
    {
     "name": "stdout",
     "output_type": "stream",
     "text": [
      "CPU times: user 7.64 s, sys: 612 ms, total: 8.26 s\n",
      "Wall time: 9.76 s\n"
     ]
    },
    {
     "data": {
      "text/plain": [
       "10000"
      ]
     },
     "execution_count": 116,
     "metadata": {},
     "output_type": "execute_result"
    }
   ],
   "source": [
    "%%time\n",
    "\n",
    "sample_test_data = test_images\n",
    "sample_test_labels = test_labels\n",
    "sample_test_data_processed = np.expand_dims(sample_test_data / 255., axis=3)\n",
    "data = json.dumps({\"signature_name\": \"serving_default\", \n",
    "                   \"instances\": sample_test_data_processed.tolist()})\n",
    "\n",
    "HEADERS = {'content-type': 'application/json'}\n",
    "MODEL1_API_URL = 'http://localhost:8501/v1/models/fashion_model_serving/versions/1:predict'\n",
    "\n",
    "json_response = requests.post(MODEL1_API_URL, data=data, headers=HEADERS)\n",
    "predictions = json.loads(json_response.text)['predictions']\n",
    "predictions = np.argmax(np.array(predictions), axis=1)\n",
    "prediction_labels = [class_names[p] for p in predictions]\n",
    "len(prediction_labels)"
   ]
  },
  {
   "cell_type": "code",
   "execution_count": 122,
   "metadata": {},
   "outputs": [
    {
     "name": "stdout",
     "output_type": "stream",
     "text": [
      "CPU times: user 21.6 s, sys: 1.38 s, total: 23 s\n",
      "Wall time: 36.4 s\n"
     ]
    },
    {
     "data": {
      "text/plain": [
       "10000"
      ]
     },
     "execution_count": 122,
     "metadata": {},
     "output_type": "execute_result"
    }
   ],
   "source": [
    "%%time\n",
    "\n",
    "sample_test_data = test_images\n",
    "sample_test_labels = test_labels\n",
    "IMG_DIMS = (32, 32)\n",
    "sample_test_data_processed = (np.array([resize_image_array(img, \n",
    "                                                           img_size_dims=IMG_DIMS) \n",
    "                                            for img in np.stack([sample_test_data]*3, \n",
    "                                                                axis=-1)])) / 255.\n",
    "data = json.dumps({\"signature_name\": \"serving_default\", \n",
    "                   \"instances\": sample_test_data_processed.tolist()})\n",
    "\n",
    "HEADERS = {'content-type': 'application/json'}\n",
    "MODEL2_API_URL = 'http://localhost:8501/v1/models/fashion_model_serving/versions/2:predict'\n",
    "\n",
    "json_response = requests.post(MODEL2_API_URL, data=data, headers=HEADERS)\n",
    "predictions = json.loads(json_response.text)['predictions']\n",
    "predictions = np.argmax(np.array(predictions), axis=1)\n",
    "prediction_labels = [class_names[p] for p in predictions]\n",
    "len(prediction_labels)"
   ]
  },
  {
   "cell_type": "markdown",
   "metadata": {},
   "source": [
    "# Serving models with GPU Inference\n",
    "\n",
    "In this section, we will show how to serve our saved models using TensorFlow serving leveraging our GPU. The idea is, if you have a GPU, use it! We will leverage Docker to setup our TensorFlow Serving system."
   ]
  },
  {
   "cell_type": "markdown",
   "metadata": {},
   "source": [
    "## Pulling TF Serving GPU image\n",
    "\n",
    "Assuming you have docker installed in your system or on the cloud. You can using the following code to pull in the latest version of TF Serving on GPUs"
   ]
  },
  {
   "cell_type": "code",
   "execution_count": 146,
   "metadata": {},
   "outputs": [
    {
     "name": "stdout",
     "output_type": "stream",
     "text": [
      "latest-gpu: Pulling from tensorflow/serving\n",
      "Digest: sha256:fd54edb56a7bc72ea0606ed03b7de7d3cfb8a2143e797187555a78b37ff7c49a\n",
      "Status: Image is up to date for tensorflow/serving:latest-gpu\n",
      "docker.io/tensorflow/serving:latest-gpu\n"
     ]
    }
   ],
   "source": [
    "!docker pull tensorflow/serving:latest-gpu"
   ]
  },
  {
   "cell_type": "code",
   "execution_count": 147,
   "metadata": {},
   "outputs": [
    {
     "name": "stdout",
     "output_type": "stream",
     "text": [
      "REPOSITORY                     TAG                 IMAGE ID            CREATED             SIZE\n",
      "nvidia/cuda                    9.0-base            1443caa429f9        3 weeks ago         137MB\n",
      "tensorflow/serving             latest-gpu          b247542eae94        2 months ago        2.42GB\n",
      "gcr.io/inverting-proxy/agent   <none>              81311f835221        4 months ago        856MB\n"
     ]
    }
   ],
   "source": [
    "!docker images"
   ]
  },
  {
   "cell_type": "markdown",
   "metadata": {},
   "source": [
    "## Start Serving Models with Docker TensorFlow Serving GPU\n",
    "\n",
    "We are now ready to start serving models with TF Serving. We will do that by running the docker image we just downloaded. You can do it directly from Jupyter Notebooks also using the following code. In practice it is better to run it from the terminal."
   ]
  },
  {
   "cell_type": "code",
   "execution_count": 148,
   "metadata": {},
   "outputs": [],
   "source": [
    "%%bash --bg \n",
    "docker run --runtime=nvidia -p 8501:8501 \\\n",
    "  --mount type=bind,source=/home/jupyter/tensorflow_serving/tf_saved_models,target=/home/jupyter/tensorflow_serving/tf_saved_models \\\n",
    "  --mount type=bind,source=/home/jupyter/tensorflow_serving/models.conf,target=/home/jupyter/tensorflow_serving/models.conf \\\n",
    "  -t tensorflow/serving:latest-gpu --model_config_file=/home/jupyter/tensorflow_serving/models.conf"
   ]
  },
  {
   "cell_type": "code",
   "execution_count": 149,
   "metadata": {},
   "outputs": [
    {
     "name": "stdout",
     "output_type": "stream",
     "text": [
      "CONTAINER ID        IMAGE                           COMMAND                  CREATED             STATUS              PORTS                              NAMES\n",
      "7d4b091ccefa        tensorflow/serving:latest-gpu   \"/usr/bin/tf_serving…\"   4 seconds ago       Up 2 seconds        8500/tcp, 0.0.0.0:8501->8501/tcp   eager_stallman\n"
     ]
    }
   ],
   "source": [
    "!docker ps -all"
   ]
  },
  {
   "cell_type": "code",
   "execution_count": 150,
   "metadata": {},
   "outputs": [
    {
     "name": "stdout",
     "output_type": "stream",
     "text": [
      "2019-09-19 08:35:10.034464: I external/org_tensorflow/tensorflow/stream_executor/cuda/cuda_gpu_executor.cc:1005] successful NUMA node read from SysFS had negative value (-1), but there must be at least one NUMA node, so returning NUMA node zero\n",
      "2019-09-19 08:35:10.034829: I external/org_tensorflow/tensorflow/stream_executor/cuda/cuda_gpu_executor.cc:1005] successful NUMA node read from SysFS had negative value (-1), but there must be at least one NUMA node, so returning NUMA node zero\n",
      "2019-09-19 08:35:10.035158: I external/org_tensorflow/tensorflow/core/common_runtime/gpu/gpu_device.cc:1326] Created TensorFlow device (/job:localhost/replica:0/task:0/device:GPU:0 with 14099 MB memory) -> physical GPU (device: 0, name: Tesla T4, pci bus id: 0000:00:04.0, compute capability: 7.5)\n",
      "2019-09-19 08:35:10.804575: I external/org_tensorflow/tensorflow/cc/saved_model/loader.cc:202] Restoring SavedModel bundle.\n",
      "2019-09-19 08:35:10.957787: I external/org_tensorflow/tensorflow/cc/saved_model/loader.cc:202] Restoring SavedModel bundle.\n",
      "2019-09-19 08:35:13.245015: I external/org_tensorflow/tensorflow/cc/saved_model/loader.cc:311] SavedModel load for tags { serve }; Status: success. Took 4342053 microseconds.\n",
      "2019-09-19 08:35:13.245111: I tensorflow_serving/servables/tensorflow/saved_model_warmup.cc:103] No warmup data file found at /home/jupyter/tensorflow_serving/tf_saved_models/1/assets.extra/tf_serving_warmup_requests\n",
      "2019-09-19 08:35:13.245252: I tensorflow_serving/core/loader_harness.cc:86] Successfully loaded servable version {name: fashion_model_serving version: 1}\n",
      "2019-09-19 08:35:13.826250: I external/org_tensorflow/tensorflow/cc/saved_model/loader.cc:311] SavedModel load for tags { serve }; Status: success. Took 5023349 microseconds.\n",
      "2019-09-19 08:35:13.826360: I tensorflow_serving/servables/tensorflow/saved_model_warmup.cc:103] No warmup data file found at /home/jupyter/tensorflow_serving/tf_saved_models/2/assets.extra/tf_serving_warmup_requests\n",
      "2019-09-19 08:35:13.826504: I tensorflow_serving/core/loader_harness.cc:86] Successfully loaded servable version {name: fashion_model_serving version: 2}\n",
      "2019-09-19 08:35:13.830110: I tensorflow_serving/model_servers/server.cc:324] Running gRPC ModelServer at 0.0.0.0:8500 ...\n",
      "[warn] getaddrinfo: address family for nodename not supported\n",
      "2019-09-19 08:35:13.833288: I tensorflow_serving/model_servers/server.cc:344] Exporting HTTP/REST API at:localhost:8501 ...\n",
      "[evhttp_server.cc : 239] RAW: Entering the event loop ...\n"
     ]
    }
   ],
   "source": [
    "!docker logs 7d4b091ccefa | tail -n 15"
   ]
  },
  {
   "cell_type": "markdown",
   "metadata": {},
   "source": [
    "## Model Warmup\n",
    "\n",
    "We can leverage our previously implemented code to warmup our models. Here we will focus more on our complex 2nd CNN model so we warmup Model 2."
   ]
  },
  {
   "cell_type": "code",
   "execution_count": 153,
   "metadata": {},
   "outputs": [
    {
     "name": "stdout",
     "output_type": "stream",
     "text": [
      "Model 2 warmup complete\n"
     ]
    }
   ],
   "source": [
    "warmup_data = np.load('serve_warmup_data.npy')\n",
    "warmup_model2_serve(warmup_data)"
   ]
  },
  {
   "cell_type": "markdown",
   "metadata": {},
   "source": [
    "## Benchmarking Model Inference Requests\n",
    "\n",
    "Here we will look at some basic model inference requests and benchmark the serving times"
   ]
  },
  {
   "cell_type": "markdown",
   "metadata": {},
   "source": [
    "### Serving one request of 10000 images"
   ]
  },
  {
   "cell_type": "code",
   "execution_count": 155,
   "metadata": {},
   "outputs": [
    {
     "name": "stdout",
     "output_type": "stream",
     "text": [
      "CPU times: user 23.5 s, sys: 1.87 s, total: 25.3 s\n",
      "Wall time: 31.3 s\n"
     ]
    },
    {
     "data": {
      "text/plain": [
       "10000"
      ]
     },
     "execution_count": 155,
     "metadata": {},
     "output_type": "execute_result"
    }
   ],
   "source": [
    "%%time\n",
    "\n",
    "sample_test_data = test_images\n",
    "sample_test_labels = test_labels\n",
    "IMG_DIMS = (32, 32)\n",
    "sample_test_data_processed = (np.array([resize_image_array(img, \n",
    "                                                           img_size_dims=IMG_DIMS) \n",
    "                                            for img in np.stack([sample_test_data]*3, \n",
    "                                                                axis=-1)])) / 255.\n",
    "data = json.dumps({\"signature_name\": \"serving_default\", \n",
    "                   \"instances\": sample_test_data_processed.tolist()})\n",
    "\n",
    "HEADERS = {'content-type': 'application/json'}\n",
    "MODEL2_API_URL = 'http://localhost:8501/v1/models/fashion_model_serving/versions/2:predict'\n",
    "\n",
    "json_response = requests.post(MODEL2_API_URL, data=data, headers=HEADERS)\n",
    "predictions = json.loads(json_response.text)['predictions']\n",
    "predictions = np.argmax(np.array(predictions), axis=1)\n",
    "prediction_labels = [class_names[p] for p in predictions]\n",
    "len(prediction_labels)"
   ]
  },
  {
   "cell_type": "markdown",
   "metadata": {},
   "source": [
    "### Serving 10000 inference requests each on a single image"
   ]
  },
  {
   "cell_type": "code",
   "execution_count": 156,
   "metadata": {},
   "outputs": [],
   "source": [
    "def predict_apparel_model2_serving(img, img_dims=(32,32), label_map=class_names):\n",
    "    \n",
    "    sample_img_processed = (np.array([resize_image_array(img, \n",
    "                                                         img_size_dims=img_dims) \n",
    "                                                for img in np.stack([[img]]*3, \n",
    "                                                                    axis=-1)])) / 255.\n",
    "    data = json.dumps({\"signature_name\": \"serving_default\", \n",
    "                       \"instances\": sample_img_processed.tolist()})\n",
    "    \n",
    "    HEADERS = {'content-type': 'application/json'}\n",
    "    MODEL2_API_URL = 'http://localhost:8501/v1/models/fashion_model_serving/versions/2:predict'\n",
    "    json_response = requests.post(MODEL2_API_URL, data=data, headers=HEADERS)\n",
    "    prediction = json.loads(json_response.text)['predictions']\n",
    "    prediction = np.argmax(np.array(prediction), axis=1)[0]\n",
    "    return label_map[prediction]"
   ]
  },
  {
   "cell_type": "code",
   "execution_count": 157,
   "metadata": {},
   "outputs": [
    {
     "name": "stderr",
     "output_type": "stream",
     "text": [
      "100%|██████████| 10000/10000 [01:55<00:00, 86.56it/s]"
     ]
    },
    {
     "name": "stdout",
     "output_type": "stream",
     "text": [
      "CPU times: user 39.1 s, sys: 2.2 s, total: 41.3 s\n",
      "Wall time: 1min 55s\n"
     ]
    },
    {
     "name": "stderr",
     "output_type": "stream",
     "text": [
      "\n"
     ]
    },
    {
     "data": {
      "text/plain": [
       "10000"
      ]
     },
     "execution_count": 157,
     "metadata": {},
     "output_type": "execute_result"
    }
   ],
   "source": [
    "%%time\n",
    "\n",
    "pred_labels = []\n",
    "for img in tqdm(test_images):\n",
    "    pred_label = predict_apparel_model2_serving(img)\n",
    "    pred_labels.append(img)\n",
    "len(pred_labels)"
   ]
  },
  {
   "cell_type": "code",
   "execution_count": 158,
   "metadata": {},
   "outputs": [
    {
     "name": "stderr",
     "output_type": "stream",
     "text": [
      "/usr/local/lib/python3.6/site-packages/keras_applications/resnet50.py:265: UserWarning: The output shape of `ResNet50(include_top=False)` has been changed since Keras 2.2.0.\n",
      "  warnings.warn('The output shape of `ResNet50(include_top=False)` '\n"
     ]
    }
   ],
   "source": [
    "INPUT_SHAPE_RN = (32, 32, 3)\n",
    "model2 = create_cnn_architecture_model2(input_shape=INPUT_SHAPE_RN)\n",
    "model2.load_weights('./model_weights/cnn_model2_wt.h5')\n",
    "\n",
    "def predict_apparel_model2_regular(img, img_dims=(32,32), label_map=class_names):\n",
    "    \n",
    "    sample_img_processed = (np.array([resize_image_array(img, \n",
    "                                                         img_size_dims=img_dims) \n",
    "                                                for img in np.stack([[img]]*3, \n",
    "                                                                    axis=-1)])) / 255.\n",
    "    prediction = model2.predict(sample_img_processed)\n",
    "    prediction = np.argmax(np.array(prediction), axis=1)[0]\n",
    "    return label_map[prediction]"
   ]
  },
  {
   "cell_type": "code",
   "execution_count": 159,
   "metadata": {},
   "outputs": [
    {
     "name": "stderr",
     "output_type": "stream",
     "text": [
      "100%|██████████| 10000/10000 [03:04<00:00, 54.12it/s]"
     ]
    },
    {
     "name": "stdout",
     "output_type": "stream",
     "text": [
      "CPU times: user 3min 8s, sys: 17.2 s, total: 3min 25s\n",
      "Wall time: 3min 4s\n"
     ]
    },
    {
     "name": "stderr",
     "output_type": "stream",
     "text": [
      "\n"
     ]
    },
    {
     "data": {
      "text/plain": [
       "10000"
      ]
     },
     "execution_count": 159,
     "metadata": {},
     "output_type": "execute_result"
    }
   ],
   "source": [
    "%%time\n",
    "\n",
    "pred_labels = []\n",
    "for img in tqdm(test_images):\n",
    "    pred_label = predict_apparel_model2_regular(img)\n",
    "    pred_labels.append(img)\n",
    "len(pred_labels)"
   ]
  },
  {
   "cell_type": "markdown",
   "metadata": {},
   "source": [
    "# Bonus: Building an Apparel Classifier API with Flask & TensorFlow Serving\n",
    "\n",
    "While TF Serving is extremely useful and provides us with a high-performance system to serve inference requests. Considering an end-to-end perspective, you might have noticed that model serving is not just dumping some data as requests to the server. We need to access the image data, pre-process it and then send it in an appropriate format to TF Serving. Also once we get back the response, we need to access the class probabilities, get the class with the maximum probability and then get the corresponding apparel class label.\n",
    "\n",
    "The best way to put all these steps together is to leverage a robust framework like Flask to build a web service / API on top of TF Serving to accept images from the real-world, perform necessary pre-processing, call TF Serving, post-process the response and then send the final JSON response to the end-user. Do note that we can even dockerize and deploy the Flask API on Kubernetes or use a WSGI server like Gunicorn to scale and improve performance.\n",
    "\n",
    "![](https://miro.medium.com/max/2344/1*5voGRt_Wk_JCtExZY0_P9g.png)"
   ]
  },
  {
   "cell_type": "markdown",
   "metadata": {},
   "source": [
    "## Start Docker Container for TF Serving\n",
    "\n",
    "Check and restart the docker container for TF Serving if it’s not already up and running."
   ]
  },
  {
   "cell_type": "code",
   "execution_count": 4,
   "metadata": {},
   "outputs": [
    {
     "name": "stdout",
     "output_type": "stream",
     "text": [
      "7d4b091ccefa\n",
      "CONTAINER ID        IMAGE                           COMMAND                  CREATED             STATUS                  PORTS                              NAMES\n",
      "7d4b091ccefa        tensorflow/serving:latest-gpu   \"/usr/bin/tf_serving…\"   About an hour ago   Up Less than a second   8500/tcp, 0.0.0.0:8501->8501/tcp   eager_stallman\n"
     ]
    }
   ],
   "source": [
    "!docker start 7d4b091ccefa\n",
    "!docker ps -all"
   ]
  },
  {
   "cell_type": "code",
   "execution_count": 5,
   "metadata": {},
   "outputs": [
    {
     "name": "stdout",
     "output_type": "stream",
     "text": [
      "2019-09-19 09:54:37.203773: I external/org_tensorflow/tensorflow/stream_executor/cuda/cuda_gpu_executor.cc:1005] successful NUMA node read from SysFS had negative value (-1), but there must be at least one NUMA node, so returning NUMA node zero\n",
      "2019-09-19 09:54:37.204142: I external/org_tensorflow/tensorflow/stream_executor/cuda/cuda_gpu_executor.cc:1005] successful NUMA node read from SysFS had negative value (-1), but there must be at least one NUMA node, so returning NUMA node zero\n",
      "2019-09-19 09:54:37.204498: I external/org_tensorflow/tensorflow/core/common_runtime/gpu/gpu_device.cc:1326] Created TensorFlow device (/job:localhost/replica:0/task:0/device:GPU:0 with 14099 MB memory) -> physical GPU (device: 0, name: Tesla T4, pci bus id: 0000:00:04.0, compute capability: 7.5)\n",
      "2019-09-19 09:54:37.978870: I external/org_tensorflow/tensorflow/cc/saved_model/loader.cc:202] Restoring SavedModel bundle.\n",
      "2019-09-19 09:54:38.131329: I external/org_tensorflow/tensorflow/cc/saved_model/loader.cc:202] Restoring SavedModel bundle.\n",
      "2019-09-19 09:54:40.423499: I external/org_tensorflow/tensorflow/cc/saved_model/loader.cc:311] SavedModel load for tags { serve }; Status: success. Took 5022444 microseconds.\n",
      "2019-09-19 09:54:40.423587: I tensorflow_serving/servables/tensorflow/saved_model_warmup.cc:103] No warmup data file found at /home/jupyter/tensorflow_serving/tf_saved_models/1/assets.extra/tf_serving_warmup_requests\n",
      "2019-09-19 09:54:40.423710: I tensorflow_serving/core/loader_harness.cc:86] Successfully loaded servable version {name: fashion_model_serving version: 1}\n",
      "2019-09-19 09:54:40.996913: I external/org_tensorflow/tensorflow/cc/saved_model/loader.cc:311] SavedModel load for tags { serve }; Status: success. Took 5695993 microseconds.\n",
      "2019-09-19 09:54:40.997014: I tensorflow_serving/servables/tensorflow/saved_model_warmup.cc:103] No warmup data file found at /home/jupyter/tensorflow_serving/tf_saved_models/2/assets.extra/tf_serving_warmup_requests\n",
      "2019-09-19 09:54:40.997172: I tensorflow_serving/core/loader_harness.cc:86] Successfully loaded servable version {name: fashion_model_serving version: 2}\n",
      "2019-09-19 09:54:41.000835: I tensorflow_serving/model_servers/server.cc:324] Running gRPC ModelServer at 0.0.0.0:8500 ...\n",
      "[warn] getaddrinfo: address family for nodename not supported\n",
      "2019-09-19 09:54:41.003865: I tensorflow_serving/model_servers/server.cc:344] Exporting HTTP/REST API at:localhost:8501 ...\n",
      "[evhttp_server.cc : 239] RAW: Entering the event loop ...\n"
     ]
    }
   ],
   "source": [
    "!docker logs 7d4b091ccefa | tail -n 15"
   ]
  },
  {
   "cell_type": "markdown",
   "metadata": {},
   "source": [
    "## Create API with Flask\n",
    "\n",
    "We will start by creating our own apparel API leveraging Flask, you will find the code files in my gist [__`app.py`__](https://gist.github.com/avinash-mishra/67ee6dd4cbc62b48ab490c7e07e8f2d2)"
   ]
  },
  {
   "cell_type": "markdown",
   "metadata": {},
   "source": [
    "## Start our Apparel Classifier Web Service\n",
    "\n",
    "Now, we need to start our web service. In production, it is recommended you do NOT use the default web server provided by Flask but a better production-ready WSGI server, just like Gunicorn. We start our web service using the following command from the terminal.\n",
    "\n",
    "![](https://miro.medium.com/max/1273/1*m_cdBBSFmF1mHc0bJsLdzQ.png)"
   ]
  },
  {
   "cell_type": "markdown",
   "metadata": {},
   "source": [
    "## Test if API is Live"
   ]
  },
  {
   "cell_type": "code",
   "execution_count": 53,
   "metadata": {},
   "outputs": [
    {
     "data": {
      "text/plain": [
       "(200, 'API Live!')"
      ]
     },
     "execution_count": 53,
     "metadata": {},
     "output_type": "execute_result"
    }
   ],
   "source": [
    "r = requests.get('http://0.0.0.0:5000/apparel_classifier/api/v1/liveness')\n",
    "r.status_code, r.text"
   ]
  },
  {
   "cell_type": "markdown",
   "metadata": {},
   "source": [
    "## Load a real-world Image"
   ]
  },
  {
   "cell_type": "code",
   "execution_count": 54,
   "metadata": {},
   "outputs": [
    {
     "data": {
      "text/plain": [
       "<matplotlib.image.AxesImage at 0x7f2ac43b8278>"
      ]
     },
     "execution_count": 54,
     "metadata": {},
     "output_type": "execute_result"
    },
    {
     "data": {
      "image/png": "[encoded data removed]",
      "text/plain": [
       "<Figure size 432x288 with 1 Axes>"
      ]
     },
     "metadata": {
      "needs_background": "light"
     },
     "output_type": "display_data"
    }
   ],
   "source": [
    "plt.imshow(cv2.cvtColor(cv2.imread('sneaker.jpg'), cv2.COLOR_BGR2RGB))"
   ]
  },
  {
   "cell_type": "markdown",
   "metadata": {},
   "source": [
    "## Serve Sample Apparel Classification with Web Service"
   ]
  },
  {
   "cell_type": "code",
   "execution_count": 55,
   "metadata": {},
   "outputs": [
    {
     "data": {
      "text/plain": [
       "{'apparel_type': 'Sneaker'}"
      ]
     },
     "execution_count": 55,
     "metadata": {},
     "output_type": "execute_result"
    }
   ],
   "source": [
    "import base64\n",
    "import requests \n",
    "\n",
    "with open('sneaker.jpg', \"rb\") as imageFile:\n",
    "    img_b64enc = base64.b64encode(imageFile.read())\n",
    "    data = {'b64_img': img_b64enc}\n",
    "\n",
    "API_URL = 'http://0.0.0.0:5000/apparel_classifier/api/v1/model2_predict'\n",
    "# sending post request and saving response as response object\n",
    "r = requests.post(url=API_URL, data=data)\n",
    "r.json()"
   ]
  },
  {
   "cell_type": "markdown",
   "metadata": {},
   "source": [
    "## Benchmark our Web Service"
   ]
  },
  {
   "cell_type": "code",
   "execution_count": 58,
   "metadata": {},
   "outputs": [
    {
     "name": "stderr",
     "output_type": "stream",
     "text": [
      "100%|██████████| 10000/10000 [05:26<00:00, 30.66it/s]"
     ]
    },
    {
     "name": "stdout",
     "output_type": "stream",
     "text": [
      "CPU times: user 1min, sys: 3.17 s, total: 1min 4s\n",
      "Wall time: 5min 26s\n"
     ]
    },
    {
     "name": "stderr",
     "output_type": "stream",
     "text": [
      "\n"
     ]
    },
    {
     "data": {
      "text/plain": [
       "10000"
      ]
     },
     "execution_count": 58,
     "metadata": {},
     "output_type": "execute_result"
    }
   ],
   "source": [
    "%%time\n",
    "\n",
    "responses = []\n",
    "for i in tqdm(range(10000)):\n",
    "    API_URL = 'http://0.0.0.0:5000/apparel_classifier/api/v1/model2_predict'\n",
    "    # sending post request and saving response as response object\n",
    "    r = requests.post(url=API_URL, data=data)\n",
    "    responses.append(r.json())\n",
    "len(responses)"
   ]
  },
  {
   "cell_type": "code",
   "execution_count": 61,
   "metadata": {},
   "outputs": [
    {
     "name": "stdout",
     "output_type": "stream",
     "text": [
      "Inference time per image: 32.599999999999994 ms\n"
     ]
    }
   ],
   "source": [
    "print('Inference time per image: {} ms'.format((326 / 10000) * 1000)) "
   ]
  }
 ],
 "metadata": {
  "kernelspec": {
   "display_name": "Python 3",
   "language": "python",
   "name": "python3"
  },
  "language_info": {
   "codemirror_mode": {
    "name": "ipython",
    "version": 3
   },
   "file_extension": ".py",
   "mimetype": "text/x-python",
   "name": "python",
   "nbconvert_exporter": "python",
   "pygments_lexer": "ipython3",
   "version": "3.6.5"
  }
 },
 "nbformat": 4,
 "nbformat_minor": 4
}