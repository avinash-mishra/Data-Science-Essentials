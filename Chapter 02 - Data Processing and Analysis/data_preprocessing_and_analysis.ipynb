{
  "nbformat": 4,
  "nbformat_minor": 0,
  "metadata": {
    "kernelspec": {
      "name": "python3",
      "display_name": "Python 3"
    },
    "language_info": {
      "codemirror_mode": {
        "name": "ipython",
        "version": 3
      },
      "file_extension": ".py",
      "mimetype": "text/x-python",
      "name": "python",
      "nbconvert_exporter": "python",
      "pygments_lexer": "ipython3",
      "version": "3.6.8"
    },
    "colab": {
      "name": "data_preprocessing_and_analysis.ipynb",
      "provenance": []
    },
    "accelerator": "GPU"
  },
  "cells": [
    {
      "cell_type": "markdown",
      "metadata": {
        "id": "D4mfB5aNV4iv",
        "colab_type": "text"
      },
      "source": [
        "# Data Processing and Analysis\n",
        "\n",
        "Data Processing is the most important and most time consuming component of the overall lifecycle of any Machine Learning project. \n",
        "\n",
        "In this notebook, we will analyze a dummy dataset to understand different issues we face with real world datasets and steps to handle the same."
      ]
    },
    {
      "cell_type": "markdown",
      "metadata": {
        "id": "_zbobieHWJtz",
        "colab_type": "text"
      },
      "source": [
        "## Utilities\n",
        "\n",
        "We add in some utility functions here which we will be using across this notebook. We have also packaged it into a `utils.py` file which you can use offline. Since we will be using colab for the tutorials, we add in all the functions in the same notebook to save the hassle of file uploads and drive connects"
      ]
    },
    {
      "cell_type": "code",
      "metadata": {
        "id": "bnAJjlj3Wb8c",
        "colab_type": "code",
        "colab": {}
      },
      "source": [
        "import datetime\n",
        "import random\n",
        "from random import randrange\n",
        "import numpy as np\n",
        "import pandas as pd\n",
        "\n",
        "\n",
        "def _random_date(start,date_count):\n",
        "    \"\"\"This function generates a random date based on params\n",
        "    Args:\n",
        "        start (date object): the base date\n",
        "        date_count (int): number of dates to be generated\n",
        "    Returns:\n",
        "        list of random dates\n",
        "\n",
        "    \"\"\"\n",
        "    current = start\n",
        "    while date_count > 0:\n",
        "        curr = current + datetime.timedelta(days=randrange(42))\n",
        "        yield curr\n",
        "        date_count-=1\n",
        "        \n",
        "        \n",
        "\n",
        "def generate_sample_data(row_count=100):\n",
        "    \"\"\"This function generates a random transaction dataset\n",
        "    Args:\n",
        "        row_count (int): number of rows for the dataframe\n",
        "    Returns:\n",
        "        a pandas dataframe\n",
        "\n",
        "    \"\"\"\n",
        "\n",
        "    # sentinels\n",
        "    startDate = datetime.datetime(2016, 1, 1, 13)\n",
        "    serial_number_sentinel = 1000\n",
        "    user_id_sentinel = 5001\n",
        "    product_id_sentinel = 101\n",
        "    price_sentinel = 2000\n",
        "\n",
        "    # base list of attributes\n",
        "    data_dict = {\n",
        "        'Serial No':\n",
        "        np.arange(row_count) + serial_number_sentinel,\n",
        "        'Date':\n",
        "        np.random.permutation(\n",
        "            pd.to_datetime([\n",
        "                x.strftime(\"%d-%m-%Y\")\n",
        "                for x in _random_date(startDate, row_count)\n",
        "            ]).date),\n",
        "        'User ID':\n",
        "        np.random.permutation(\n",
        "            np.random.randint(0, row_count, size=int(row_count / 10)) +\n",
        "            user_id_sentinel).tolist() * 10,\n",
        "        'Product ID':\n",
        "        np.random.permutation(\n",
        "            np.random.randint(0, row_count, size=int(row_count / 10)) +\n",
        "            product_id_sentinel).tolist() * 10,\n",
        "        'Quantity Purchased':\n",
        "        np.random.permutation(np.random.randint(1, 42, size=row_count)),\n",
        "        'Price':\n",
        "        np.round(\n",
        "            np.abs(np.random.randn(row_count) + 1) * price_sentinel,\n",
        "            decimals=2),\n",
        "        'User Type':\n",
        "        np.random.permutation(\n",
        "            [chr(random.randrange(97, 97 + 3 + 1)) for i in range(row_count)])\n",
        "    }\n",
        "\n",
        "    # introduce missing values\n",
        "    for index in range(int(np.sqrt(row_count))):\n",
        "        data_dict['Price'][np.argmax(\n",
        "            data_dict['Price'] == random.choice(data_dict['Price']))] = np.nan\n",
        "        data_dict['User Type'][np.argmax(\n",
        "            data_dict['User Type'] == random.choice(\n",
        "                data_dict['User Type']))] = np.nan\n",
        "        data_dict['Date'][np.argmax(\n",
        "            data_dict['Date'] == random.choice(data_dict['Date']))] = np.nan\n",
        "        data_dict['Product ID'][np.argmax(data_dict['Product ID'] == random.\n",
        "                                          choice(data_dict['Product ID']))] = 0\n",
        "        data_dict['Serial No'][np.argmax(data_dict['Serial No'] == random.\n",
        "                                         choice(data_dict['Serial No']))] = -1\n",
        "        data_dict['User ID'][np.argmax(data_dict['User ID'] == random.choice(\n",
        "            data_dict['User ID']))] = -101\n",
        "\n",
        "    # create data frame\n",
        "    df = pd.DataFrame(data_dict)\n",
        "\n",
        "    return df"
      ],
      "execution_count": 0,
      "outputs": []
    },
    {
      "cell_type": "markdown",
      "metadata": {
        "id": "6G3lFubNV4ix",
        "colab_type": "text"
      },
      "source": [
        "## Import Dependencies"
      ]
    },
    {
      "cell_type": "code",
      "metadata": {
        "ExecuteTime": {
          "start_time": "2019-11-15T14:02:30.113Z"
        },
        "id": "hj1nhjQhV4iy",
        "colab_type": "code",
        "colab": {}
      },
      "source": [
        "# import required libraries\n",
        "import numpy as np\n",
        "import pandas as pd\n",
        "from IPython.display import display\n",
        "from sklearn import preprocessing\n",
        "\n",
        "pd.options.mode.chained_assignment = None"
      ],
      "execution_count": 0,
      "outputs": []
    },
    {
      "cell_type": "markdown",
      "metadata": {
        "id": "ZpSyKkAVV4i0",
        "colab_type": "text"
      },
      "source": [
        "## Generate Dataset\n",
        "\n",
        "+ Question: Generate 1000 sample rows"
      ]
    },
    {
      "cell_type": "code",
      "metadata": {
        "ExecuteTime": {
          "start_time": "2019-11-15T14:02:30.205Z"
        },
        "id": "EmPoVwXxV4i1",
        "colab_type": "code",
        "colab": {
          "base_uri": "https://localhost:8080/",
          "height": 33
        },
        "outputId": "0c3f6fb7-52b7-45a6-f0d0-34dda0678646"
      },
      "source": [
        "## Generate a dataset with 1000 rows\n",
        "df = generate_sample_data(row_count=1000)\n",
        "df.shape"
      ],
      "execution_count": 4,
      "outputs": [
        {
          "output_type": "execute_result",
          "data": {
            "text/plain": [
              "(1000, 7)"
            ]
          },
          "metadata": {
            "tags": []
          },
          "execution_count": 4
        }
      ]
    },
    {
      "cell_type": "markdown",
      "metadata": {
        "id": "z9VOI1JLV4i3",
        "colab_type": "text"
      },
      "source": [
        "### Analyze generated Dataset"
      ]
    },
    {
      "cell_type": "code",
      "metadata": {
        "ExecuteTime": {
          "start_time": "2019-11-15T14:02:30.213Z"
        },
        "id": "AbFMdnSTV4i3",
        "colab_type": "code",
        "colab": {
          "base_uri": "https://localhost:8080/",
          "height": 196
        },
        "outputId": "2c9ab654-75d8-4cb0-d7fb-b63104d2e9a5"
      },
      "source": [
        "df.head()"
      ],
      "execution_count": 5,
      "outputs": [
        {
          "output_type": "execute_result",
          "data": {
            "text/html": [
              "<div>\n",
              "<style scoped>\n",
              "    .dataframe tbody tr th:only-of-type {\n",
              "        vertical-align: middle;\n",
              "    }\n",
              "\n",
              "    .dataframe tbody tr th {\n",
              "        vertical-align: top;\n",
              "    }\n",
              "\n",
              "    .dataframe thead th {\n",
              "        text-align: right;\n",
              "    }\n",
              "</style>\n",
              "<table border=\"1\" class=\"dataframe\">\n",
              "  <thead>\n",
              "    <tr style=\"text-align: right;\">\n",
              "      <th></th>\n",
              "      <th>Serial No</th>\n",
              "      <th>Date</th>\n",
              "      <th>User ID</th>\n",
              "      <th>Product ID</th>\n",
              "      <th>Quantity Purchased</th>\n",
              "      <th>Price</th>\n",
              "      <th>User Type</th>\n",
              "    </tr>\n",
              "  </thead>\n",
              "  <tbody>\n",
              "    <tr>\n",
              "      <th>0</th>\n",
              "      <td>1000</td>\n",
              "      <td>2016-05-01</td>\n",
              "      <td>-101</td>\n",
              "      <td>0</td>\n",
              "      <td>8</td>\n",
              "      <td>NaN</td>\n",
              "      <td>n</td>\n",
              "    </tr>\n",
              "    <tr>\n",
              "      <th>1</th>\n",
              "      <td>-1</td>\n",
              "      <td>2016-09-01</td>\n",
              "      <td>5362</td>\n",
              "      <td>375</td>\n",
              "      <td>32</td>\n",
              "      <td>2698.38</td>\n",
              "      <td>n</td>\n",
              "    </tr>\n",
              "    <tr>\n",
              "      <th>2</th>\n",
              "      <td>1002</td>\n",
              "      <td>NaN</td>\n",
              "      <td>5022</td>\n",
              "      <td>419</td>\n",
              "      <td>39</td>\n",
              "      <td>426.02</td>\n",
              "      <td>n</td>\n",
              "    </tr>\n",
              "    <tr>\n",
              "      <th>3</th>\n",
              "      <td>1003</td>\n",
              "      <td>2016-01-25</td>\n",
              "      <td>5811</td>\n",
              "      <td>219</td>\n",
              "      <td>6</td>\n",
              "      <td>4047.37</td>\n",
              "      <td>n</td>\n",
              "    </tr>\n",
              "    <tr>\n",
              "      <th>4</th>\n",
              "      <td>1004</td>\n",
              "      <td>2016-11-02</td>\n",
              "      <td>5403</td>\n",
              "      <td>158</td>\n",
              "      <td>9</td>\n",
              "      <td>1171.53</td>\n",
              "      <td>n</td>\n",
              "    </tr>\n",
              "  </tbody>\n",
              "</table>\n",
              "</div>"
            ],
            "text/plain": [
              "   Serial No        Date  User ID  ...  Quantity Purchased    Price  User Type\n",
              "0       1000  2016-05-01     -101  ...                   8      NaN          n\n",
              "1         -1  2016-09-01     5362  ...                  32  2698.38          n\n",
              "2       1002         NaN     5022  ...                  39   426.02          n\n",
              "3       1003  2016-01-25     5811  ...                   6  4047.37          n\n",
              "4       1004  2016-11-02     5403  ...                   9  1171.53          n\n",
              "\n",
              "[5 rows x 7 columns]"
            ]
          },
          "metadata": {
            "tags": []
          },
          "execution_count": 5
        }
      ]
    },
    {
      "cell_type": "markdown",
      "metadata": {
        "id": "2TIezuylV4i5",
        "colab_type": "text"
      },
      "source": [
        "### Dataframe Stats\n",
        "\n",
        "Determine the following:\n",
        "\n",
        "* The number of data points (rows). (*Hint:* check out the dataframe `.shape` attribute.)\n",
        "* The column names. (*Hint:* check out the dataframe `.columns` attribute.)\n",
        "* The data types for each column. (*Hint:* check out the dataframe `.dtypes` attribute.)"
      ]
    },
    {
      "cell_type": "code",
      "metadata": {
        "ExecuteTime": {
          "start_time": "2019-11-15T14:02:30.220Z"
        },
        "id": "dUj0WEAeV4i6",
        "colab_type": "code",
        "colab": {
          "base_uri": "https://localhost:8080/",
          "height": 33
        },
        "outputId": "41749dee-2d32-4a2d-caab-b625748fb187"
      },
      "source": [
        "print(\"Number of rows::\",df.shape[0])"
      ],
      "execution_count": 6,
      "outputs": [
        {
          "output_type": "stream",
          "text": [
            "Number of rows:: 1000\n"
          ],
          "name": "stdout"
        }
      ]
    },
    {
      "cell_type": "markdown",
      "metadata": {
        "id": "hK32tYiDV4i7",
        "colab_type": "text"
      },
      "source": [
        "### Question\n",
        "+ Get the number of columns"
      ]
    },
    {
      "cell_type": "code",
      "metadata": {
        "ExecuteTime": {
          "start_time": "2019-11-15T14:02:30.226Z"
        },
        "id": "VDGc8jGcV4i8",
        "colab_type": "code",
        "colab": {
          "base_uri": "https://localhost:8080/",
          "height": 33
        },
        "outputId": "a67923f8-4adc-4341-c241-4c67ebe5d138"
      },
      "source": [
        "print(\"Number of columns::\",df.shape[1])"
      ],
      "execution_count": 7,
      "outputs": [
        {
          "output_type": "stream",
          "text": [
            "Number of columns:: 7\n"
          ],
          "name": "stdout"
        }
      ]
    },
    {
      "cell_type": "code",
      "metadata": {
        "ExecuteTime": {
          "start_time": "2019-11-15T14:02:30.228Z"
        },
        "id": "E3BB40qBV4i9",
        "colab_type": "code",
        "colab": {
          "base_uri": "https://localhost:8080/",
          "height": 33
        },
        "outputId": "9f7e8af3-a7c2-4dbd-ec9f-2c4e4cf7c382"
      },
      "source": [
        "print(\"Column Names::\",df.columns.values.tolist())"
      ],
      "execution_count": 8,
      "outputs": [
        {
          "output_type": "stream",
          "text": [
            "Column Names:: ['Serial No', 'Date', 'User ID', 'Product ID', 'Quantity Purchased', 'Price', 'User Type']\n"
          ],
          "name": "stdout"
        }
      ]
    },
    {
      "cell_type": "code",
      "metadata": {
        "ExecuteTime": {
          "start_time": "2019-11-15T14:02:30.230Z"
        },
        "id": "EgWKounbV4i_",
        "colab_type": "code",
        "colab": {
          "base_uri": "https://localhost:8080/",
          "height": 167
        },
        "outputId": "8ed77b9b-9b83-42a6-ff7d-46ad4f6d3ac4"
      },
      "source": [
        "print(\"Column Data Types::\\n\",df.dtypes)"
      ],
      "execution_count": 9,
      "outputs": [
        {
          "output_type": "stream",
          "text": [
            "Column Data Types::\n",
            " Serial No               int64\n",
            "Date                   object\n",
            "User ID                 int64\n",
            "Product ID              int64\n",
            "Quantity Purchased      int64\n",
            "Price                 float64\n",
            "User Type              object\n",
            "dtype: object\n"
          ],
          "name": "stdout"
        }
      ]
    },
    {
      "cell_type": "code",
      "metadata": {
        "ExecuteTime": {
          "start_time": "2019-11-15T14:02:30.231Z"
        },
        "id": "_al94gw1V4jB",
        "colab_type": "code",
        "colab": {
          "base_uri": "https://localhost:8080/",
          "height": 33
        },
        "outputId": "222ec914-e183-48f5-b0d0-b4b1d02a858e"
      },
      "source": [
        "print(\"Columns with Missing Values::\",df.columns[df.isnull().any()].tolist())"
      ],
      "execution_count": 10,
      "outputs": [
        {
          "output_type": "stream",
          "text": [
            "Columns with Missing Values:: ['Date', 'Price']\n"
          ],
          "name": "stdout"
        }
      ]
    },
    {
      "cell_type": "code",
      "metadata": {
        "ExecuteTime": {
          "start_time": "2019-11-15T14:02:30.233Z"
        },
        "id": "je1JCRB3V4jC",
        "colab_type": "code",
        "colab": {
          "base_uri": "https://localhost:8080/",
          "height": 87
        },
        "outputId": "55e508cb-b04e-4208-fefe-3bdb5bfa0f24"
      },
      "source": [
        "print(\"Number of rows with Missing Values::\",len(pd.isnull(df).any(1).nonzero()[0].tolist()))"
      ],
      "execution_count": 11,
      "outputs": [
        {
          "output_type": "stream",
          "text": [
            "Number of rows with Missing Values:: 60\n"
          ],
          "name": "stdout"
        },
        {
          "output_type": "stream",
          "text": [
            "/usr/local/lib/python3.6/dist-packages/ipykernel_launcher.py:1: FutureWarning: Series.nonzero() is deprecated and will be removed in a future version.Use Series.to_numpy().nonzero() instead\n",
            "  \"\"\"Entry point for launching an IPython kernel.\n"
          ],
          "name": "stderr"
        }
      ]
    },
    {
      "cell_type": "markdown",
      "metadata": {
        "id": "XtqgVRPlV4jE",
        "colab_type": "text"
      },
      "source": [
        "#### General Stats"
      ]
    },
    {
      "cell_type": "code",
      "metadata": {
        "ExecuteTime": {
          "start_time": "2019-11-15T14:02:30.239Z"
        },
        "id": "DgsXws4HV4jE",
        "colab_type": "code",
        "colab": {
          "base_uri": "https://localhost:8080/",
          "height": 234
        },
        "outputId": "60e98759-3692-49c2-addd-c9b052c4220c"
      },
      "source": [
        "print(df.info())"
      ],
      "execution_count": 12,
      "outputs": [
        {
          "output_type": "stream",
          "text": [
            "<class 'pandas.core.frame.DataFrame'>\n",
            "RangeIndex: 1000 entries, 0 to 999\n",
            "Data columns (total 7 columns):\n",
            "Serial No             1000 non-null int64\n",
            "Date                  969 non-null object\n",
            "User ID               1000 non-null int64\n",
            "Product ID            1000 non-null int64\n",
            "Quantity Purchased    1000 non-null int64\n",
            "Price                 969 non-null float64\n",
            "User Type             1000 non-null object\n",
            "dtypes: float64(1), int64(4), object(2)\n",
            "memory usage: 54.8+ KB\n",
            "None\n"
          ],
          "name": "stdout"
        }
      ]
    },
    {
      "cell_type": "code",
      "metadata": {
        "ExecuteTime": {
          "start_time": "2019-11-15T14:02:30.241Z"
        },
        "id": "5PYXAzYUV4jG",
        "colab_type": "code",
        "colab": {
          "base_uri": "https://localhost:8080/",
          "height": 167
        },
        "outputId": "5e724f9e-1b89-40f0-d36b-928711b3afba"
      },
      "source": [
        "print(df.describe())"
      ],
      "execution_count": 13,
      "outputs": [
        {
          "output_type": "stream",
          "text": [
            "         Serial No      User ID   Product ID  Quantity Purchased        Price\n",
            "count  1000.000000  1000.000000  1000.000000         1000.000000   969.000000\n",
            "mean   1454.778000  5423.365000   591.819000           20.538000  2348.003581\n",
            "std     383.426818   331.940079   304.103468           11.758181  1637.761952\n",
            "min      -1.000000  -101.000000     0.000000            1.000000     4.240000\n",
            "25%    1225.750000  5176.000000   294.000000           11.000000   969.560000\n",
            "50%    1483.500000  5401.000000   536.000000           20.000000  2112.670000\n",
            "75%    1743.250000  5672.250000   883.000000           30.250000  3447.960000\n",
            "max    1999.000000  5968.000000  1087.000000           41.000000  9393.630000\n"
          ],
          "name": "stdout"
        }
      ]
    },
    {
      "cell_type": "markdown",
      "metadata": {
        "id": "PLnxdcjfV4jH",
        "colab_type": "text"
      },
      "source": [
        "## Standardize Columns\n",
        "\n",
        "### Question\n",
        "+ Use ```columns``` attribute and ```tolist()``` method to get the list of all columns"
      ]
    },
    {
      "cell_type": "code",
      "metadata": {
        "ExecuteTime": {
          "start_time": "2019-11-15T14:02:30.250Z"
        },
        "id": "28lgIrY8V4jI",
        "colab_type": "code",
        "colab": {
          "base_uri": "https://localhost:8080/",
          "height": 50
        },
        "outputId": "c6e6b50d-750a-48b6-89cb-4d2392f8604c"
      },
      "source": [
        "# list all columns\n",
        "print(\"Dataframe columns:\\n{}\".format(df.columns.tolist()))"
      ],
      "execution_count": 14,
      "outputs": [
        {
          "output_type": "stream",
          "text": [
            "Dataframe columns:\n",
            "['Serial No', 'Date', 'User ID', 'Product ID', 'Quantity Purchased', 'Price', 'User Type']\n"
          ],
          "name": "stdout"
        }
      ]
    },
    {
      "cell_type": "markdown",
      "metadata": {
        "id": "-EfxXb1iV4jJ",
        "colab_type": "text"
      },
      "source": [
        "### Utility to Standardize Columns\n",
        "\n",
        "+ Question : We usually use lowercase-snakecased column names in python. Write a utility method to do the same. You may user methods like ```lower, replace```. Setting ```inplace``` = ```True``` avoid creating a copy of your dataframe\n",
        "\n",
        "\n",
        "*Hint:* there are multiple ways to do this, but you could use either the [string processing methods](http://pandas.pydata.org/pandas-docs/stable/text.html) or the [apply method](http://pandas.pydata.org/pandas-docs/stable/generated/pandas.Series.apply.html)."
      ]
    },
    {
      "cell_type": "code",
      "metadata": {
        "ExecuteTime": {
          "start_time": "2019-11-15T14:02:30.258Z"
        },
        "id": "a71tNWVMV4jK",
        "colab_type": "code",
        "colab": {}
      },
      "source": [
        "def cleanup_column_names(df,rename_dict={},do_inplace=True):\n",
        "    \"\"\"This function renames columns of a pandas dataframe\n",
        "       It converts column names to snake case if rename_dict is not passed. \n",
        "    Args:\n",
        "        rename_dict (dict): keys represent old column names and values point to \n",
        "                            newer ones\n",
        "        do_inplace (bool): flag to update existing dataframe or return a new one\n",
        "    Returns:\n",
        "        pandas dataframe if do_inplace is set to False, None otherwise\n",
        "\n",
        "    \"\"\"\n",
        "    if not rename_dict:\n",
        "        # lower case and replace <space> with <underscore>\n",
        "        return df.rename(columns={col: col.lower().replace(' ','_') \n",
        "                            for col in df.columns.values.tolist()}, \n",
        "                         inplace=True)\n",
        "    else:\n",
        "        return df.rename(columns=rename_dict,inplace=do_inplace)"
      ],
      "execution_count": 0,
      "outputs": []
    },
    {
      "cell_type": "code",
      "metadata": {
        "ExecuteTime": {
          "start_time": "2019-11-15T14:02:30.260Z"
        },
        "id": "HdKWzjnbV4jL",
        "colab_type": "code",
        "colab": {}
      },
      "source": [
        "cleanup_column_names(df)"
      ],
      "execution_count": 0,
      "outputs": []
    },
    {
      "cell_type": "code",
      "metadata": {
        "ExecuteTime": {
          "start_time": "2019-11-15T14:02:30.262Z"
        },
        "id": "CgVeuGwAV4jN",
        "colab_type": "code",
        "colab": {
          "base_uri": "https://localhost:8080/",
          "height": 50
        },
        "outputId": "fb303fa2-16c0-4fb0-ac13-60ab67d986b6"
      },
      "source": [
        "# Updated column names\n",
        "print(\"Dataframe columns:\\n{}\".format(df.columns.tolist()))"
      ],
      "execution_count": 17,
      "outputs": [
        {
          "output_type": "stream",
          "text": [
            "Dataframe columns:\n",
            "['serial_no', 'date', 'user_id', 'product_id', 'quantity_purchased', 'price', 'user_type']\n"
          ],
          "name": "stdout"
        }
      ]
    },
    {
      "cell_type": "markdown",
      "metadata": {
        "id": "ItCqzQANV4jO",
        "colab_type": "text"
      },
      "source": [
        "## Basic Manipulation"
      ]
    },
    {
      "cell_type": "markdown",
      "metadata": {
        "id": "sBPpK6IgV4jP",
        "colab_type": "text"
      },
      "source": [
        "### Sort basis specific attributes\n",
        "\n",
        "+ Question: Sort serial_no in ascending and price in descending order."
      ]
    },
    {
      "cell_type": "code",
      "metadata": {
        "ExecuteTime": {
          "start_time": "2019-11-15T14:02:30.277Z"
        },
        "id": "d9uTMQsNV4jP",
        "colab_type": "code",
        "colab": {
          "base_uri": "https://localhost:8080/",
          "height": 196
        },
        "outputId": "12bb74af-66c0-4936-f6f9-e3c92922f93b"
      },
      "source": [
        "# Ascending for Serial No and Descending for Price\n",
        "display(df.sort_values(['serial_no', 'price'], \n",
        "                         ascending=[True, False]).head())"
      ],
      "execution_count": 18,
      "outputs": [
        {
          "output_type": "display_data",
          "data": {
            "text/html": [
              "<div>\n",
              "<style scoped>\n",
              "    .dataframe tbody tr th:only-of-type {\n",
              "        vertical-align: middle;\n",
              "    }\n",
              "\n",
              "    .dataframe tbody tr th {\n",
              "        vertical-align: top;\n",
              "    }\n",
              "\n",
              "    .dataframe thead th {\n",
              "        text-align: right;\n",
              "    }\n",
              "</style>\n",
              "<table border=\"1\" class=\"dataframe\">\n",
              "  <thead>\n",
              "    <tr style=\"text-align: right;\">\n",
              "      <th></th>\n",
              "      <th>serial_no</th>\n",
              "      <th>date</th>\n",
              "      <th>user_id</th>\n",
              "      <th>product_id</th>\n",
              "      <th>quantity_purchased</th>\n",
              "      <th>price</th>\n",
              "      <th>user_type</th>\n",
              "    </tr>\n",
              "  </thead>\n",
              "  <tbody>\n",
              "    <tr>\n",
              "      <th>502</th>\n",
              "      <td>-1</td>\n",
              "      <td>2016-01-30</td>\n",
              "      <td>5022</td>\n",
              "      <td>419</td>\n",
              "      <td>24</td>\n",
              "      <td>9393.63</td>\n",
              "      <td>d</td>\n",
              "    </tr>\n",
              "    <tr>\n",
              "      <th>384</th>\n",
              "      <td>-1</td>\n",
              "      <td>2016-01-29</td>\n",
              "      <td>5597</td>\n",
              "      <td>1000</td>\n",
              "      <td>27</td>\n",
              "      <td>7312.06</td>\n",
              "      <td>a</td>\n",
              "    </tr>\n",
              "    <tr>\n",
              "      <th>821</th>\n",
              "      <td>-1</td>\n",
              "      <td>2016-09-02</td>\n",
              "      <td>5384</td>\n",
              "      <td>1016</td>\n",
              "      <td>20</td>\n",
              "      <td>7246.72</td>\n",
              "      <td>a</td>\n",
              "    </tr>\n",
              "    <tr>\n",
              "      <th>604</th>\n",
              "      <td>-1</td>\n",
              "      <td>2016-08-02</td>\n",
              "      <td>5403</td>\n",
              "      <td>158</td>\n",
              "      <td>24</td>\n",
              "      <td>5955.69</td>\n",
              "      <td>d</td>\n",
              "    </tr>\n",
              "    <tr>\n",
              "      <th>514</th>\n",
              "      <td>-1</td>\n",
              "      <td>2016-06-01</td>\n",
              "      <td>5336</td>\n",
              "      <td>329</td>\n",
              "      <td>25</td>\n",
              "      <td>4979.46</td>\n",
              "      <td>c</td>\n",
              "    </tr>\n",
              "  </tbody>\n",
              "</table>\n",
              "</div>"
            ],
            "text/plain": [
              "     serial_no        date  user_id  ...  quantity_purchased    price  user_type\n",
              "502         -1  2016-01-30     5022  ...                  24  9393.63          d\n",
              "384         -1  2016-01-29     5597  ...                  27  7312.06          a\n",
              "821         -1  2016-09-02     5384  ...                  20  7246.72          a\n",
              "604         -1  2016-08-02     5403  ...                  24  5955.69          d\n",
              "514         -1  2016-06-01     5336  ...                  25  4979.46          c\n",
              "\n",
              "[5 rows x 7 columns]"
            ]
          },
          "metadata": {
            "tags": []
          }
        }
      ]
    },
    {
      "cell_type": "markdown",
      "metadata": {
        "ExecuteTime": {
          "end_time": "2019-10-26T18:40:05.505061Z",
          "start_time": "2019-10-26T18:40:05.502620Z"
        },
        "id": "r_Thuwc2V4jR",
        "colab_type": "text"
      },
      "source": [
        "### Reorder columns"
      ]
    },
    {
      "cell_type": "code",
      "metadata": {
        "ExecuteTime": {
          "start_time": "2019-11-15T14:02:30.287Z"
        },
        "id": "BEYFxfuDV4jR",
        "colab_type": "code",
        "colab": {
          "base_uri": "https://localhost:8080/",
          "height": 196
        },
        "outputId": "1abd0f28-dae7-49bc-ecad-87a3ae3cb798"
      },
      "source": [
        "display(df[['serial_no','date','user_id','user_type',\n",
        "              'product_id','quantity_purchased','price']].head())"
      ],
      "execution_count": 19,
      "outputs": [
        {
          "output_type": "display_data",
          "data": {
            "text/html": [
              "<div>\n",
              "<style scoped>\n",
              "    .dataframe tbody tr th:only-of-type {\n",
              "        vertical-align: middle;\n",
              "    }\n",
              "\n",
              "    .dataframe tbody tr th {\n",
              "        vertical-align: top;\n",
              "    }\n",
              "\n",
              "    .dataframe thead th {\n",
              "        text-align: right;\n",
              "    }\n",
              "</style>\n",
              "<table border=\"1\" class=\"dataframe\">\n",
              "  <thead>\n",
              "    <tr style=\"text-align: right;\">\n",
              "      <th></th>\n",
              "      <th>serial_no</th>\n",
              "      <th>date</th>\n",
              "      <th>user_id</th>\n",
              "      <th>user_type</th>\n",
              "      <th>product_id</th>\n",
              "      <th>quantity_purchased</th>\n",
              "      <th>price</th>\n",
              "    </tr>\n",
              "  </thead>\n",
              "  <tbody>\n",
              "    <tr>\n",
              "      <th>0</th>\n",
              "      <td>1000</td>\n",
              "      <td>2016-05-01</td>\n",
              "      <td>-101</td>\n",
              "      <td>n</td>\n",
              "      <td>0</td>\n",
              "      <td>8</td>\n",
              "      <td>NaN</td>\n",
              "    </tr>\n",
              "    <tr>\n",
              "      <th>1</th>\n",
              "      <td>-1</td>\n",
              "      <td>2016-09-01</td>\n",
              "      <td>5362</td>\n",
              "      <td>n</td>\n",
              "      <td>375</td>\n",
              "      <td>32</td>\n",
              "      <td>2698.38</td>\n",
              "    </tr>\n",
              "    <tr>\n",
              "      <th>2</th>\n",
              "      <td>1002</td>\n",
              "      <td>NaN</td>\n",
              "      <td>5022</td>\n",
              "      <td>n</td>\n",
              "      <td>419</td>\n",
              "      <td>39</td>\n",
              "      <td>426.02</td>\n",
              "    </tr>\n",
              "    <tr>\n",
              "      <th>3</th>\n",
              "      <td>1003</td>\n",
              "      <td>2016-01-25</td>\n",
              "      <td>5811</td>\n",
              "      <td>n</td>\n",
              "      <td>219</td>\n",
              "      <td>6</td>\n",
              "      <td>4047.37</td>\n",
              "    </tr>\n",
              "    <tr>\n",
              "      <th>4</th>\n",
              "      <td>1004</td>\n",
              "      <td>2016-11-02</td>\n",
              "      <td>5403</td>\n",
              "      <td>n</td>\n",
              "      <td>158</td>\n",
              "      <td>9</td>\n",
              "      <td>1171.53</td>\n",
              "    </tr>\n",
              "  </tbody>\n",
              "</table>\n",
              "</div>"
            ],
            "text/plain": [
              "   serial_no        date  user_id  ... product_id  quantity_purchased    price\n",
              "0       1000  2016-05-01     -101  ...          0                   8      NaN\n",
              "1         -1  2016-09-01     5362  ...        375                  32  2698.38\n",
              "2       1002         NaN     5022  ...        419                  39   426.02\n",
              "3       1003  2016-01-25     5811  ...        219                   6  4047.37\n",
              "4       1004  2016-11-02     5403  ...        158                   9  1171.53\n",
              "\n",
              "[5 rows x 7 columns]"
            ]
          },
          "metadata": {
            "tags": []
          }
        }
      ]
    },
    {
      "cell_type": "markdown",
      "metadata": {
        "id": "SJ8fLBLEV4jU",
        "colab_type": "text"
      },
      "source": [
        "### Select Attributes"
      ]
    },
    {
      "cell_type": "code",
      "metadata": {
        "ExecuteTime": {
          "start_time": "2019-11-15T14:02:30.295Z"
        },
        "id": "du6oDJOMV4jV",
        "colab_type": "code",
        "colab": {
          "base_uri": "https://localhost:8080/",
          "height": 33
        },
        "outputId": "a415626e-04fc-4c77-ca66-1642cb5042f1"
      },
      "source": [
        "# Using Column Index\n",
        "# print 10 values from column at index 3\n",
        "print(df.iloc[:,3].values[0:10])"
      ],
      "execution_count": 20,
      "outputs": [
        {
          "output_type": "stream",
          "text": [
            "[  0 375 419 219 158 909 615 505 408 887]\n"
          ],
          "name": "stdout"
        }
      ]
    },
    {
      "cell_type": "code",
      "metadata": {
        "ExecuteTime": {
          "start_time": "2019-11-15T14:02:30.297Z"
        },
        "id": "pC9WHUkQV4jX",
        "colab_type": "code",
        "colab": {
          "base_uri": "https://localhost:8080/",
          "height": 33
        },
        "outputId": "b3b639a3-5fea-4fef-8fbc-434a991d6b06"
      },
      "source": [
        "# Using Column Name\n",
        "# print 10 values of quantity purchased\n",
        "print(df.quantity_purchased.values[0:10])"
      ],
      "execution_count": 21,
      "outputs": [
        {
          "output_type": "stream",
          "text": [
            "[ 8 32 39  6  9  3 33  3 12 37]\n"
          ],
          "name": "stdout"
        }
      ]
    },
    {
      "cell_type": "code",
      "metadata": {
        "ExecuteTime": {
          "start_time": "2019-11-15T14:02:30.299Z"
        },
        "id": "4yGLHTiwV4jZ",
        "colab_type": "code",
        "colab": {
          "base_uri": "https://localhost:8080/",
          "height": 50
        },
        "outputId": "2d2b8f1c-d474-4f46-eef2-4072b5f801c6"
      },
      "source": [
        "# Using Datatype\n",
        "# print 10 values of columns with data type float\n",
        "print(df.select_dtypes(include=['float64']).values[:10,0])"
      ],
      "execution_count": 22,
      "outputs": [
        {
          "output_type": "stream",
          "text": [
            "[    nan 2698.38  426.02 4047.37 1171.53 1621.08 4545.24 4335.78 2821.18\n",
            " 3017.22]\n"
          ],
          "name": "stdout"
        }
      ]
    },
    {
      "cell_type": "markdown",
      "metadata": {
        "ExecuteTime": {
          "end_time": "2019-10-26T18:41:50.825231Z",
          "start_time": "2019-10-26T18:41:50.822229Z"
        },
        "id": "XvoVtl2mV4ja",
        "colab_type": "text"
      },
      "source": [
        "### Select Rows"
      ]
    },
    {
      "cell_type": "code",
      "metadata": {
        "ExecuteTime": {
          "start_time": "2019-11-15T14:02:30.308Z"
        },
        "id": "IA4lL0aCV4ja",
        "colab_type": "code",
        "colab": {
          "base_uri": "https://localhost:8080/",
          "height": 137
        },
        "outputId": "8ebf1dd8-b17a-4685-e685-07fd0b55f917"
      },
      "source": [
        "# Using Row Index\n",
        "display(df.iloc[[10,501,20]])"
      ],
      "execution_count": 23,
      "outputs": [
        {
          "output_type": "display_data",
          "data": {
            "text/html": [
              "<div>\n",
              "<style scoped>\n",
              "    .dataframe tbody tr th:only-of-type {\n",
              "        vertical-align: middle;\n",
              "    }\n",
              "\n",
              "    .dataframe tbody tr th {\n",
              "        vertical-align: top;\n",
              "    }\n",
              "\n",
              "    .dataframe thead th {\n",
              "        text-align: right;\n",
              "    }\n",
              "</style>\n",
              "<table border=\"1\" class=\"dataframe\">\n",
              "  <thead>\n",
              "    <tr style=\"text-align: right;\">\n",
              "      <th></th>\n",
              "      <th>serial_no</th>\n",
              "      <th>date</th>\n",
              "      <th>user_id</th>\n",
              "      <th>product_id</th>\n",
              "      <th>quantity_purchased</th>\n",
              "      <th>price</th>\n",
              "      <th>user_type</th>\n",
              "    </tr>\n",
              "  </thead>\n",
              "  <tbody>\n",
              "    <tr>\n",
              "      <th>10</th>\n",
              "      <td>1010</td>\n",
              "      <td>2016-01-13</td>\n",
              "      <td>5834</td>\n",
              "      <td>752</td>\n",
              "      <td>20</td>\n",
              "      <td>1913.90</td>\n",
              "      <td>n</td>\n",
              "    </tr>\n",
              "    <tr>\n",
              "      <th>501</th>\n",
              "      <td>1501</td>\n",
              "      <td>2016-01-31</td>\n",
              "      <td>5362</td>\n",
              "      <td>375</td>\n",
              "      <td>9</td>\n",
              "      <td>3107.75</td>\n",
              "      <td>c</td>\n",
              "    </tr>\n",
              "    <tr>\n",
              "      <th>20</th>\n",
              "      <td>1020</td>\n",
              "      <td>2016-01-14</td>\n",
              "      <td>5841</td>\n",
              "      <td>1052</td>\n",
              "      <td>29</td>\n",
              "      <td>3549.63</td>\n",
              "      <td>a</td>\n",
              "    </tr>\n",
              "  </tbody>\n",
              "</table>\n",
              "</div>"
            ],
            "text/plain": [
              "     serial_no        date  user_id  ...  quantity_purchased    price  user_type\n",
              "10        1010  2016-01-13     5834  ...                  20  1913.90          n\n",
              "501       1501  2016-01-31     5362  ...                   9  3107.75          c\n",
              "20        1020  2016-01-14     5841  ...                  29  3549.63          a\n",
              "\n",
              "[3 rows x 7 columns]"
            ]
          },
          "metadata": {
            "tags": []
          }
        }
      ]
    },
    {
      "cell_type": "code",
      "metadata": {
        "ExecuteTime": {
          "start_time": "2019-11-15T14:02:30.310Z"
        },
        "id": "6h9nAxjeV4jc",
        "colab_type": "code",
        "colab": {
          "base_uri": "https://localhost:8080/",
          "height": 196
        },
        "outputId": "9da40fdd-2b25-45dd-de56-40cc1abb27e4"
      },
      "source": [
        "# Exclude specific rows\n",
        "display(df.drop([0,24,51], axis=0).head())"
      ],
      "execution_count": 24,
      "outputs": [
        {
          "output_type": "display_data",
          "data": {
            "text/html": [
              "<div>\n",
              "<style scoped>\n",
              "    .dataframe tbody tr th:only-of-type {\n",
              "        vertical-align: middle;\n",
              "    }\n",
              "\n",
              "    .dataframe tbody tr th {\n",
              "        vertical-align: top;\n",
              "    }\n",
              "\n",
              "    .dataframe thead th {\n",
              "        text-align: right;\n",
              "    }\n",
              "</style>\n",
              "<table border=\"1\" class=\"dataframe\">\n",
              "  <thead>\n",
              "    <tr style=\"text-align: right;\">\n",
              "      <th></th>\n",
              "      <th>serial_no</th>\n",
              "      <th>date</th>\n",
              "      <th>user_id</th>\n",
              "      <th>product_id</th>\n",
              "      <th>quantity_purchased</th>\n",
              "      <th>price</th>\n",
              "      <th>user_type</th>\n",
              "    </tr>\n",
              "  </thead>\n",
              "  <tbody>\n",
              "    <tr>\n",
              "      <th>1</th>\n",
              "      <td>-1</td>\n",
              "      <td>2016-09-01</td>\n",
              "      <td>5362</td>\n",
              "      <td>375</td>\n",
              "      <td>32</td>\n",
              "      <td>2698.38</td>\n",
              "      <td>n</td>\n",
              "    </tr>\n",
              "    <tr>\n",
              "      <th>2</th>\n",
              "      <td>1002</td>\n",
              "      <td>NaN</td>\n",
              "      <td>5022</td>\n",
              "      <td>419</td>\n",
              "      <td>39</td>\n",
              "      <td>426.02</td>\n",
              "      <td>n</td>\n",
              "    </tr>\n",
              "    <tr>\n",
              "      <th>3</th>\n",
              "      <td>1003</td>\n",
              "      <td>2016-01-25</td>\n",
              "      <td>5811</td>\n",
              "      <td>219</td>\n",
              "      <td>6</td>\n",
              "      <td>4047.37</td>\n",
              "      <td>n</td>\n",
              "    </tr>\n",
              "    <tr>\n",
              "      <th>4</th>\n",
              "      <td>1004</td>\n",
              "      <td>2016-11-02</td>\n",
              "      <td>5403</td>\n",
              "      <td>158</td>\n",
              "      <td>9</td>\n",
              "      <td>1171.53</td>\n",
              "      <td>n</td>\n",
              "    </tr>\n",
              "    <tr>\n",
              "      <th>5</th>\n",
              "      <td>1005</td>\n",
              "      <td>NaN</td>\n",
              "      <td>5414</td>\n",
              "      <td>909</td>\n",
              "      <td>3</td>\n",
              "      <td>1621.08</td>\n",
              "      <td>n</td>\n",
              "    </tr>\n",
              "  </tbody>\n",
              "</table>\n",
              "</div>"
            ],
            "text/plain": [
              "   serial_no        date  user_id  ...  quantity_purchased    price  user_type\n",
              "1         -1  2016-09-01     5362  ...                  32  2698.38          n\n",
              "2       1002         NaN     5022  ...                  39   426.02          n\n",
              "3       1003  2016-01-25     5811  ...                   6  4047.37          n\n",
              "4       1004  2016-11-02     5403  ...                   9  1171.53          n\n",
              "5       1005         NaN     5414  ...                   3  1621.08          n\n",
              "\n",
              "[5 rows x 7 columns]"
            ]
          },
          "metadata": {
            "tags": []
          }
        }
      ]
    },
    {
      "cell_type": "markdown",
      "metadata": {
        "id": "5dFqDng2V4je",
        "colab_type": "text"
      },
      "source": [
        "### Question\n",
        "+ Show only rows which have quantity purchased greater than 25"
      ]
    },
    {
      "cell_type": "code",
      "metadata": {
        "ExecuteTime": {
          "start_time": "2019-11-15T14:02:30.318Z"
        },
        "id": "XtugpCFEV4je",
        "colab_type": "code",
        "colab": {
          "base_uri": "https://localhost:8080/",
          "height": 196
        },
        "outputId": "cce31b39-224f-428a-ec8d-823b9a82faa0"
      },
      "source": [
        "# Conditional Filtering\n",
        "# Quantity_Purchased greater than 25\n",
        "display(df[df.quantity_purchased > 25].head())"
      ],
      "execution_count": 25,
      "outputs": [
        {
          "output_type": "display_data",
          "data": {
            "text/html": [
              "<div>\n",
              "<style scoped>\n",
              "    .dataframe tbody tr th:only-of-type {\n",
              "        vertical-align: middle;\n",
              "    }\n",
              "\n",
              "    .dataframe tbody tr th {\n",
              "        vertical-align: top;\n",
              "    }\n",
              "\n",
              "    .dataframe thead th {\n",
              "        text-align: right;\n",
              "    }\n",
              "</style>\n",
              "<table border=\"1\" class=\"dataframe\">\n",
              "  <thead>\n",
              "    <tr style=\"text-align: right;\">\n",
              "      <th></th>\n",
              "      <th>serial_no</th>\n",
              "      <th>date</th>\n",
              "      <th>user_id</th>\n",
              "      <th>product_id</th>\n",
              "      <th>quantity_purchased</th>\n",
              "      <th>price</th>\n",
              "      <th>user_type</th>\n",
              "    </tr>\n",
              "  </thead>\n",
              "  <tbody>\n",
              "    <tr>\n",
              "      <th>1</th>\n",
              "      <td>-1</td>\n",
              "      <td>2016-09-01</td>\n",
              "      <td>5362</td>\n",
              "      <td>375</td>\n",
              "      <td>32</td>\n",
              "      <td>2698.38</td>\n",
              "      <td>n</td>\n",
              "    </tr>\n",
              "    <tr>\n",
              "      <th>2</th>\n",
              "      <td>1002</td>\n",
              "      <td>NaN</td>\n",
              "      <td>5022</td>\n",
              "      <td>419</td>\n",
              "      <td>39</td>\n",
              "      <td>426.02</td>\n",
              "      <td>n</td>\n",
              "    </tr>\n",
              "    <tr>\n",
              "      <th>6</th>\n",
              "      <td>1006</td>\n",
              "      <td>NaN</td>\n",
              "      <td>5395</td>\n",
              "      <td>615</td>\n",
              "      <td>33</td>\n",
              "      <td>4545.24</td>\n",
              "      <td>n</td>\n",
              "    </tr>\n",
              "    <tr>\n",
              "      <th>9</th>\n",
              "      <td>1009</td>\n",
              "      <td>2016-01-26</td>\n",
              "      <td>5301</td>\n",
              "      <td>887</td>\n",
              "      <td>37</td>\n",
              "      <td>3017.22</td>\n",
              "      <td>n</td>\n",
              "    </tr>\n",
              "    <tr>\n",
              "      <th>11</th>\n",
              "      <td>1011</td>\n",
              "      <td>2016-01-26</td>\n",
              "      <td>5011</td>\n",
              "      <td>261</td>\n",
              "      <td>41</td>\n",
              "      <td>1581.44</td>\n",
              "      <td>n</td>\n",
              "    </tr>\n",
              "  </tbody>\n",
              "</table>\n",
              "</div>"
            ],
            "text/plain": [
              "    serial_no        date  user_id  ...  quantity_purchased    price  user_type\n",
              "1          -1  2016-09-01     5362  ...                  32  2698.38          n\n",
              "2        1002         NaN     5022  ...                  39   426.02          n\n",
              "6        1006         NaN     5395  ...                  33  4545.24          n\n",
              "9        1009  2016-01-26     5301  ...                  37  3017.22          n\n",
              "11       1011  2016-01-26     5011  ...                  41  1581.44          n\n",
              "\n",
              "[5 rows x 7 columns]"
            ]
          },
          "metadata": {
            "tags": []
          }
        }
      ]
    },
    {
      "cell_type": "code",
      "metadata": {
        "ExecuteTime": {
          "start_time": "2019-11-15T14:02:30.321Z"
        },
        "id": "d3z4CHPpV4jf",
        "colab_type": "code",
        "colab": {
          "base_uri": "https://localhost:8080/",
          "height": 196
        },
        "outputId": "55227af1-ed31-4381-9bb0-c15084c79451"
      },
      "source": [
        "# Offset from Top\n",
        "display(df[100:].head())"
      ],
      "execution_count": 26,
      "outputs": [
        {
          "output_type": "display_data",
          "data": {
            "text/html": [
              "<div>\n",
              "<style scoped>\n",
              "    .dataframe tbody tr th:only-of-type {\n",
              "        vertical-align: middle;\n",
              "    }\n",
              "\n",
              "    .dataframe tbody tr th {\n",
              "        vertical-align: top;\n",
              "    }\n",
              "\n",
              "    .dataframe thead th {\n",
              "        text-align: right;\n",
              "    }\n",
              "</style>\n",
              "<table border=\"1\" class=\"dataframe\">\n",
              "  <thead>\n",
              "    <tr style=\"text-align: right;\">\n",
              "      <th></th>\n",
              "      <th>serial_no</th>\n",
              "      <th>date</th>\n",
              "      <th>user_id</th>\n",
              "      <th>product_id</th>\n",
              "      <th>quantity_purchased</th>\n",
              "      <th>price</th>\n",
              "      <th>user_type</th>\n",
              "    </tr>\n",
              "  </thead>\n",
              "  <tbody>\n",
              "    <tr>\n",
              "      <th>100</th>\n",
              "      <td>1100</td>\n",
              "      <td>2016-01-31</td>\n",
              "      <td>5544</td>\n",
              "      <td>1011</td>\n",
              "      <td>11</td>\n",
              "      <td>2413.95</td>\n",
              "      <td>d</td>\n",
              "    </tr>\n",
              "    <tr>\n",
              "      <th>101</th>\n",
              "      <td>1101</td>\n",
              "      <td>2016-07-02</td>\n",
              "      <td>5362</td>\n",
              "      <td>375</td>\n",
              "      <td>20</td>\n",
              "      <td>1022.67</td>\n",
              "      <td>d</td>\n",
              "    </tr>\n",
              "    <tr>\n",
              "      <th>102</th>\n",
              "      <td>1102</td>\n",
              "      <td>NaN</td>\n",
              "      <td>5022</td>\n",
              "      <td>419</td>\n",
              "      <td>33</td>\n",
              "      <td>NaN</td>\n",
              "      <td>c</td>\n",
              "    </tr>\n",
              "    <tr>\n",
              "      <th>103</th>\n",
              "      <td>1103</td>\n",
              "      <td>2016-01-15</td>\n",
              "      <td>5811</td>\n",
              "      <td>219</td>\n",
              "      <td>9</td>\n",
              "      <td>1702.96</td>\n",
              "      <td>b</td>\n",
              "    </tr>\n",
              "    <tr>\n",
              "      <th>104</th>\n",
              "      <td>1104</td>\n",
              "      <td>2016-07-02</td>\n",
              "      <td>5403</td>\n",
              "      <td>158</td>\n",
              "      <td>41</td>\n",
              "      <td>253.14</td>\n",
              "      <td>d</td>\n",
              "    </tr>\n",
              "  </tbody>\n",
              "</table>\n",
              "</div>"
            ],
            "text/plain": [
              "     serial_no        date  user_id  ...  quantity_purchased    price  user_type\n",
              "100       1100  2016-01-31     5544  ...                  11  2413.95          d\n",
              "101       1101  2016-07-02     5362  ...                  20  1022.67          d\n",
              "102       1102         NaN     5022  ...                  33      NaN          c\n",
              "103       1103  2016-01-15     5811  ...                   9  1702.96          b\n",
              "104       1104  2016-07-02     5403  ...                  41   253.14          d\n",
              "\n",
              "[5 rows x 7 columns]"
            ]
          },
          "metadata": {
            "tags": []
          }
        }
      ]
    },
    {
      "cell_type": "code",
      "metadata": {
        "ExecuteTime": {
          "start_time": "2019-11-15T14:02:30.325Z"
        },
        "id": "40lSP0PvV4jh",
        "colab_type": "code",
        "colab": {
          "base_uri": "https://localhost:8080/",
          "height": 196
        },
        "outputId": "c6f17f84-1e65-4faa-f474-df6a7158b6fc"
      },
      "source": [
        "# Offset from Bottom\n",
        "display(df[-10:].head())"
      ],
      "execution_count": 27,
      "outputs": [
        {
          "output_type": "display_data",
          "data": {
            "text/html": [
              "<div>\n",
              "<style scoped>\n",
              "    .dataframe tbody tr th:only-of-type {\n",
              "        vertical-align: middle;\n",
              "    }\n",
              "\n",
              "    .dataframe tbody tr th {\n",
              "        vertical-align: top;\n",
              "    }\n",
              "\n",
              "    .dataframe thead th {\n",
              "        text-align: right;\n",
              "    }\n",
              "</style>\n",
              "<table border=\"1\" class=\"dataframe\">\n",
              "  <thead>\n",
              "    <tr style=\"text-align: right;\">\n",
              "      <th></th>\n",
              "      <th>serial_no</th>\n",
              "      <th>date</th>\n",
              "      <th>user_id</th>\n",
              "      <th>product_id</th>\n",
              "      <th>quantity_purchased</th>\n",
              "      <th>price</th>\n",
              "      <th>user_type</th>\n",
              "    </tr>\n",
              "  </thead>\n",
              "  <tbody>\n",
              "    <tr>\n",
              "      <th>990</th>\n",
              "      <td>1990</td>\n",
              "      <td>2016-10-01</td>\n",
              "      <td>5190</td>\n",
              "      <td>622</td>\n",
              "      <td>19</td>\n",
              "      <td>2070.26</td>\n",
              "      <td>a</td>\n",
              "    </tr>\n",
              "    <tr>\n",
              "      <th>991</th>\n",
              "      <td>1991</td>\n",
              "      <td>2016-11-02</td>\n",
              "      <td>5058</td>\n",
              "      <td>1060</td>\n",
              "      <td>15</td>\n",
              "      <td>3465.30</td>\n",
              "      <td>b</td>\n",
              "    </tr>\n",
              "    <tr>\n",
              "      <th>992</th>\n",
              "      <td>1992</td>\n",
              "      <td>2016-01-15</td>\n",
              "      <td>5454</td>\n",
              "      <td>506</td>\n",
              "      <td>4</td>\n",
              "      <td>413.36</td>\n",
              "      <td>b</td>\n",
              "    </tr>\n",
              "    <tr>\n",
              "      <th>993</th>\n",
              "      <td>1993</td>\n",
              "      <td>2016-03-02</td>\n",
              "      <td>5762</td>\n",
              "      <td>168</td>\n",
              "      <td>5</td>\n",
              "      <td>2801.60</td>\n",
              "      <td>a</td>\n",
              "    </tr>\n",
              "    <tr>\n",
              "      <th>994</th>\n",
              "      <td>1994</td>\n",
              "      <td>2016-01-28</td>\n",
              "      <td>5184</td>\n",
              "      <td>647</td>\n",
              "      <td>9</td>\n",
              "      <td>5036.47</td>\n",
              "      <td>b</td>\n",
              "    </tr>\n",
              "  </tbody>\n",
              "</table>\n",
              "</div>"
            ],
            "text/plain": [
              "     serial_no        date  user_id  ...  quantity_purchased    price  user_type\n",
              "990       1990  2016-10-01     5190  ...                  19  2070.26          a\n",
              "991       1991  2016-11-02     5058  ...                  15  3465.30          b\n",
              "992       1992  2016-01-15     5454  ...                   4   413.36          b\n",
              "993       1993  2016-03-02     5762  ...                   5  2801.60          a\n",
              "994       1994  2016-01-28     5184  ...                   9  5036.47          b\n",
              "\n",
              "[5 rows x 7 columns]"
            ]
          },
          "metadata": {
            "tags": []
          }
        }
      ]
    },
    {
      "cell_type": "markdown",
      "metadata": {
        "id": "ONvj9tYjV4ji",
        "colab_type": "text"
      },
      "source": [
        "### Type Casting"
      ]
    },
    {
      "cell_type": "code",
      "metadata": {
        "ExecuteTime": {
          "start_time": "2019-11-15T14:02:30.335Z"
        },
        "id": "cjmATTb9V4jj",
        "colab_type": "code",
        "colab": {
          "base_uri": "https://localhost:8080/",
          "height": 150
        },
        "outputId": "3af7de15-25ef-44c8-aa55-5ffcf4dfb1d1"
      },
      "source": [
        "# Existing Datatypes\n",
        "df.dtypes"
      ],
      "execution_count": 28,
      "outputs": [
        {
          "output_type": "execute_result",
          "data": {
            "text/plain": [
              "serial_no               int64\n",
              "date                   object\n",
              "user_id                 int64\n",
              "product_id              int64\n",
              "quantity_purchased      int64\n",
              "price                 float64\n",
              "user_type              object\n",
              "dtype: object"
            ]
          },
          "metadata": {
            "tags": []
          },
          "execution_count": 28
        }
      ]
    },
    {
      "cell_type": "code",
      "metadata": {
        "ExecuteTime": {
          "start_time": "2019-11-15T14:02:30.337Z"
        },
        "id": "HTPtNFc2V4jl",
        "colab_type": "code",
        "colab": {
          "base_uri": "https://localhost:8080/",
          "height": 150
        },
        "outputId": "58ca1b1d-8725-41c0-9b24-155e0c0f9339"
      },
      "source": [
        "# Set Datatime as dtype for date column\n",
        "df['date'] = pd.to_datetime(df.date)\n",
        "print(df.dtypes)"
      ],
      "execution_count": 29,
      "outputs": [
        {
          "output_type": "stream",
          "text": [
            "serial_no                      int64\n",
            "date                  datetime64[ns]\n",
            "user_id                        int64\n",
            "product_id                     int64\n",
            "quantity_purchased             int64\n",
            "price                        float64\n",
            "user_type                     object\n",
            "dtype: object\n"
          ],
          "name": "stdout"
        }
      ]
    },
    {
      "cell_type": "markdown",
      "metadata": {
        "id": "fl1DeQFTV4jn",
        "colab_type": "text"
      },
      "source": [
        "### Map/Apply Functionality"
      ]
    },
    {
      "cell_type": "markdown",
      "metadata": {
        "id": "7csCsaI5V4jn",
        "colab_type": "text"
      },
      "source": [
        "### Question\n",
        "+ Write a utility method to create a new column ```user_class``` from ```user_type``` using the following mapping:\n",
        "    - ```user_type``` __a__ and __b__ map to ```user_class``` __new__\n",
        "    - ```user_type``` __c__ maps to ```user_class``` __existing__\n",
        "    - ```user_type``` __d__ maps to ```user_class``` __loyal_existing__\n",
        "    - map all other ```user_type``` values as __error__"
      ]
    },
    {
      "cell_type": "code",
      "metadata": {
        "ExecuteTime": {
          "start_time": "2019-11-15T14:02:30.352Z"
        },
        "id": "sn3nEHucV4jo",
        "colab_type": "code",
        "colab": {}
      },
      "source": [
        "def expand_user_type(u_type):\n",
        "    \"\"\"This function maps user types to user classes\n",
        "    Args:\n",
        "        u_type (str): user type value\n",
        "    Returns:\n",
        "        (str) user_class value\n",
        "\n",
        "    \"\"\"\n",
        "    if u_type in ['a','b']:\n",
        "        return 'new'\n",
        "    elif u_type == 'c':\n",
        "        return 'existing'\n",
        "    elif u_type == 'd':\n",
        "        return 'loyal_existing'\n",
        "    else:\n",
        "        return 'error'"
      ],
      "execution_count": 0,
      "outputs": []
    },
    {
      "cell_type": "code",
      "metadata": {
        "ExecuteTime": {
          "start_time": "2019-11-15T14:02:30.355Z"
        },
        "id": "3Lu_p7ukV4jp",
        "colab_type": "code",
        "colab": {
          "base_uri": "https://localhost:8080/",
          "height": 196
        },
        "outputId": "c44493da-6e1f-4698-b652-eca1865e543c"
      },
      "source": [
        "# Map User Type to User Class\n",
        "df['user_class'] = df['user_type'].map(expand_user_type)\n",
        "display(df.tail())"
      ],
      "execution_count": 31,
      "outputs": [
        {
          "output_type": "display_data",
          "data": {
            "text/html": [
              "<div>\n",
              "<style scoped>\n",
              "    .dataframe tbody tr th:only-of-type {\n",
              "        vertical-align: middle;\n",
              "    }\n",
              "\n",
              "    .dataframe tbody tr th {\n",
              "        vertical-align: top;\n",
              "    }\n",
              "\n",
              "    .dataframe thead th {\n",
              "        text-align: right;\n",
              "    }\n",
              "</style>\n",
              "<table border=\"1\" class=\"dataframe\">\n",
              "  <thead>\n",
              "    <tr style=\"text-align: right;\">\n",
              "      <th></th>\n",
              "      <th>serial_no</th>\n",
              "      <th>date</th>\n",
              "      <th>user_id</th>\n",
              "      <th>product_id</th>\n",
              "      <th>quantity_purchased</th>\n",
              "      <th>price</th>\n",
              "      <th>user_type</th>\n",
              "      <th>user_class</th>\n",
              "    </tr>\n",
              "  </thead>\n",
              "  <tbody>\n",
              "    <tr>\n",
              "      <th>995</th>\n",
              "      <td>1995</td>\n",
              "      <td>2016-02-02</td>\n",
              "      <td>5186</td>\n",
              "      <td>1033</td>\n",
              "      <td>18</td>\n",
              "      <td>4584.31</td>\n",
              "      <td>a</td>\n",
              "      <td>new</td>\n",
              "    </tr>\n",
              "    <tr>\n",
              "      <th>996</th>\n",
              "      <td>1996</td>\n",
              "      <td>2016-01-21</td>\n",
              "      <td>5104</td>\n",
              "      <td>886</td>\n",
              "      <td>27</td>\n",
              "      <td>1100.80</td>\n",
              "      <td>b</td>\n",
              "      <td>new</td>\n",
              "    </tr>\n",
              "    <tr>\n",
              "      <th>997</th>\n",
              "      <td>1997</td>\n",
              "      <td>2016-01-21</td>\n",
              "      <td>5668</td>\n",
              "      <td>892</td>\n",
              "      <td>41</td>\n",
              "      <td>815.71</td>\n",
              "      <td>a</td>\n",
              "      <td>new</td>\n",
              "    </tr>\n",
              "    <tr>\n",
              "      <th>998</th>\n",
              "      <td>1998</td>\n",
              "      <td>2016-01-16</td>\n",
              "      <td>5096</td>\n",
              "      <td>732</td>\n",
              "      <td>1</td>\n",
              "      <td>1321.48</td>\n",
              "      <td>c</td>\n",
              "      <td>existing</td>\n",
              "    </tr>\n",
              "    <tr>\n",
              "      <th>999</th>\n",
              "      <td>1999</td>\n",
              "      <td>2016-05-02</td>\n",
              "      <td>5219</td>\n",
              "      <td>237</td>\n",
              "      <td>24</td>\n",
              "      <td>328.34</td>\n",
              "      <td>a</td>\n",
              "      <td>new</td>\n",
              "    </tr>\n",
              "  </tbody>\n",
              "</table>\n",
              "</div>"
            ],
            "text/plain": [
              "     serial_no       date  user_id  ...    price  user_type  user_class\n",
              "995       1995 2016-02-02     5186  ...  4584.31          a         new\n",
              "996       1996 2016-01-21     5104  ...  1100.80          b         new\n",
              "997       1997 2016-01-21     5668  ...   815.71          a         new\n",
              "998       1998 2016-01-16     5096  ...  1321.48          c    existing\n",
              "999       1999 2016-05-02     5219  ...   328.34          a         new\n",
              "\n",
              "[5 rows x 8 columns]"
            ]
          },
          "metadata": {
            "tags": []
          }
        }
      ]
    },
    {
      "cell_type": "markdown",
      "metadata": {
        "id": "4Jn_JSufV4jr",
        "colab_type": "text"
      },
      "source": [
        "### Question\n",
        "+ Get range for each numeric attribute, i.e. max-min"
      ]
    },
    {
      "cell_type": "code",
      "metadata": {
        "ExecuteTime": {
          "start_time": "2019-11-15T14:02:30.363Z"
        },
        "id": "AcCePNNTV4jr",
        "colab_type": "code",
        "colab": {
          "base_uri": "https://localhost:8080/",
          "height": 117
        },
        "outputId": "5e34150b-35e1-45e0-901c-e34854ebdf85"
      },
      "source": [
        "# Apply: Using apply to get attribute ranges\n",
        "display(df.select_dtypes(include=[np.number]).apply(lambda x: \n",
        "                                                        x.max()- x.min()))"
      ],
      "execution_count": 32,
      "outputs": [
        {
          "output_type": "display_data",
          "data": {
            "text/plain": [
              "serial_no             2000.00\n",
              "user_id               6069.00\n",
              "product_id            1087.00\n",
              "quantity_purchased      40.00\n",
              "price                 9389.39\n",
              "dtype: float64"
            ]
          },
          "metadata": {
            "tags": []
          }
        }
      ]
    },
    {
      "cell_type": "code",
      "metadata": {
        "ExecuteTime": {
          "start_time": "2019-11-15T14:02:30.365Z"
        },
        "id": "HF8RrqaUV4js",
        "colab_type": "code",
        "colab": {}
      },
      "source": [
        "# Apply-Map: Extract Week from Date\n",
        "df['purchase_week'] = df[['date']].applymap(lambda dt:dt.week \n",
        "                                                if not pd.isnull(dt.week) \n",
        "                                                else 0)"
      ],
      "execution_count": 0,
      "outputs": []
    },
    {
      "cell_type": "code",
      "metadata": {
        "ExecuteTime": {
          "start_time": "2019-11-15T14:02:30.368Z"
        },
        "id": "QlJLljesV4ju",
        "colab_type": "code",
        "colab": {
          "base_uri": "https://localhost:8080/",
          "height": 196
        },
        "outputId": "11a7b1f2-12e5-4c57-f1a9-a1241725528a"
      },
      "source": [
        "display(df.head())"
      ],
      "execution_count": 34,
      "outputs": [
        {
          "output_type": "display_data",
          "data": {
            "text/html": [
              "<div>\n",
              "<style scoped>\n",
              "    .dataframe tbody tr th:only-of-type {\n",
              "        vertical-align: middle;\n",
              "    }\n",
              "\n",
              "    .dataframe tbody tr th {\n",
              "        vertical-align: top;\n",
              "    }\n",
              "\n",
              "    .dataframe thead th {\n",
              "        text-align: right;\n",
              "    }\n",
              "</style>\n",
              "<table border=\"1\" class=\"dataframe\">\n",
              "  <thead>\n",
              "    <tr style=\"text-align: right;\">\n",
              "      <th></th>\n",
              "      <th>serial_no</th>\n",
              "      <th>date</th>\n",
              "      <th>user_id</th>\n",
              "      <th>product_id</th>\n",
              "      <th>quantity_purchased</th>\n",
              "      <th>price</th>\n",
              "      <th>user_type</th>\n",
              "      <th>user_class</th>\n",
              "      <th>purchase_week</th>\n",
              "    </tr>\n",
              "  </thead>\n",
              "  <tbody>\n",
              "    <tr>\n",
              "      <th>0</th>\n",
              "      <td>1000</td>\n",
              "      <td>2016-05-01</td>\n",
              "      <td>-101</td>\n",
              "      <td>0</td>\n",
              "      <td>8</td>\n",
              "      <td>NaN</td>\n",
              "      <td>n</td>\n",
              "      <td>error</td>\n",
              "      <td>17</td>\n",
              "    </tr>\n",
              "    <tr>\n",
              "      <th>1</th>\n",
              "      <td>-1</td>\n",
              "      <td>2016-09-01</td>\n",
              "      <td>5362</td>\n",
              "      <td>375</td>\n",
              "      <td>32</td>\n",
              "      <td>2698.38</td>\n",
              "      <td>n</td>\n",
              "      <td>error</td>\n",
              "      <td>35</td>\n",
              "    </tr>\n",
              "    <tr>\n",
              "      <th>2</th>\n",
              "      <td>1002</td>\n",
              "      <td>NaT</td>\n",
              "      <td>5022</td>\n",
              "      <td>419</td>\n",
              "      <td>39</td>\n",
              "      <td>426.02</td>\n",
              "      <td>n</td>\n",
              "      <td>error</td>\n",
              "      <td>0</td>\n",
              "    </tr>\n",
              "    <tr>\n",
              "      <th>3</th>\n",
              "      <td>1003</td>\n",
              "      <td>2016-01-25</td>\n",
              "      <td>5811</td>\n",
              "      <td>219</td>\n",
              "      <td>6</td>\n",
              "      <td>4047.37</td>\n",
              "      <td>n</td>\n",
              "      <td>error</td>\n",
              "      <td>4</td>\n",
              "    </tr>\n",
              "    <tr>\n",
              "      <th>4</th>\n",
              "      <td>1004</td>\n",
              "      <td>2016-11-02</td>\n",
              "      <td>5403</td>\n",
              "      <td>158</td>\n",
              "      <td>9</td>\n",
              "      <td>1171.53</td>\n",
              "      <td>n</td>\n",
              "      <td>error</td>\n",
              "      <td>44</td>\n",
              "    </tr>\n",
              "  </tbody>\n",
              "</table>\n",
              "</div>"
            ],
            "text/plain": [
              "   serial_no       date  user_id  ...  user_type  user_class  purchase_week\n",
              "0       1000 2016-05-01     -101  ...          n       error             17\n",
              "1         -1 2016-09-01     5362  ...          n       error             35\n",
              "2       1002        NaT     5022  ...          n       error              0\n",
              "3       1003 2016-01-25     5811  ...          n       error              4\n",
              "4       1004 2016-11-02     5403  ...          n       error             44\n",
              "\n",
              "[5 rows x 9 columns]"
            ]
          },
          "metadata": {
            "tags": []
          }
        }
      ]
    },
    {
      "cell_type": "markdown",
      "metadata": {
        "id": "4APDNaLFV4jv",
        "colab_type": "text"
      },
      "source": [
        "## Handle Missing Values"
      ]
    },
    {
      "cell_type": "code",
      "metadata": {
        "ExecuteTime": {
          "start_time": "2019-11-15T14:02:30.377Z"
        },
        "id": "2vjkynTtV4jv",
        "colab_type": "code",
        "colab": {
          "base_uri": "https://localhost:8080/",
          "height": 196
        },
        "outputId": "9e86dc5f-2a12-484f-f220-06ee014f44f3"
      },
      "source": [
        "# Drop Rows with Missing Dates\n",
        "df_dropped = df.dropna(subset=['date'])\n",
        "display(df_dropped.head())"
      ],
      "execution_count": 35,
      "outputs": [
        {
          "output_type": "display_data",
          "data": {
            "text/html": [
              "<div>\n",
              "<style scoped>\n",
              "    .dataframe tbody tr th:only-of-type {\n",
              "        vertical-align: middle;\n",
              "    }\n",
              "\n",
              "    .dataframe tbody tr th {\n",
              "        vertical-align: top;\n",
              "    }\n",
              "\n",
              "    .dataframe thead th {\n",
              "        text-align: right;\n",
              "    }\n",
              "</style>\n",
              "<table border=\"1\" class=\"dataframe\">\n",
              "  <thead>\n",
              "    <tr style=\"text-align: right;\">\n",
              "      <th></th>\n",
              "      <th>serial_no</th>\n",
              "      <th>date</th>\n",
              "      <th>user_id</th>\n",
              "      <th>product_id</th>\n",
              "      <th>quantity_purchased</th>\n",
              "      <th>price</th>\n",
              "      <th>user_type</th>\n",
              "      <th>user_class</th>\n",
              "      <th>purchase_week</th>\n",
              "    </tr>\n",
              "  </thead>\n",
              "  <tbody>\n",
              "    <tr>\n",
              "      <th>0</th>\n",
              "      <td>1000</td>\n",
              "      <td>2016-05-01</td>\n",
              "      <td>-101</td>\n",
              "      <td>0</td>\n",
              "      <td>8</td>\n",
              "      <td>NaN</td>\n",
              "      <td>n</td>\n",
              "      <td>error</td>\n",
              "      <td>17</td>\n",
              "    </tr>\n",
              "    <tr>\n",
              "      <th>1</th>\n",
              "      <td>-1</td>\n",
              "      <td>2016-09-01</td>\n",
              "      <td>5362</td>\n",
              "      <td>375</td>\n",
              "      <td>32</td>\n",
              "      <td>2698.38</td>\n",
              "      <td>n</td>\n",
              "      <td>error</td>\n",
              "      <td>35</td>\n",
              "    </tr>\n",
              "    <tr>\n",
              "      <th>3</th>\n",
              "      <td>1003</td>\n",
              "      <td>2016-01-25</td>\n",
              "      <td>5811</td>\n",
              "      <td>219</td>\n",
              "      <td>6</td>\n",
              "      <td>4047.37</td>\n",
              "      <td>n</td>\n",
              "      <td>error</td>\n",
              "      <td>4</td>\n",
              "    </tr>\n",
              "    <tr>\n",
              "      <th>4</th>\n",
              "      <td>1004</td>\n",
              "      <td>2016-11-02</td>\n",
              "      <td>5403</td>\n",
              "      <td>158</td>\n",
              "      <td>9</td>\n",
              "      <td>1171.53</td>\n",
              "      <td>n</td>\n",
              "      <td>error</td>\n",
              "      <td>44</td>\n",
              "    </tr>\n",
              "    <tr>\n",
              "      <th>8</th>\n",
              "      <td>1008</td>\n",
              "      <td>2016-01-22</td>\n",
              "      <td>5968</td>\n",
              "      <td>408</td>\n",
              "      <td>12</td>\n",
              "      <td>2821.18</td>\n",
              "      <td>n</td>\n",
              "      <td>error</td>\n",
              "      <td>3</td>\n",
              "    </tr>\n",
              "  </tbody>\n",
              "</table>\n",
              "</div>"
            ],
            "text/plain": [
              "   serial_no       date  user_id  ...  user_type  user_class  purchase_week\n",
              "0       1000 2016-05-01     -101  ...          n       error             17\n",
              "1         -1 2016-09-01     5362  ...          n       error             35\n",
              "3       1003 2016-01-25     5811  ...          n       error              4\n",
              "4       1004 2016-11-02     5403  ...          n       error             44\n",
              "8       1008 2016-01-22     5968  ...          n       error              3\n",
              "\n",
              "[5 rows x 9 columns]"
            ]
          },
          "metadata": {
            "tags": []
          }
        }
      ]
    },
    {
      "cell_type": "code",
      "metadata": {
        "ExecuteTime": {
          "start_time": "2019-11-15T14:02:30.380Z"
        },
        "id": "SyVo_VoHV4jw",
        "colab_type": "code",
        "colab": {}
      },
      "source": [
        "# Filling missing price with mean price\n",
        "df_dropped['price'].fillna(value=np.round(df.price.mean(),decimals=2),\n",
        "                                inplace=True)"
      ],
      "execution_count": 0,
      "outputs": []
    },
    {
      "cell_type": "code",
      "metadata": {
        "ExecuteTime": {
          "start_time": "2019-11-15T14:02:30.382Z"
        },
        "id": "FudwcLMOV4jy",
        "colab_type": "code",
        "colab": {}
      },
      "source": [
        "# Fill missing user types using values from previous row\n",
        "df_dropped['user_type'].fillna(method='ffill',inplace=True)"
      ],
      "execution_count": 0,
      "outputs": []
    },
    {
      "cell_type": "markdown",
      "metadata": {
        "id": "M5N2As03V4j0",
        "colab_type": "text"
      },
      "source": [
        "## Handle Duplicates\n",
        "\n",
        "### Question\n",
        "+ Identify duplicates only for column ```serial_no```"
      ]
    },
    {
      "cell_type": "code",
      "metadata": {
        "ExecuteTime": {
          "start_time": "2019-11-15T14:02:30.390Z"
        },
        "id": "_zFWhH94V4j0",
        "colab_type": "code",
        "colab": {
          "base_uri": "https://localhost:8080/",
          "height": 213
        },
        "outputId": "0b0a16dd-dfe6-4ea9-cea3-6bdc68524b24"
      },
      "source": [
        "# sample duplicates. Identify for serial_no\n",
        "display(df_dropped[df_dropped.duplicated(subset=['serial_no'])].head())\n",
        "print(\"Shape of df={}\".format(df_dropped.shape))"
      ],
      "execution_count": 38,
      "outputs": [
        {
          "output_type": "display_data",
          "data": {
            "text/html": [
              "<div>\n",
              "<style scoped>\n",
              "    .dataframe tbody tr th:only-of-type {\n",
              "        vertical-align: middle;\n",
              "    }\n",
              "\n",
              "    .dataframe tbody tr th {\n",
              "        vertical-align: top;\n",
              "    }\n",
              "\n",
              "    .dataframe thead th {\n",
              "        text-align: right;\n",
              "    }\n",
              "</style>\n",
              "<table border=\"1\" class=\"dataframe\">\n",
              "  <thead>\n",
              "    <tr style=\"text-align: right;\">\n",
              "      <th></th>\n",
              "      <th>serial_no</th>\n",
              "      <th>date</th>\n",
              "      <th>user_id</th>\n",
              "      <th>product_id</th>\n",
              "      <th>quantity_purchased</th>\n",
              "      <th>price</th>\n",
              "      <th>user_type</th>\n",
              "      <th>user_class</th>\n",
              "      <th>purchase_week</th>\n",
              "    </tr>\n",
              "  </thead>\n",
              "  <tbody>\n",
              "    <tr>\n",
              "      <th>50</th>\n",
              "      <td>-1</td>\n",
              "      <td>2016-04-02</td>\n",
              "      <td>5098</td>\n",
              "      <td>412</td>\n",
              "      <td>22</td>\n",
              "      <td>4954.93</td>\n",
              "      <td>d</td>\n",
              "      <td>loyal_existing</td>\n",
              "      <td>13</td>\n",
              "    </tr>\n",
              "    <tr>\n",
              "      <th>99</th>\n",
              "      <td>-1</td>\n",
              "      <td>2016-03-01</td>\n",
              "      <td>5219</td>\n",
              "      <td>237</td>\n",
              "      <td>25</td>\n",
              "      <td>222.57</td>\n",
              "      <td>c</td>\n",
              "      <td>existing</td>\n",
              "      <td>9</td>\n",
              "    </tr>\n",
              "    <tr>\n",
              "      <th>134</th>\n",
              "      <td>-1</td>\n",
              "      <td>2016-03-02</td>\n",
              "      <td>5056</td>\n",
              "      <td>861</td>\n",
              "      <td>11</td>\n",
              "      <td>508.33</td>\n",
              "      <td>c</td>\n",
              "      <td>existing</td>\n",
              "      <td>9</td>\n",
              "    </tr>\n",
              "    <tr>\n",
              "      <th>183</th>\n",
              "      <td>-1</td>\n",
              "      <td>2016-01-15</td>\n",
              "      <td>5032</td>\n",
              "      <td>721</td>\n",
              "      <td>27</td>\n",
              "      <td>2693.60</td>\n",
              "      <td>c</td>\n",
              "      <td>existing</td>\n",
              "      <td>2</td>\n",
              "    </tr>\n",
              "    <tr>\n",
              "      <th>280</th>\n",
              "      <td>-1</td>\n",
              "      <td>2016-06-02</td>\n",
              "      <td>5685</td>\n",
              "      <td>985</td>\n",
              "      <td>21</td>\n",
              "      <td>4426.05</td>\n",
              "      <td>c</td>\n",
              "      <td>existing</td>\n",
              "      <td>22</td>\n",
              "    </tr>\n",
              "  </tbody>\n",
              "</table>\n",
              "</div>"
            ],
            "text/plain": [
              "     serial_no       date  user_id  ...  user_type      user_class  purchase_week\n",
              "50          -1 2016-04-02     5098  ...          d  loyal_existing             13\n",
              "99          -1 2016-03-01     5219  ...          c        existing              9\n",
              "134         -1 2016-03-02     5056  ...          c        existing              9\n",
              "183         -1 2016-01-15     5032  ...          c        existing              2\n",
              "280         -1 2016-06-02     5685  ...          c        existing             22\n",
              "\n",
              "[5 rows x 9 columns]"
            ]
          },
          "metadata": {
            "tags": []
          }
        },
        {
          "output_type": "stream",
          "text": [
            "Shape of df=(969, 9)\n"
          ],
          "name": "stdout"
        }
      ]
    },
    {
      "cell_type": "code",
      "metadata": {
        "ExecuteTime": {
          "start_time": "2019-11-15T14:02:30.393Z"
        },
        "id": "msiSpAU0V4j1",
        "colab_type": "code",
        "colab": {
          "base_uri": "https://localhost:8080/",
          "height": 213
        },
        "outputId": "2cff3f28-69fd-440f-9550-dc40571013b6"
      },
      "source": [
        "# Drop Duplicates\n",
        "df_dropped.drop_duplicates(subset=['serial_no'],inplace=True)\n",
        "display(df_dropped.head())\n",
        "print(\"Shape of df={}\".format(df_dropped.shape))"
      ],
      "execution_count": 39,
      "outputs": [
        {
          "output_type": "display_data",
          "data": {
            "text/html": [
              "<div>\n",
              "<style scoped>\n",
              "    .dataframe tbody tr th:only-of-type {\n",
              "        vertical-align: middle;\n",
              "    }\n",
              "\n",
              "    .dataframe tbody tr th {\n",
              "        vertical-align: top;\n",
              "    }\n",
              "\n",
              "    .dataframe thead th {\n",
              "        text-align: right;\n",
              "    }\n",
              "</style>\n",
              "<table border=\"1\" class=\"dataframe\">\n",
              "  <thead>\n",
              "    <tr style=\"text-align: right;\">\n",
              "      <th></th>\n",
              "      <th>serial_no</th>\n",
              "      <th>date</th>\n",
              "      <th>user_id</th>\n",
              "      <th>product_id</th>\n",
              "      <th>quantity_purchased</th>\n",
              "      <th>price</th>\n",
              "      <th>user_type</th>\n",
              "      <th>user_class</th>\n",
              "      <th>purchase_week</th>\n",
              "    </tr>\n",
              "  </thead>\n",
              "  <tbody>\n",
              "    <tr>\n",
              "      <th>0</th>\n",
              "      <td>1000</td>\n",
              "      <td>2016-05-01</td>\n",
              "      <td>-101</td>\n",
              "      <td>0</td>\n",
              "      <td>8</td>\n",
              "      <td>2348.00</td>\n",
              "      <td>n</td>\n",
              "      <td>error</td>\n",
              "      <td>17</td>\n",
              "    </tr>\n",
              "    <tr>\n",
              "      <th>1</th>\n",
              "      <td>-1</td>\n",
              "      <td>2016-09-01</td>\n",
              "      <td>5362</td>\n",
              "      <td>375</td>\n",
              "      <td>32</td>\n",
              "      <td>2698.38</td>\n",
              "      <td>n</td>\n",
              "      <td>error</td>\n",
              "      <td>35</td>\n",
              "    </tr>\n",
              "    <tr>\n",
              "      <th>3</th>\n",
              "      <td>1003</td>\n",
              "      <td>2016-01-25</td>\n",
              "      <td>5811</td>\n",
              "      <td>219</td>\n",
              "      <td>6</td>\n",
              "      <td>4047.37</td>\n",
              "      <td>n</td>\n",
              "      <td>error</td>\n",
              "      <td>4</td>\n",
              "    </tr>\n",
              "    <tr>\n",
              "      <th>4</th>\n",
              "      <td>1004</td>\n",
              "      <td>2016-11-02</td>\n",
              "      <td>5403</td>\n",
              "      <td>158</td>\n",
              "      <td>9</td>\n",
              "      <td>1171.53</td>\n",
              "      <td>n</td>\n",
              "      <td>error</td>\n",
              "      <td>44</td>\n",
              "    </tr>\n",
              "    <tr>\n",
              "      <th>8</th>\n",
              "      <td>1008</td>\n",
              "      <td>2016-01-22</td>\n",
              "      <td>5968</td>\n",
              "      <td>408</td>\n",
              "      <td>12</td>\n",
              "      <td>2821.18</td>\n",
              "      <td>n</td>\n",
              "      <td>error</td>\n",
              "      <td>3</td>\n",
              "    </tr>\n",
              "  </tbody>\n",
              "</table>\n",
              "</div>"
            ],
            "text/plain": [
              "   serial_no       date  user_id  ...  user_type  user_class  purchase_week\n",
              "0       1000 2016-05-01     -101  ...          n       error             17\n",
              "1         -1 2016-09-01     5362  ...          n       error             35\n",
              "3       1003 2016-01-25     5811  ...          n       error              4\n",
              "4       1004 2016-11-02     5403  ...          n       error             44\n",
              "8       1008 2016-01-22     5968  ...          n       error              3\n",
              "\n",
              "[5 rows x 9 columns]"
            ]
          },
          "metadata": {
            "tags": []
          }
        },
        {
          "output_type": "stream",
          "text": [
            "Shape of df=(941, 9)\n"
          ],
          "name": "stdout"
        }
      ]
    },
    {
      "cell_type": "markdown",
      "metadata": {
        "id": "kxGjq9aNV4j4",
        "colab_type": "text"
      },
      "source": [
        "### Question\n",
        "+ Remove rows which have less than 3 attributes with non-missing data\n",
        "+ Print the shape of dataframe thus prepared"
      ]
    },
    {
      "cell_type": "code",
      "metadata": {
        "ExecuteTime": {
          "start_time": "2019-11-15T14:02:30.403Z"
        },
        "id": "A52LVNdsV4j4",
        "colab_type": "code",
        "colab": {
          "base_uri": "https://localhost:8080/",
          "height": 213
        },
        "outputId": "cfbdbcef-da5e-4d71-90f2-8fbb718289d0"
      },
      "source": [
        "# Remove rows which have less than 3 attributes with non-missing data\n",
        "display(df.dropna(thresh=3).head())\n",
        "print(\"Shape of df={}\".format(df.dropna(thresh=3).shape))"
      ],
      "execution_count": 42,
      "outputs": [
        {
          "output_type": "display_data",
          "data": {
            "text/html": [
              "<div>\n",
              "<style scoped>\n",
              "    .dataframe tbody tr th:only-of-type {\n",
              "        vertical-align: middle;\n",
              "    }\n",
              "\n",
              "    .dataframe tbody tr th {\n",
              "        vertical-align: top;\n",
              "    }\n",
              "\n",
              "    .dataframe thead th {\n",
              "        text-align: right;\n",
              "    }\n",
              "</style>\n",
              "<table border=\"1\" class=\"dataframe\">\n",
              "  <thead>\n",
              "    <tr style=\"text-align: right;\">\n",
              "      <th></th>\n",
              "      <th>serial_no</th>\n",
              "      <th>date</th>\n",
              "      <th>user_id</th>\n",
              "      <th>product_id</th>\n",
              "      <th>quantity_purchased</th>\n",
              "      <th>price</th>\n",
              "      <th>user_type</th>\n",
              "      <th>user_class</th>\n",
              "      <th>purchase_week</th>\n",
              "    </tr>\n",
              "  </thead>\n",
              "  <tbody>\n",
              "    <tr>\n",
              "      <th>0</th>\n",
              "      <td>1000</td>\n",
              "      <td>2016-05-01</td>\n",
              "      <td>-101</td>\n",
              "      <td>0</td>\n",
              "      <td>8</td>\n",
              "      <td>NaN</td>\n",
              "      <td>n</td>\n",
              "      <td>error</td>\n",
              "      <td>17</td>\n",
              "    </tr>\n",
              "    <tr>\n",
              "      <th>1</th>\n",
              "      <td>-1</td>\n",
              "      <td>2016-09-01</td>\n",
              "      <td>5362</td>\n",
              "      <td>375</td>\n",
              "      <td>32</td>\n",
              "      <td>2698.38</td>\n",
              "      <td>n</td>\n",
              "      <td>error</td>\n",
              "      <td>35</td>\n",
              "    </tr>\n",
              "    <tr>\n",
              "      <th>2</th>\n",
              "      <td>1002</td>\n",
              "      <td>NaT</td>\n",
              "      <td>5022</td>\n",
              "      <td>419</td>\n",
              "      <td>39</td>\n",
              "      <td>426.02</td>\n",
              "      <td>n</td>\n",
              "      <td>error</td>\n",
              "      <td>0</td>\n",
              "    </tr>\n",
              "    <tr>\n",
              "      <th>3</th>\n",
              "      <td>1003</td>\n",
              "      <td>2016-01-25</td>\n",
              "      <td>5811</td>\n",
              "      <td>219</td>\n",
              "      <td>6</td>\n",
              "      <td>4047.37</td>\n",
              "      <td>n</td>\n",
              "      <td>error</td>\n",
              "      <td>4</td>\n",
              "    </tr>\n",
              "    <tr>\n",
              "      <th>4</th>\n",
              "      <td>1004</td>\n",
              "      <td>2016-11-02</td>\n",
              "      <td>5403</td>\n",
              "      <td>158</td>\n",
              "      <td>9</td>\n",
              "      <td>1171.53</td>\n",
              "      <td>n</td>\n",
              "      <td>error</td>\n",
              "      <td>44</td>\n",
              "    </tr>\n",
              "  </tbody>\n",
              "</table>\n",
              "</div>"
            ],
            "text/plain": [
              "   serial_no       date  user_id  ...  user_type  user_class  purchase_week\n",
              "0       1000 2016-05-01     -101  ...          n       error             17\n",
              "1         -1 2016-09-01     5362  ...          n       error             35\n",
              "2       1002        NaT     5022  ...          n       error              0\n",
              "3       1003 2016-01-25     5811  ...          n       error              4\n",
              "4       1004 2016-11-02     5403  ...          n       error             44\n",
              "\n",
              "[5 rows x 9 columns]"
            ]
          },
          "metadata": {
            "tags": []
          }
        },
        {
          "output_type": "stream",
          "text": [
            "Shape of df=(1000, 9)\n"
          ],
          "name": "stdout"
        }
      ]
    },
    {
      "cell_type": "markdown",
      "metadata": {
        "id": "oTV1r9PoV4j7",
        "colab_type": "text"
      },
      "source": [
        "## Handle Categoricals"
      ]
    },
    {
      "cell_type": "markdown",
      "metadata": {
        "id": "hlM07JlrV4j8",
        "colab_type": "text"
      },
      "source": [
        "### One Hot Encoding"
      ]
    },
    {
      "cell_type": "code",
      "metadata": {
        "ExecuteTime": {
          "start_time": "2019-11-15T14:02:30.421Z"
        },
        "id": "7aO4ZntMV4j8",
        "colab_type": "code",
        "colab": {
          "base_uri": "https://localhost:8080/",
          "height": 263
        },
        "outputId": "10e0af5e-5086-4c90-c80f-f0791e1cbf08"
      },
      "source": [
        "display(pd.get_dummies(df,columns=['user_type']).head())"
      ],
      "execution_count": 43,
      "outputs": [
        {
          "output_type": "display_data",
          "data": {
            "text/html": [
              "<div>\n",
              "<style scoped>\n",
              "    .dataframe tbody tr th:only-of-type {\n",
              "        vertical-align: middle;\n",
              "    }\n",
              "\n",
              "    .dataframe tbody tr th {\n",
              "        vertical-align: top;\n",
              "    }\n",
              "\n",
              "    .dataframe thead th {\n",
              "        text-align: right;\n",
              "    }\n",
              "</style>\n",
              "<table border=\"1\" class=\"dataframe\">\n",
              "  <thead>\n",
              "    <tr style=\"text-align: right;\">\n",
              "      <th></th>\n",
              "      <th>serial_no</th>\n",
              "      <th>date</th>\n",
              "      <th>user_id</th>\n",
              "      <th>product_id</th>\n",
              "      <th>quantity_purchased</th>\n",
              "      <th>price</th>\n",
              "      <th>user_class</th>\n",
              "      <th>purchase_week</th>\n",
              "      <th>user_type_a</th>\n",
              "      <th>user_type_b</th>\n",
              "      <th>user_type_c</th>\n",
              "      <th>user_type_d</th>\n",
              "      <th>user_type_n</th>\n",
              "    </tr>\n",
              "  </thead>\n",
              "  <tbody>\n",
              "    <tr>\n",
              "      <th>0</th>\n",
              "      <td>1000</td>\n",
              "      <td>2016-05-01</td>\n",
              "      <td>-101</td>\n",
              "      <td>0</td>\n",
              "      <td>8</td>\n",
              "      <td>NaN</td>\n",
              "      <td>error</td>\n",
              "      <td>17</td>\n",
              "      <td>0</td>\n",
              "      <td>0</td>\n",
              "      <td>0</td>\n",
              "      <td>0</td>\n",
              "      <td>1</td>\n",
              "    </tr>\n",
              "    <tr>\n",
              "      <th>1</th>\n",
              "      <td>-1</td>\n",
              "      <td>2016-09-01</td>\n",
              "      <td>5362</td>\n",
              "      <td>375</td>\n",
              "      <td>32</td>\n",
              "      <td>2698.38</td>\n",
              "      <td>error</td>\n",
              "      <td>35</td>\n",
              "      <td>0</td>\n",
              "      <td>0</td>\n",
              "      <td>0</td>\n",
              "      <td>0</td>\n",
              "      <td>1</td>\n",
              "    </tr>\n",
              "    <tr>\n",
              "      <th>2</th>\n",
              "      <td>1002</td>\n",
              "      <td>NaT</td>\n",
              "      <td>5022</td>\n",
              "      <td>419</td>\n",
              "      <td>39</td>\n",
              "      <td>426.02</td>\n",
              "      <td>error</td>\n",
              "      <td>0</td>\n",
              "      <td>0</td>\n",
              "      <td>0</td>\n",
              "      <td>0</td>\n",
              "      <td>0</td>\n",
              "      <td>1</td>\n",
              "    </tr>\n",
              "    <tr>\n",
              "      <th>3</th>\n",
              "      <td>1003</td>\n",
              "      <td>2016-01-25</td>\n",
              "      <td>5811</td>\n",
              "      <td>219</td>\n",
              "      <td>6</td>\n",
              "      <td>4047.37</td>\n",
              "      <td>error</td>\n",
              "      <td>4</td>\n",
              "      <td>0</td>\n",
              "      <td>0</td>\n",
              "      <td>0</td>\n",
              "      <td>0</td>\n",
              "      <td>1</td>\n",
              "    </tr>\n",
              "    <tr>\n",
              "      <th>4</th>\n",
              "      <td>1004</td>\n",
              "      <td>2016-11-02</td>\n",
              "      <td>5403</td>\n",
              "      <td>158</td>\n",
              "      <td>9</td>\n",
              "      <td>1171.53</td>\n",
              "      <td>error</td>\n",
              "      <td>44</td>\n",
              "      <td>0</td>\n",
              "      <td>0</td>\n",
              "      <td>0</td>\n",
              "      <td>0</td>\n",
              "      <td>1</td>\n",
              "    </tr>\n",
              "  </tbody>\n",
              "</table>\n",
              "</div>"
            ],
            "text/plain": [
              "   serial_no       date  user_id  ...  user_type_c  user_type_d  user_type_n\n",
              "0       1000 2016-05-01     -101  ...            0            0            1\n",
              "1         -1 2016-09-01     5362  ...            0            0            1\n",
              "2       1002        NaT     5022  ...            0            0            1\n",
              "3       1003 2016-01-25     5811  ...            0            0            1\n",
              "4       1004 2016-11-02     5403  ...            0            0            1\n",
              "\n",
              "[5 rows x 13 columns]"
            ]
          },
          "metadata": {
            "tags": []
          }
        }
      ]
    },
    {
      "cell_type": "markdown",
      "metadata": {
        "id": "aG6P8bPDV4j-",
        "colab_type": "text"
      },
      "source": [
        "### Label Encoding\n",
        "\n",
        "### Question\n",
        "+ Use a dictionary to encode user_types in sequence of numbers. Replace missing/Nan's with -1"
      ]
    },
    {
      "cell_type": "code",
      "metadata": {
        "ExecuteTime": {
          "start_time": "2019-11-15T14:02:30.430Z"
        },
        "id": "KkzTAjsrV4j-",
        "colab_type": "code",
        "colab": {
          "base_uri": "https://localhost:8080/",
          "height": 196
        },
        "outputId": "6d4855d0-c5dd-42a8-cbcd-d0021163f99e"
      },
      "source": [
        "type_map = {'a': 0, 'b': 1, 'c': 2, 'd': 3, np.NAN: -1}\n",
        "df['encoded_user_type'] = df.user_type.map(type_map)\n",
        "display((df.tail()))"
      ],
      "execution_count": 44,
      "outputs": [
        {
          "output_type": "display_data",
          "data": {
            "text/html": [
              "<div>\n",
              "<style scoped>\n",
              "    .dataframe tbody tr th:only-of-type {\n",
              "        vertical-align: middle;\n",
              "    }\n",
              "\n",
              "    .dataframe tbody tr th {\n",
              "        vertical-align: top;\n",
              "    }\n",
              "\n",
              "    .dataframe thead th {\n",
              "        text-align: right;\n",
              "    }\n",
              "</style>\n",
              "<table border=\"1\" class=\"dataframe\">\n",
              "  <thead>\n",
              "    <tr style=\"text-align: right;\">\n",
              "      <th></th>\n",
              "      <th>serial_no</th>\n",
              "      <th>date</th>\n",
              "      <th>user_id</th>\n",
              "      <th>product_id</th>\n",
              "      <th>quantity_purchased</th>\n",
              "      <th>price</th>\n",
              "      <th>user_type</th>\n",
              "      <th>user_class</th>\n",
              "      <th>purchase_week</th>\n",
              "      <th>encoded_user_type</th>\n",
              "    </tr>\n",
              "  </thead>\n",
              "  <tbody>\n",
              "    <tr>\n",
              "      <th>995</th>\n",
              "      <td>1995</td>\n",
              "      <td>2016-02-02</td>\n",
              "      <td>5186</td>\n",
              "      <td>1033</td>\n",
              "      <td>18</td>\n",
              "      <td>4584.31</td>\n",
              "      <td>a</td>\n",
              "      <td>new</td>\n",
              "      <td>5</td>\n",
              "      <td>0.0</td>\n",
              "    </tr>\n",
              "    <tr>\n",
              "      <th>996</th>\n",
              "      <td>1996</td>\n",
              "      <td>2016-01-21</td>\n",
              "      <td>5104</td>\n",
              "      <td>886</td>\n",
              "      <td>27</td>\n",
              "      <td>1100.80</td>\n",
              "      <td>b</td>\n",
              "      <td>new</td>\n",
              "      <td>3</td>\n",
              "      <td>1.0</td>\n",
              "    </tr>\n",
              "    <tr>\n",
              "      <th>997</th>\n",
              "      <td>1997</td>\n",
              "      <td>2016-01-21</td>\n",
              "      <td>5668</td>\n",
              "      <td>892</td>\n",
              "      <td>41</td>\n",
              "      <td>815.71</td>\n",
              "      <td>a</td>\n",
              "      <td>new</td>\n",
              "      <td>3</td>\n",
              "      <td>0.0</td>\n",
              "    </tr>\n",
              "    <tr>\n",
              "      <th>998</th>\n",
              "      <td>1998</td>\n",
              "      <td>2016-01-16</td>\n",
              "      <td>5096</td>\n",
              "      <td>732</td>\n",
              "      <td>1</td>\n",
              "      <td>1321.48</td>\n",
              "      <td>c</td>\n",
              "      <td>existing</td>\n",
              "      <td>2</td>\n",
              "      <td>2.0</td>\n",
              "    </tr>\n",
              "    <tr>\n",
              "      <th>999</th>\n",
              "      <td>1999</td>\n",
              "      <td>2016-05-02</td>\n",
              "      <td>5219</td>\n",
              "      <td>237</td>\n",
              "      <td>24</td>\n",
              "      <td>328.34</td>\n",
              "      <td>a</td>\n",
              "      <td>new</td>\n",
              "      <td>18</td>\n",
              "      <td>0.0</td>\n",
              "    </tr>\n",
              "  </tbody>\n",
              "</table>\n",
              "</div>"
            ],
            "text/plain": [
              "     serial_no       date  user_id  ...  user_class  purchase_week  encoded_user_type\n",
              "995       1995 2016-02-02     5186  ...         new              5                0.0\n",
              "996       1996 2016-01-21     5104  ...         new              3                1.0\n",
              "997       1997 2016-01-21     5668  ...         new              3                0.0\n",
              "998       1998 2016-01-16     5096  ...    existing              2                2.0\n",
              "999       1999 2016-05-02     5219  ...         new             18                0.0\n",
              "\n",
              "[5 rows x 10 columns]"
            ]
          },
          "metadata": {
            "tags": []
          }
        }
      ]
    },
    {
      "cell_type": "markdown",
      "metadata": {
        "id": "UxfWk0hyV4j_",
        "colab_type": "text"
      },
      "source": [
        "## Handle Numerical Attributes"
      ]
    },
    {
      "cell_type": "markdown",
      "metadata": {
        "id": "nMf1AKhMV4kA",
        "colab_type": "text"
      },
      "source": [
        "### Min-Max Scalar\n",
        "### Question\n",
        "+ Control the range of numerical attribute price by using ```MinMaxScaler``` transformer"
      ]
    },
    {
      "cell_type": "code",
      "metadata": {
        "ExecuteTime": {
          "start_time": "2019-11-15T14:02:30.444Z"
        },
        "id": "zyaklXmmV4kA",
        "colab_type": "code",
        "colab": {}
      },
      "source": [
        "df_normalized = df.dropna().copy()\n",
        "min_max_scaler = preprocessing.MinMaxScaler()\n",
        "np_scaled = min_max_scaler.fit_transform(df_normalized['price'].values.reshape(-1,1))\n",
        "df_normalized['price'] = np_scaled.reshape(-1,1)"
      ],
      "execution_count": 0,
      "outputs": []
    },
    {
      "cell_type": "code",
      "metadata": {
        "ExecuteTime": {
          "start_time": "2019-11-15T14:02:30.446Z"
        },
        "id": "QrOhPZ0uV4kD",
        "colab_type": "code",
        "colab": {
          "base_uri": "https://localhost:8080/",
          "height": 196
        },
        "outputId": "156bc752-5854-4357-cc0d-a1d11854d3ff"
      },
      "source": [
        "display(df_normalized.head())"
      ],
      "execution_count": 46,
      "outputs": [
        {
          "output_type": "display_data",
          "data": {
            "text/html": [
              "<div>\n",
              "<style scoped>\n",
              "    .dataframe tbody tr th:only-of-type {\n",
              "        vertical-align: middle;\n",
              "    }\n",
              "\n",
              "    .dataframe tbody tr th {\n",
              "        vertical-align: top;\n",
              "    }\n",
              "\n",
              "    .dataframe thead th {\n",
              "        text-align: right;\n",
              "    }\n",
              "</style>\n",
              "<table border=\"1\" class=\"dataframe\">\n",
              "  <thead>\n",
              "    <tr style=\"text-align: right;\">\n",
              "      <th></th>\n",
              "      <th>serial_no</th>\n",
              "      <th>date</th>\n",
              "      <th>user_id</th>\n",
              "      <th>product_id</th>\n",
              "      <th>quantity_purchased</th>\n",
              "      <th>price</th>\n",
              "      <th>user_type</th>\n",
              "      <th>user_class</th>\n",
              "      <th>purchase_week</th>\n",
              "      <th>encoded_user_type</th>\n",
              "    </tr>\n",
              "  </thead>\n",
              "  <tbody>\n",
              "    <tr>\n",
              "      <th>20</th>\n",
              "      <td>1020</td>\n",
              "      <td>2016-01-14</td>\n",
              "      <td>5841</td>\n",
              "      <td>1052</td>\n",
              "      <td>29</td>\n",
              "      <td>0.377595</td>\n",
              "      <td>a</td>\n",
              "      <td>new</td>\n",
              "      <td>2</td>\n",
              "      <td>0.0</td>\n",
              "    </tr>\n",
              "    <tr>\n",
              "      <th>25</th>\n",
              "      <td>1025</td>\n",
              "      <td>2016-09-01</td>\n",
              "      <td>5167</td>\n",
              "      <td>1077</td>\n",
              "      <td>26</td>\n",
              "      <td>0.354658</td>\n",
              "      <td>d</td>\n",
              "      <td>loyal_existing</td>\n",
              "      <td>35</td>\n",
              "      <td>3.0</td>\n",
              "    </tr>\n",
              "    <tr>\n",
              "      <th>30</th>\n",
              "      <td>1030</td>\n",
              "      <td>2016-03-02</td>\n",
              "      <td>5434</td>\n",
              "      <td>956</td>\n",
              "      <td>22</td>\n",
              "      <td>0.066092</td>\n",
              "      <td>d</td>\n",
              "      <td>loyal_existing</td>\n",
              "      <td>9</td>\n",
              "      <td>3.0</td>\n",
              "    </tr>\n",
              "    <tr>\n",
              "      <th>36</th>\n",
              "      <td>1036</td>\n",
              "      <td>2016-01-14</td>\n",
              "      <td>5611</td>\n",
              "      <td>586</td>\n",
              "      <td>39</td>\n",
              "      <td>0.017376</td>\n",
              "      <td>a</td>\n",
              "      <td>new</td>\n",
              "      <td>2</td>\n",
              "      <td>0.0</td>\n",
              "    </tr>\n",
              "    <tr>\n",
              "      <th>37</th>\n",
              "      <td>1037</td>\n",
              "      <td>2016-05-01</td>\n",
              "      <td>5836</td>\n",
              "      <td>530</td>\n",
              "      <td>20</td>\n",
              "      <td>0.442558</td>\n",
              "      <td>d</td>\n",
              "      <td>loyal_existing</td>\n",
              "      <td>17</td>\n",
              "      <td>3.0</td>\n",
              "    </tr>\n",
              "  </tbody>\n",
              "</table>\n",
              "</div>"
            ],
            "text/plain": [
              "    serial_no       date  ...  purchase_week  encoded_user_type\n",
              "20       1020 2016-01-14  ...              2                0.0\n",
              "25       1025 2016-09-01  ...             35                3.0\n",
              "30       1030 2016-03-02  ...              9                3.0\n",
              "36       1036 2016-01-14  ...              2                0.0\n",
              "37       1037 2016-05-01  ...             17                3.0\n",
              "\n",
              "[5 rows x 10 columns]"
            ]
          },
          "metadata": {
            "tags": []
          }
        }
      ]
    },
    {
      "cell_type": "markdown",
      "metadata": {
        "id": "wR4h2KiZV4kE",
        "colab_type": "text"
      },
      "source": [
        "### Robust Scaler"
      ]
    },
    {
      "cell_type": "code",
      "metadata": {
        "ExecuteTime": {
          "start_time": "2019-11-15T14:02:30.454Z"
        },
        "id": "HZmiNETLV4kF",
        "colab_type": "code",
        "colab": {}
      },
      "source": [
        "df_normalized = df.dropna().copy()\n",
        "robust_scaler = preprocessing.RobustScaler()\n",
        "rs_scaled = robust_scaler.fit_transform(df_normalized['quantity_purchased'].values.reshape(-1,1))\n",
        "df_normalized['quantity_purchased'] = rs_scaled.reshape(-1,1)"
      ],
      "execution_count": 0,
      "outputs": []
    },
    {
      "cell_type": "code",
      "metadata": {
        "ExecuteTime": {
          "start_time": "2019-11-15T14:02:30.457Z"
        },
        "id": "9e4DaFx5V4kG",
        "colab_type": "code",
        "colab": {
          "base_uri": "https://localhost:8080/",
          "height": 196
        },
        "outputId": "07aaf833-d162-430c-cf77-7aa632b2efb0"
      },
      "source": [
        "display(df_normalized.head())"
      ],
      "execution_count": 48,
      "outputs": [
        {
          "output_type": "display_data",
          "data": {
            "text/html": [
              "<div>\n",
              "<style scoped>\n",
              "    .dataframe tbody tr th:only-of-type {\n",
              "        vertical-align: middle;\n",
              "    }\n",
              "\n",
              "    .dataframe tbody tr th {\n",
              "        vertical-align: top;\n",
              "    }\n",
              "\n",
              "    .dataframe thead th {\n",
              "        text-align: right;\n",
              "    }\n",
              "</style>\n",
              "<table border=\"1\" class=\"dataframe\">\n",
              "  <thead>\n",
              "    <tr style=\"text-align: right;\">\n",
              "      <th></th>\n",
              "      <th>serial_no</th>\n",
              "      <th>date</th>\n",
              "      <th>user_id</th>\n",
              "      <th>product_id</th>\n",
              "      <th>quantity_purchased</th>\n",
              "      <th>price</th>\n",
              "      <th>user_type</th>\n",
              "      <th>user_class</th>\n",
              "      <th>purchase_week</th>\n",
              "      <th>encoded_user_type</th>\n",
              "    </tr>\n",
              "  </thead>\n",
              "  <tbody>\n",
              "    <tr>\n",
              "      <th>20</th>\n",
              "      <td>1020</td>\n",
              "      <td>2016-01-14</td>\n",
              "      <td>5841</td>\n",
              "      <td>1052</td>\n",
              "      <td>0.473684</td>\n",
              "      <td>3549.63</td>\n",
              "      <td>a</td>\n",
              "      <td>new</td>\n",
              "      <td>2</td>\n",
              "      <td>0.0</td>\n",
              "    </tr>\n",
              "    <tr>\n",
              "      <th>25</th>\n",
              "      <td>1025</td>\n",
              "      <td>2016-09-01</td>\n",
              "      <td>5167</td>\n",
              "      <td>1077</td>\n",
              "      <td>0.315789</td>\n",
              "      <td>3334.26</td>\n",
              "      <td>d</td>\n",
              "      <td>loyal_existing</td>\n",
              "      <td>35</td>\n",
              "      <td>3.0</td>\n",
              "    </tr>\n",
              "    <tr>\n",
              "      <th>30</th>\n",
              "      <td>1030</td>\n",
              "      <td>2016-03-02</td>\n",
              "      <td>5434</td>\n",
              "      <td>956</td>\n",
              "      <td>0.105263</td>\n",
              "      <td>624.80</td>\n",
              "      <td>d</td>\n",
              "      <td>loyal_existing</td>\n",
              "      <td>9</td>\n",
              "      <td>3.0</td>\n",
              "    </tr>\n",
              "    <tr>\n",
              "      <th>36</th>\n",
              "      <td>1036</td>\n",
              "      <td>2016-01-14</td>\n",
              "      <td>5611</td>\n",
              "      <td>586</td>\n",
              "      <td>1.000000</td>\n",
              "      <td>167.39</td>\n",
              "      <td>a</td>\n",
              "      <td>new</td>\n",
              "      <td>2</td>\n",
              "      <td>0.0</td>\n",
              "    </tr>\n",
              "    <tr>\n",
              "      <th>37</th>\n",
              "      <td>1037</td>\n",
              "      <td>2016-05-01</td>\n",
              "      <td>5836</td>\n",
              "      <td>530</td>\n",
              "      <td>0.000000</td>\n",
              "      <td>4159.59</td>\n",
              "      <td>d</td>\n",
              "      <td>loyal_existing</td>\n",
              "      <td>17</td>\n",
              "      <td>3.0</td>\n",
              "    </tr>\n",
              "  </tbody>\n",
              "</table>\n",
              "</div>"
            ],
            "text/plain": [
              "    serial_no       date  ...  purchase_week  encoded_user_type\n",
              "20       1020 2016-01-14  ...              2                0.0\n",
              "25       1025 2016-09-01  ...             35                3.0\n",
              "30       1030 2016-03-02  ...              9                3.0\n",
              "36       1036 2016-01-14  ...              2                0.0\n",
              "37       1037 2016-05-01  ...             17                3.0\n",
              "\n",
              "[5 rows x 10 columns]"
            ]
          },
          "metadata": {
            "tags": []
          }
        }
      ]
    },
    {
      "cell_type": "markdown",
      "metadata": {
        "id": "RA5b4CiDV4kH",
        "colab_type": "text"
      },
      "source": [
        "## Group-By\n",
        "\n",
        "### Question\n",
        "+ Group By  attribute ```user_class``` and get sum of quantity_purchased\n",
        "\n",
        "*Hint:* you may want to use Pandas [`groupby` method](http://pandas.pydata.org/pandas-docs/stable/generated/pandas.DataFrame.groupby.html) to group by certain attributes before calculating the statistic.\n",
        "\n",
        "Try calculating multiple statistics (mean, median, etc) in a single table (i.e. with a single groupby call). See the section of the Pandas documentation on [applying multiple functions at once](http://pandas.pydata.org/pandas-docs/stable/groupby.html#applying-multiple-functions-at-once) for a hint."
      ]
    },
    {
      "cell_type": "code",
      "metadata": {
        "ExecuteTime": {
          "start_time": "2019-11-15T14:02:30.465Z"
        },
        "id": "2pl-aq78V4kI",
        "colab_type": "code",
        "colab": {
          "base_uri": "https://localhost:8080/",
          "height": 117
        },
        "outputId": "fc4e93ed-1961-49a3-dece-7fc494804e08"
      },
      "source": [
        "# Group By attributes user_class and get sum of quantity_purchased\n",
        "print(df.groupby(['user_class'])['quantity_purchased'].sum())"
      ],
      "execution_count": 49,
      "outputs": [
        {
          "output_type": "stream",
          "text": [
            "user_class\n",
            "error              656\n",
            "existing          5878\n",
            "loyal_existing    4134\n",
            "new               9870\n",
            "Name: quantity_purchased, dtype: int64\n"
          ],
          "name": "stdout"
        }
      ]
    },
    {
      "cell_type": "code",
      "metadata": {
        "ExecuteTime": {
          "start_time": "2019-11-15T14:02:30.468Z"
        },
        "id": "Knu9iT1UV4kJ",
        "colab_type": "code",
        "colab": {
          "base_uri": "https://localhost:8080/",
          "height": 196
        },
        "outputId": "0f1c6446-b522-4d05-a0c9-75c03f4fc8fd"
      },
      "source": [
        "# Aggregate Functions. Sum, Mean and Non Zero Row Count\n",
        "display(\n",
        "    df.groupby(['user_class'])['quantity_purchased'].agg(\n",
        "        [np.sum, np.mean, np.count_nonzero]))"
      ],
      "execution_count": 50,
      "outputs": [
        {
          "output_type": "display_data",
          "data": {
            "text/html": [
              "<div>\n",
              "<style scoped>\n",
              "    .dataframe tbody tr th:only-of-type {\n",
              "        vertical-align: middle;\n",
              "    }\n",
              "\n",
              "    .dataframe tbody tr th {\n",
              "        vertical-align: top;\n",
              "    }\n",
              "\n",
              "    .dataframe thead th {\n",
              "        text-align: right;\n",
              "    }\n",
              "</style>\n",
              "<table border=\"1\" class=\"dataframe\">\n",
              "  <thead>\n",
              "    <tr style=\"text-align: right;\">\n",
              "      <th></th>\n",
              "      <th>sum</th>\n",
              "      <th>mean</th>\n",
              "      <th>count_nonzero</th>\n",
              "    </tr>\n",
              "    <tr>\n",
              "      <th>user_class</th>\n",
              "      <th></th>\n",
              "      <th></th>\n",
              "      <th></th>\n",
              "    </tr>\n",
              "  </thead>\n",
              "  <tbody>\n",
              "    <tr>\n",
              "      <th>error</th>\n",
              "      <td>656</td>\n",
              "      <td>21.161290</td>\n",
              "      <td>31</td>\n",
              "    </tr>\n",
              "    <tr>\n",
              "      <th>existing</th>\n",
              "      <td>5878</td>\n",
              "      <td>21.220217</td>\n",
              "      <td>277</td>\n",
              "    </tr>\n",
              "    <tr>\n",
              "      <th>loyal_existing</th>\n",
              "      <td>4134</td>\n",
              "      <td>19.779904</td>\n",
              "      <td>209</td>\n",
              "    </tr>\n",
              "    <tr>\n",
              "      <th>new</th>\n",
              "      <td>9870</td>\n",
              "      <td>20.434783</td>\n",
              "      <td>483</td>\n",
              "    </tr>\n",
              "  </tbody>\n",
              "</table>\n",
              "</div>"
            ],
            "text/plain": [
              "                 sum       mean  count_nonzero\n",
              "user_class                                    \n",
              "error            656  21.161290             31\n",
              "existing        5878  21.220217            277\n",
              "loyal_existing  4134  19.779904            209\n",
              "new             9870  20.434783            483"
            ]
          },
          "metadata": {
            "tags": []
          }
        }
      ]
    },
    {
      "cell_type": "code",
      "metadata": {
        "ExecuteTime": {
          "start_time": "2019-11-15T14:02:30.470Z"
        },
        "id": "T3FO3fFRV4kL",
        "colab_type": "code",
        "colab": {
          "base_uri": "https://localhost:8080/",
          "height": 226
        },
        "outputId": "3bf05fa3-1a82-47c5-8c3e-98269982a887"
      },
      "source": [
        "# Aggregate Functions specific to columns\n",
        "display(df.groupby(['user_class','user_type']).agg({'price':np.mean,\n",
        "                                                        'quantity_purchased':np.max}))"
      ],
      "execution_count": 51,
      "outputs": [
        {
          "output_type": "display_data",
          "data": {
            "text/html": [
              "<div>\n",
              "<style scoped>\n",
              "    .dataframe tbody tr th:only-of-type {\n",
              "        vertical-align: middle;\n",
              "    }\n",
              "\n",
              "    .dataframe tbody tr th {\n",
              "        vertical-align: top;\n",
              "    }\n",
              "\n",
              "    .dataframe thead th {\n",
              "        text-align: right;\n",
              "    }\n",
              "</style>\n",
              "<table border=\"1\" class=\"dataframe\">\n",
              "  <thead>\n",
              "    <tr style=\"text-align: right;\">\n",
              "      <th></th>\n",
              "      <th></th>\n",
              "      <th>price</th>\n",
              "      <th>quantity_purchased</th>\n",
              "    </tr>\n",
              "    <tr>\n",
              "      <th>user_class</th>\n",
              "      <th>user_type</th>\n",
              "      <th></th>\n",
              "      <th></th>\n",
              "    </tr>\n",
              "  </thead>\n",
              "  <tbody>\n",
              "    <tr>\n",
              "      <th>error</th>\n",
              "      <th>n</th>\n",
              "      <td>2768.931333</td>\n",
              "      <td>41</td>\n",
              "    </tr>\n",
              "    <tr>\n",
              "      <th>existing</th>\n",
              "      <th>c</th>\n",
              "      <td>2323.129515</td>\n",
              "      <td>41</td>\n",
              "    </tr>\n",
              "    <tr>\n",
              "      <th>loyal_existing</th>\n",
              "      <th>d</th>\n",
              "      <td>2297.724335</td>\n",
              "      <td>41</td>\n",
              "    </tr>\n",
              "    <tr>\n",
              "      <th rowspan=\"2\" valign=\"top\">new</th>\n",
              "      <th>a</th>\n",
              "      <td>2368.391376</td>\n",
              "      <td>41</td>\n",
              "    </tr>\n",
              "    <tr>\n",
              "      <th>b</th>\n",
              "      <td>2347.205840</td>\n",
              "      <td>41</td>\n",
              "    </tr>\n",
              "  </tbody>\n",
              "</table>\n",
              "</div>"
            ],
            "text/plain": [
              "                                price  quantity_purchased\n",
              "user_class     user_type                                 \n",
              "error          n          2768.931333                  41\n",
              "existing       c          2323.129515                  41\n",
              "loyal_existing d          2297.724335                  41\n",
              "new            a          2368.391376                  41\n",
              "               b          2347.205840                  41"
            ]
          },
          "metadata": {
            "tags": []
          }
        }
      ]
    },
    {
      "cell_type": "code",
      "metadata": {
        "ExecuteTime": {
          "start_time": "2019-11-15T14:02:30.473Z"
        },
        "id": "vq5dWfxbV4kM",
        "colab_type": "code",
        "colab": {
          "base_uri": "https://localhost:8080/",
          "height": 390
        },
        "outputId": "177144a5-4c4b-4792-ebf4-1325a5481757"
      },
      "source": [
        "# Multiple Aggregate Functions\n",
        "display(\n",
        "    df.groupby(['user_class', 'user_type']).agg({\n",
        "        'price': {\n",
        "            'total_price': np.sum,\n",
        "            'mean_price': np.mean,\n",
        "            'variance_price': np.std,\n",
        "            'count': np.count_nonzero\n",
        "        },\n",
        "        'quantity_purchased': np.sum\n",
        "    }))"
      ],
      "execution_count": 52,
      "outputs": [
        {
          "output_type": "stream",
          "text": [
            "/usr/local/lib/python3.6/dist-packages/pandas/core/groupby/generic.py:1455: FutureWarning: using a dict with renaming is deprecated and will be removed\n",
            "in a future version.\n",
            "\n",
            "For column-specific groupby renaming, use named aggregation\n",
            "\n",
            "    >>> df.groupby(...).agg(name=('column', aggfunc))\n",
            "\n",
            "  return super().aggregate(arg, *args, **kwargs)\n"
          ],
          "name": "stderr"
        },
        {
          "output_type": "display_data",
          "data": {
            "text/html": [
              "<div>\n",
              "<style scoped>\n",
              "    .dataframe tbody tr th:only-of-type {\n",
              "        vertical-align: middle;\n",
              "    }\n",
              "\n",
              "    .dataframe tbody tr th {\n",
              "        vertical-align: top;\n",
              "    }\n",
              "\n",
              "    .dataframe thead tr th {\n",
              "        text-align: left;\n",
              "    }\n",
              "\n",
              "    .dataframe thead tr:last-of-type th {\n",
              "        text-align: right;\n",
              "    }\n",
              "</style>\n",
              "<table border=\"1\" class=\"dataframe\">\n",
              "  <thead>\n",
              "    <tr>\n",
              "      <th></th>\n",
              "      <th></th>\n",
              "      <th colspan=\"4\" halign=\"left\">price</th>\n",
              "      <th>quantity_purchased</th>\n",
              "    </tr>\n",
              "    <tr>\n",
              "      <th></th>\n",
              "      <th></th>\n",
              "      <th>total_price</th>\n",
              "      <th>mean_price</th>\n",
              "      <th>variance_price</th>\n",
              "      <th>count</th>\n",
              "      <th>sum</th>\n",
              "    </tr>\n",
              "    <tr>\n",
              "      <th>user_class</th>\n",
              "      <th>user_type</th>\n",
              "      <th></th>\n",
              "      <th></th>\n",
              "      <th></th>\n",
              "      <th></th>\n",
              "      <th></th>\n",
              "    </tr>\n",
              "  </thead>\n",
              "  <tbody>\n",
              "    <tr>\n",
              "      <th>error</th>\n",
              "      <th>n</th>\n",
              "      <td>83067.94</td>\n",
              "      <td>2768.931333</td>\n",
              "      <td>1445.762191</td>\n",
              "      <td>31.0</td>\n",
              "      <td>656</td>\n",
              "    </tr>\n",
              "    <tr>\n",
              "      <th>existing</th>\n",
              "      <th>c</th>\n",
              "      <td>622598.71</td>\n",
              "      <td>2323.129515</td>\n",
              "      <td>1632.362506</td>\n",
              "      <td>277.0</td>\n",
              "      <td>5878</td>\n",
              "    </tr>\n",
              "    <tr>\n",
              "      <th>loyal_existing</th>\n",
              "      <th>d</th>\n",
              "      <td>466438.04</td>\n",
              "      <td>2297.724335</td>\n",
              "      <td>1638.207794</td>\n",
              "      <td>209.0</td>\n",
              "      <td>4134</td>\n",
              "    </tr>\n",
              "    <tr>\n",
              "      <th rowspan=\"2\" valign=\"top\">new</th>\n",
              "      <th>a</th>\n",
              "      <td>516309.32</td>\n",
              "      <td>2368.391376</td>\n",
              "      <td>1673.862628</td>\n",
              "      <td>225.0</td>\n",
              "      <td>4497</td>\n",
              "    </tr>\n",
              "    <tr>\n",
              "      <th>b</th>\n",
              "      <td>586801.46</td>\n",
              "      <td>2347.205840</td>\n",
              "      <td>1638.116872</td>\n",
              "      <td>258.0</td>\n",
              "      <td>5373</td>\n",
              "    </tr>\n",
              "  </tbody>\n",
              "</table>\n",
              "</div>"
            ],
            "text/plain": [
              "                               price               ...        quantity_purchased\n",
              "                         total_price   mean_price  ...  count                sum\n",
              "user_class     user_type                           ...                          \n",
              "error          n            83067.94  2768.931333  ...   31.0                656\n",
              "existing       c           622598.71  2323.129515  ...  277.0               5878\n",
              "loyal_existing d           466438.04  2297.724335  ...  209.0               4134\n",
              "new            a           516309.32  2368.391376  ...  225.0               4497\n",
              "               b           586801.46  2347.205840  ...  258.0               5373\n",
              "\n",
              "[5 rows x 5 columns]"
            ]
          },
          "metadata": {
            "tags": []
          }
        }
      ]
    },
    {
      "cell_type": "markdown",
      "metadata": {
        "id": "l_PbgxNNV4kO",
        "colab_type": "text"
      },
      "source": [
        "## Pivot Tables"
      ]
    },
    {
      "cell_type": "code",
      "metadata": {
        "ExecuteTime": {
          "start_time": "2019-11-15T14:02:30.481Z"
        },
        "id": "winLa3toV4kO",
        "colab_type": "code",
        "colab": {
          "base_uri": "https://localhost:8080/",
          "height": 1000
        },
        "outputId": "e1f166f6-1f37-4c0d-f519-6dbf285b2447"
      },
      "source": [
        "display(df.pivot_table(index='date', columns='user_type', \n",
        "                         values='price',aggfunc=np.mean))"
      ],
      "execution_count": 53,
      "outputs": [
        {
          "output_type": "display_data",
          "data": {
            "text/html": [
              "<div>\n",
              "<style scoped>\n",
              "    .dataframe tbody tr th:only-of-type {\n",
              "        vertical-align: middle;\n",
              "    }\n",
              "\n",
              "    .dataframe tbody tr th {\n",
              "        vertical-align: top;\n",
              "    }\n",
              "\n",
              "    .dataframe thead th {\n",
              "        text-align: right;\n",
              "    }\n",
              "</style>\n",
              "<table border=\"1\" class=\"dataframe\">\n",
              "  <thead>\n",
              "    <tr style=\"text-align: right;\">\n",
              "      <th>user_type</th>\n",
              "      <th>a</th>\n",
              "      <th>b</th>\n",
              "      <th>c</th>\n",
              "      <th>d</th>\n",
              "      <th>n</th>\n",
              "    </tr>\n",
              "    <tr>\n",
              "      <th>date</th>\n",
              "      <th></th>\n",
              "      <th></th>\n",
              "      <th></th>\n",
              "      <th></th>\n",
              "      <th></th>\n",
              "    </tr>\n",
              "  </thead>\n",
              "  <tbody>\n",
              "    <tr>\n",
              "      <th>2016-01-01</th>\n",
              "      <td>3041.698333</td>\n",
              "      <td>3023.850000</td>\n",
              "      <td>2614.032500</td>\n",
              "      <td>1276.478000</td>\n",
              "      <td>NaN</td>\n",
              "    </tr>\n",
              "    <tr>\n",
              "      <th>2016-01-02</th>\n",
              "      <td>1121.170000</td>\n",
              "      <td>2442.177500</td>\n",
              "      <td>2020.081429</td>\n",
              "      <td>1578.444286</td>\n",
              "      <td>NaN</td>\n",
              "    </tr>\n",
              "    <tr>\n",
              "      <th>2016-01-13</th>\n",
              "      <td>2978.797778</td>\n",
              "      <td>2318.060000</td>\n",
              "      <td>1671.386667</td>\n",
              "      <td>4222.955000</td>\n",
              "      <td>1913.900000</td>\n",
              "    </tr>\n",
              "    <tr>\n",
              "      <th>2016-01-14</th>\n",
              "      <td>1790.955000</td>\n",
              "      <td>1591.110000</td>\n",
              "      <td>2304.130000</td>\n",
              "      <td>3595.118000</td>\n",
              "      <td>NaN</td>\n",
              "    </tr>\n",
              "    <tr>\n",
              "      <th>2016-01-15</th>\n",
              "      <td>3023.073333</td>\n",
              "      <td>1951.650000</td>\n",
              "      <td>1837.246667</td>\n",
              "      <td>1824.730000</td>\n",
              "      <td>2604.705000</td>\n",
              "    </tr>\n",
              "    <tr>\n",
              "      <th>2016-01-16</th>\n",
              "      <td>2420.365000</td>\n",
              "      <td>2990.763333</td>\n",
              "      <td>2635.990000</td>\n",
              "      <td>2351.937500</td>\n",
              "      <td>NaN</td>\n",
              "    </tr>\n",
              "    <tr>\n",
              "      <th>2016-01-17</th>\n",
              "      <td>NaN</td>\n",
              "      <td>1861.550000</td>\n",
              "      <td>3580.000000</td>\n",
              "      <td>2514.778889</td>\n",
              "      <td>NaN</td>\n",
              "    </tr>\n",
              "    <tr>\n",
              "      <th>2016-01-18</th>\n",
              "      <td>2530.961667</td>\n",
              "      <td>1780.652500</td>\n",
              "      <td>1483.172000</td>\n",
              "      <td>2199.813333</td>\n",
              "      <td>NaN</td>\n",
              "    </tr>\n",
              "    <tr>\n",
              "      <th>2016-01-19</th>\n",
              "      <td>2824.600000</td>\n",
              "      <td>757.110000</td>\n",
              "      <td>2499.586667</td>\n",
              "      <td>1587.357500</td>\n",
              "      <td>920.160000</td>\n",
              "    </tr>\n",
              "    <tr>\n",
              "      <th>2016-01-20</th>\n",
              "      <td>2324.895000</td>\n",
              "      <td>2534.811429</td>\n",
              "      <td>1536.682500</td>\n",
              "      <td>2313.146250</td>\n",
              "      <td>NaN</td>\n",
              "    </tr>\n",
              "    <tr>\n",
              "      <th>2016-01-21</th>\n",
              "      <td>2031.712000</td>\n",
              "      <td>2444.636000</td>\n",
              "      <td>906.795000</td>\n",
              "      <td>2235.708000</td>\n",
              "      <td>NaN</td>\n",
              "    </tr>\n",
              "    <tr>\n",
              "      <th>2016-01-22</th>\n",
              "      <td>2290.113333</td>\n",
              "      <td>2851.443333</td>\n",
              "      <td>1750.323750</td>\n",
              "      <td>1255.405000</td>\n",
              "      <td>2821.180000</td>\n",
              "    </tr>\n",
              "    <tr>\n",
              "      <th>2016-01-23</th>\n",
              "      <td>1430.240000</td>\n",
              "      <td>1145.162500</td>\n",
              "      <td>403.363333</td>\n",
              "      <td>993.035000</td>\n",
              "      <td>NaN</td>\n",
              "    </tr>\n",
              "    <tr>\n",
              "      <th>2016-01-24</th>\n",
              "      <td>2115.983333</td>\n",
              "      <td>1041.352500</td>\n",
              "      <td>3212.854000</td>\n",
              "      <td>1761.661429</td>\n",
              "      <td>NaN</td>\n",
              "    </tr>\n",
              "    <tr>\n",
              "      <th>2016-01-25</th>\n",
              "      <td>2119.226667</td>\n",
              "      <td>1803.613750</td>\n",
              "      <td>2415.865000</td>\n",
              "      <td>2524.842000</td>\n",
              "      <td>3288.083333</td>\n",
              "    </tr>\n",
              "    <tr>\n",
              "      <th>2016-01-26</th>\n",
              "      <td>2380.653333</td>\n",
              "      <td>2559.295000</td>\n",
              "      <td>3340.692000</td>\n",
              "      <td>2961.193333</td>\n",
              "      <td>2299.330000</td>\n",
              "    </tr>\n",
              "    <tr>\n",
              "      <th>2016-01-27</th>\n",
              "      <td>3068.435000</td>\n",
              "      <td>2574.620000</td>\n",
              "      <td>1772.541429</td>\n",
              "      <td>1487.063333</td>\n",
              "      <td>NaN</td>\n",
              "    </tr>\n",
              "    <tr>\n",
              "      <th>2016-01-28</th>\n",
              "      <td>1596.220000</td>\n",
              "      <td>4343.510000</td>\n",
              "      <td>2397.846667</td>\n",
              "      <td>2166.667500</td>\n",
              "      <td>1042.830000</td>\n",
              "    </tr>\n",
              "    <tr>\n",
              "      <th>2016-01-29</th>\n",
              "      <td>2043.167857</td>\n",
              "      <td>1939.928889</td>\n",
              "      <td>3003.446667</td>\n",
              "      <td>3076.680000</td>\n",
              "      <td>NaN</td>\n",
              "    </tr>\n",
              "    <tr>\n",
              "      <th>2016-01-30</th>\n",
              "      <td>2099.586667</td>\n",
              "      <td>2841.607500</td>\n",
              "      <td>1725.316667</td>\n",
              "      <td>4157.477500</td>\n",
              "      <td>NaN</td>\n",
              "    </tr>\n",
              "    <tr>\n",
              "      <th>2016-01-31</th>\n",
              "      <td>2354.244000</td>\n",
              "      <td>2293.320000</td>\n",
              "      <td>1478.619167</td>\n",
              "      <td>2121.268000</td>\n",
              "      <td>NaN</td>\n",
              "    </tr>\n",
              "    <tr>\n",
              "      <th>2016-02-01</th>\n",
              "      <td>2395.244000</td>\n",
              "      <td>3399.540000</td>\n",
              "      <td>3796.515000</td>\n",
              "      <td>2567.530000</td>\n",
              "      <td>NaN</td>\n",
              "    </tr>\n",
              "    <tr>\n",
              "      <th>2016-02-02</th>\n",
              "      <td>2500.562000</td>\n",
              "      <td>2155.676667</td>\n",
              "      <td>2100.551667</td>\n",
              "      <td>1668.716667</td>\n",
              "      <td>NaN</td>\n",
              "    </tr>\n",
              "    <tr>\n",
              "      <th>2016-03-01</th>\n",
              "      <td>2476.243750</td>\n",
              "      <td>1729.905000</td>\n",
              "      <td>3175.685000</td>\n",
              "      <td>2515.360000</td>\n",
              "      <td>NaN</td>\n",
              "    </tr>\n",
              "    <tr>\n",
              "      <th>2016-03-02</th>\n",
              "      <td>2512.353333</td>\n",
              "      <td>4719.706667</td>\n",
              "      <td>2845.848571</td>\n",
              "      <td>1633.546667</td>\n",
              "      <td>NaN</td>\n",
              "    </tr>\n",
              "    <tr>\n",
              "      <th>2016-04-01</th>\n",
              "      <td>2487.611667</td>\n",
              "      <td>2041.760000</td>\n",
              "      <td>2317.814000</td>\n",
              "      <td>3949.062000</td>\n",
              "      <td>NaN</td>\n",
              "    </tr>\n",
              "    <tr>\n",
              "      <th>2016-04-02</th>\n",
              "      <td>2251.743333</td>\n",
              "      <td>6748.275000</td>\n",
              "      <td>1322.065000</td>\n",
              "      <td>2798.825000</td>\n",
              "      <td>NaN</td>\n",
              "    </tr>\n",
              "    <tr>\n",
              "      <th>2016-05-01</th>\n",
              "      <td>2320.808000</td>\n",
              "      <td>2945.388571</td>\n",
              "      <td>2920.555714</td>\n",
              "      <td>3925.880000</td>\n",
              "      <td>4714.510000</td>\n",
              "    </tr>\n",
              "    <tr>\n",
              "      <th>2016-05-02</th>\n",
              "      <td>2088.032727</td>\n",
              "      <td>3561.185000</td>\n",
              "      <td>2490.736667</td>\n",
              "      <td>2536.595000</td>\n",
              "      <td>NaN</td>\n",
              "    </tr>\n",
              "    <tr>\n",
              "      <th>2016-06-01</th>\n",
              "      <td>3856.954000</td>\n",
              "      <td>1812.637500</td>\n",
              "      <td>2573.961667</td>\n",
              "      <td>1854.311667</td>\n",
              "      <td>4453.840000</td>\n",
              "    </tr>\n",
              "    <tr>\n",
              "      <th>2016-06-02</th>\n",
              "      <td>2588.680000</td>\n",
              "      <td>3445.436000</td>\n",
              "      <td>2762.010000</td>\n",
              "      <td>1689.610000</td>\n",
              "      <td>1728.250000</td>\n",
              "    </tr>\n",
              "    <tr>\n",
              "      <th>2016-07-01</th>\n",
              "      <td>2679.935000</td>\n",
              "      <td>1550.741429</td>\n",
              "      <td>1969.280000</td>\n",
              "      <td>1444.320000</td>\n",
              "      <td>3527.325000</td>\n",
              "    </tr>\n",
              "    <tr>\n",
              "      <th>2016-07-02</th>\n",
              "      <td>1272.146667</td>\n",
              "      <td>1395.022500</td>\n",
              "      <td>2128.406667</td>\n",
              "      <td>1521.467500</td>\n",
              "      <td>NaN</td>\n",
              "    </tr>\n",
              "    <tr>\n",
              "      <th>2016-08-01</th>\n",
              "      <td>2031.550000</td>\n",
              "      <td>2668.045000</td>\n",
              "      <td>2382.382500</td>\n",
              "      <td>2633.705000</td>\n",
              "      <td>NaN</td>\n",
              "    </tr>\n",
              "    <tr>\n",
              "      <th>2016-08-02</th>\n",
              "      <td>2938.980000</td>\n",
              "      <td>801.880000</td>\n",
              "      <td>1726.995000</td>\n",
              "      <td>2537.368750</td>\n",
              "      <td>NaN</td>\n",
              "    </tr>\n",
              "    <tr>\n",
              "      <th>2016-09-01</th>\n",
              "      <td>975.706667</td>\n",
              "      <td>2317.751818</td>\n",
              "      <td>3160.048889</td>\n",
              "      <td>1938.470000</td>\n",
              "      <td>2698.380000</td>\n",
              "    </tr>\n",
              "    <tr>\n",
              "      <th>2016-09-02</th>\n",
              "      <td>2536.421000</td>\n",
              "      <td>1516.554000</td>\n",
              "      <td>1586.228571</td>\n",
              "      <td>1737.560000</td>\n",
              "      <td>NaN</td>\n",
              "    </tr>\n",
              "    <tr>\n",
              "      <th>2016-10-01</th>\n",
              "      <td>2812.433750</td>\n",
              "      <td>2666.552000</td>\n",
              "      <td>2786.956000</td>\n",
              "      <td>4945.150000</td>\n",
              "      <td>NaN</td>\n",
              "    </tr>\n",
              "    <tr>\n",
              "      <th>2016-10-02</th>\n",
              "      <td>3353.570000</td>\n",
              "      <td>2394.842000</td>\n",
              "      <td>2177.250000</td>\n",
              "      <td>2011.468000</td>\n",
              "      <td>NaN</td>\n",
              "    </tr>\n",
              "    <tr>\n",
              "      <th>2016-11-01</th>\n",
              "      <td>2407.523333</td>\n",
              "      <td>2850.505556</td>\n",
              "      <td>2009.094444</td>\n",
              "      <td>2797.748571</td>\n",
              "      <td>2676.710000</td>\n",
              "    </tr>\n",
              "    <tr>\n",
              "      <th>2016-11-02</th>\n",
              "      <td>2453.735000</td>\n",
              "      <td>2165.798571</td>\n",
              "      <td>2479.797143</td>\n",
              "      <td>2250.980000</td>\n",
              "      <td>1171.530000</td>\n",
              "    </tr>\n",
              "    <tr>\n",
              "      <th>2016-12-01</th>\n",
              "      <td>1404.523333</td>\n",
              "      <td>1793.120000</td>\n",
              "      <td>2411.768000</td>\n",
              "      <td>2070.315000</td>\n",
              "      <td>NaN</td>\n",
              "    </tr>\n",
              "  </tbody>\n",
              "</table>\n",
              "</div>"
            ],
            "text/plain": [
              "user_type             a            b            c            d            n\n",
              "date                                                                       \n",
              "2016-01-01  3041.698333  3023.850000  2614.032500  1276.478000          NaN\n",
              "2016-01-02  1121.170000  2442.177500  2020.081429  1578.444286          NaN\n",
              "2016-01-13  2978.797778  2318.060000  1671.386667  4222.955000  1913.900000\n",
              "2016-01-14  1790.955000  1591.110000  2304.130000  3595.118000          NaN\n",
              "2016-01-15  3023.073333  1951.650000  1837.246667  1824.730000  2604.705000\n",
              "2016-01-16  2420.365000  2990.763333  2635.990000  2351.937500          NaN\n",
              "2016-01-17          NaN  1861.550000  3580.000000  2514.778889          NaN\n",
              "2016-01-18  2530.961667  1780.652500  1483.172000  2199.813333          NaN\n",
              "2016-01-19  2824.600000   757.110000  2499.586667  1587.357500   920.160000\n",
              "2016-01-20  2324.895000  2534.811429  1536.682500  2313.146250          NaN\n",
              "2016-01-21  2031.712000  2444.636000   906.795000  2235.708000          NaN\n",
              "2016-01-22  2290.113333  2851.443333  1750.323750  1255.405000  2821.180000\n",
              "2016-01-23  1430.240000  1145.162500   403.363333   993.035000          NaN\n",
              "2016-01-24  2115.983333  1041.352500  3212.854000  1761.661429          NaN\n",
              "2016-01-25  2119.226667  1803.613750  2415.865000  2524.842000  3288.083333\n",
              "2016-01-26  2380.653333  2559.295000  3340.692000  2961.193333  2299.330000\n",
              "2016-01-27  3068.435000  2574.620000  1772.541429  1487.063333          NaN\n",
              "2016-01-28  1596.220000  4343.510000  2397.846667  2166.667500  1042.830000\n",
              "2016-01-29  2043.167857  1939.928889  3003.446667  3076.680000          NaN\n",
              "2016-01-30  2099.586667  2841.607500  1725.316667  4157.477500          NaN\n",
              "2016-01-31  2354.244000  2293.320000  1478.619167  2121.268000          NaN\n",
              "2016-02-01  2395.244000  3399.540000  3796.515000  2567.530000          NaN\n",
              "2016-02-02  2500.562000  2155.676667  2100.551667  1668.716667          NaN\n",
              "2016-03-01  2476.243750  1729.905000  3175.685000  2515.360000          NaN\n",
              "2016-03-02  2512.353333  4719.706667  2845.848571  1633.546667          NaN\n",
              "2016-04-01  2487.611667  2041.760000  2317.814000  3949.062000          NaN\n",
              "2016-04-02  2251.743333  6748.275000  1322.065000  2798.825000          NaN\n",
              "2016-05-01  2320.808000  2945.388571  2920.555714  3925.880000  4714.510000\n",
              "2016-05-02  2088.032727  3561.185000  2490.736667  2536.595000          NaN\n",
              "2016-06-01  3856.954000  1812.637500  2573.961667  1854.311667  4453.840000\n",
              "2016-06-02  2588.680000  3445.436000  2762.010000  1689.610000  1728.250000\n",
              "2016-07-01  2679.935000  1550.741429  1969.280000  1444.320000  3527.325000\n",
              "2016-07-02  1272.146667  1395.022500  2128.406667  1521.467500          NaN\n",
              "2016-08-01  2031.550000  2668.045000  2382.382500  2633.705000          NaN\n",
              "2016-08-02  2938.980000   801.880000  1726.995000  2537.368750          NaN\n",
              "2016-09-01   975.706667  2317.751818  3160.048889  1938.470000  2698.380000\n",
              "2016-09-02  2536.421000  1516.554000  1586.228571  1737.560000          NaN\n",
              "2016-10-01  2812.433750  2666.552000  2786.956000  4945.150000          NaN\n",
              "2016-10-02  3353.570000  2394.842000  2177.250000  2011.468000          NaN\n",
              "2016-11-01  2407.523333  2850.505556  2009.094444  2797.748571  2676.710000\n",
              "2016-11-02  2453.735000  2165.798571  2479.797143  2250.980000  1171.530000\n",
              "2016-12-01  1404.523333  1793.120000  2411.768000  2070.315000          NaN"
            ]
          },
          "metadata": {
            "tags": []
          }
        }
      ]
    },
    {
      "cell_type": "markdown",
      "metadata": {
        "ExecuteTime": {
          "end_time": "2019-10-26T18:56:02.626820Z",
          "start_time": "2019-10-26T18:56:02.623564Z"
        },
        "id": "ZvSyymJ2V4kQ",
        "colab_type": "text"
      },
      "source": [
        "## Stacking"
      ]
    },
    {
      "cell_type": "code",
      "metadata": {
        "ExecuteTime": {
          "start_time": "2019-11-15T14:02:30.489Z"
        },
        "id": "F78Wmf6IV4kQ",
        "colab_type": "code",
        "colab": {
          "base_uri": "https://localhost:8080/",
          "height": 217
        },
        "outputId": "790ce799-9acb-4d1d-a067-aa76913843c0"
      },
      "source": [
        "print(df.stack())"
      ],
      "execution_count": 54,
      "outputs": [
        {
          "output_type": "stream",
          "text": [
            "0    serial_no                            1000\n",
            "     date                  2016-05-01 00:00:00\n",
            "     user_id                              -101\n",
            "     product_id                              0\n",
            "     quantity_purchased                      8\n",
            "                                  ...         \n",
            "999  price                              328.34\n",
            "     user_type                               a\n",
            "     user_class                            new\n",
            "     purchase_week                          18\n",
            "     encoded_user_type                       0\n",
            "Length: 9907, dtype: object\n"
          ],
          "name": "stdout"
        }
      ]
    }
  ]
}