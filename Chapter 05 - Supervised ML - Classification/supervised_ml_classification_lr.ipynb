{
  "nbformat": 4,
  "nbformat_minor": 0,
  "metadata": {
    "kernelspec": {
      "display_name": "Python 3",
      "language": "python",
      "name": "python3"
    },
    "language_info": {
      "codemirror_mode": {
        "name": "ipython",
        "version": 3
      },
      "file_extension": ".py",
      "mimetype": "text/x-python",
      "name": "python",
      "nbconvert_exporter": "python",
      "pygments_lexer": "ipython3",
      "version": "3.6.8"
    },
    "colab": {
      "name": "supervised_ml_classification_lr.ipynb",
      "provenance": []
    }
  },
  "cells": [
    {
      "cell_type": "markdown",
      "metadata": {
        "id": "HHxcQnM9tVPm",
        "colab_type": "text"
      },
      "source": [
        "# Supervised ML : Classification : Logistic Regression"
      ]
    },
    {
      "cell_type": "markdown",
      "metadata": {
        "id": "bZ9oRQ3gtVPn",
        "colab_type": "text"
      },
      "source": [
        "**Linear regression:** continuous response is modeled as a linear combination of the features:\n",
        "\n",
        "$$y = \\beta_0 + \\beta_1x$$\n",
        " \n",
        "**Logistic regression:** log-odds of a categorical response being \"true\" (1) is modeled as a linear combination of the features:\n",
        " \n",
        "$$\\log \\left({p\\over 1-p}\\right) = \\beta_0 + \\beta_1x$$\n",
        " \n",
        "This is called the **logit function**.\n",
        " \n",
        "Probability is sometimes written as pi:\n",
        " \n",
        "$$\\log \\left({\\pi\\over 1-\\pi}\\right) = \\beta_0 + \\beta_1x$$\n",
        " \n",
        "The equation can be rearranged into the **logistic function**:\n",
        " \n",
        "$$\\pi = \\frac{e^{\\beta_0 + \\beta_1x}} {1 + e^{\\beta_0 + \\beta_1x}}$$\n",
        "\n",
        "In other words:\n",
        " \n",
        " - Logistic regression outputs the **probabilities of a specific class**\n",
        " - Those probabilities can be converted into **class predictions**\n",
        " \n",
        "The **logistic function** has some nice properties:\n",
        "\n",
        " - Takes on an \"s\" shape\n",
        " - Output is bounded by 0 and 1"
      ]
    },
    {
      "cell_type": "markdown",
      "metadata": {
        "id": "HXGm_srMtVPo",
        "colab_type": "text"
      },
      "source": [
        "## Imports"
      ]
    },
    {
      "cell_type": "code",
      "metadata": {
        "ExecuteTime": {
          "end_time": "2019-11-08T03:20:18.769080Z",
          "start_time": "2019-11-08T03:20:17.145290Z"
        },
        "id": "-AaYzAtetVPp",
        "colab_type": "code",
        "colab": {}
      },
      "source": [
        "import numpy as np\n",
        "import pandas as pd\n",
        "from sklearn.datasets import load_breast_cancer\n",
        "import warnings \n",
        "warnings.filterwarnings('ignore')"
      ],
      "execution_count": 0,
      "outputs": []
    },
    {
      "cell_type": "markdown",
      "metadata": {
        "id": "BEsybZdXtVPr",
        "colab_type": "text"
      },
      "source": [
        "## The Breast Cancer Dataset"
      ]
    },
    {
      "cell_type": "code",
      "metadata": {
        "ExecuteTime": {
          "end_time": "2019-11-08T03:20:18.784250Z",
          "start_time": "2019-11-08T03:20:18.770835Z"
        },
        "id": "mtcK3wzatVPr",
        "colab_type": "code",
        "colab": {}
      },
      "source": [
        "# load data\n",
        "data = load_breast_cancer()\n",
        "X = data.data\n",
        "y = data.target\n",
        "y_labels = np.array(['malignant' if item == 0 else 'benign' for item in y])"
      ],
      "execution_count": 0,
      "outputs": []
    },
    {
      "cell_type": "code",
      "metadata": {
        "id": "BjnOI19-t2_N",
        "colab_type": "code",
        "colab": {
          "base_uri": "https://localhost:8080/",
          "height": 33
        },
        "outputId": "e8b19c67-8bf1-48f4-a53a-e232bd78041a"
      },
      "source": [
        "from collections import Counter\n",
        "\n",
        "Counter(y_labels)"
      ],
      "execution_count": 3,
      "outputs": [
        {
          "output_type": "execute_result",
          "data": {
            "text/plain": [
              "Counter({'benign': 357, 'malignant': 212})"
            ]
          },
          "metadata": {
            "tags": []
          },
          "execution_count": 3
        }
      ]
    },
    {
      "cell_type": "markdown",
      "metadata": {
        "id": "oyKhefqztVPt",
        "colab_type": "text"
      },
      "source": [
        "### Details"
      ]
    },
    {
      "cell_type": "code",
      "metadata": {
        "ExecuteTime": {
          "end_time": "2019-11-08T03:20:18.790077Z",
          "start_time": "2019-11-08T03:20:18.786439Z"
        },
        "scrolled": false,
        "id": "US7Dn--GtVPt",
        "colab_type": "code",
        "colab": {
          "base_uri": "https://localhost:8080/",
          "height": 1000
        },
        "outputId": "ae760937-fcbf-4a26-9a0d-250ac4d29b10"
      },
      "source": [
        "print(data.DESCR)"
      ],
      "execution_count": 4,
      "outputs": [
        {
          "output_type": "stream",
          "text": [
            ".. _breast_cancer_dataset:\n",
            "\n",
            "Breast cancer wisconsin (diagnostic) dataset\n",
            "--------------------------------------------\n",
            "\n",
            "**Data Set Characteristics:**\n",
            "\n",
            "    :Number of Instances: 569\n",
            "\n",
            "    :Number of Attributes: 30 numeric, predictive attributes and the class\n",
            "\n",
            "    :Attribute Information:\n",
            "        - radius (mean of distances from center to points on the perimeter)\n",
            "        - texture (standard deviation of gray-scale values)\n",
            "        - perimeter\n",
            "        - area\n",
            "        - smoothness (local variation in radius lengths)\n",
            "        - compactness (perimeter^2 / area - 1.0)\n",
            "        - concavity (severity of concave portions of the contour)\n",
            "        - concave points (number of concave portions of the contour)\n",
            "        - symmetry \n",
            "        - fractal dimension (\"coastline approximation\" - 1)\n",
            "\n",
            "        The mean, standard error, and \"worst\" or largest (mean of the three\n",
            "        largest values) of these features were computed for each image,\n",
            "        resulting in 30 features.  For instance, field 3 is Mean Radius, field\n",
            "        13 is Radius SE, field 23 is Worst Radius.\n",
            "\n",
            "        - class:\n",
            "                - WDBC-Malignant\n",
            "                - WDBC-Benign\n",
            "\n",
            "    :Summary Statistics:\n",
            "\n",
            "    ===================================== ====== ======\n",
            "                                           Min    Max\n",
            "    ===================================== ====== ======\n",
            "    radius (mean):                        6.981  28.11\n",
            "    texture (mean):                       9.71   39.28\n",
            "    perimeter (mean):                     43.79  188.5\n",
            "    area (mean):                          143.5  2501.0\n",
            "    smoothness (mean):                    0.053  0.163\n",
            "    compactness (mean):                   0.019  0.345\n",
            "    concavity (mean):                     0.0    0.427\n",
            "    concave points (mean):                0.0    0.201\n",
            "    symmetry (mean):                      0.106  0.304\n",
            "    fractal dimension (mean):             0.05   0.097\n",
            "    radius (standard error):              0.112  2.873\n",
            "    texture (standard error):             0.36   4.885\n",
            "    perimeter (standard error):           0.757  21.98\n",
            "    area (standard error):                6.802  542.2\n",
            "    smoothness (standard error):          0.002  0.031\n",
            "    compactness (standard error):         0.002  0.135\n",
            "    concavity (standard error):           0.0    0.396\n",
            "    concave points (standard error):      0.0    0.053\n",
            "    symmetry (standard error):            0.008  0.079\n",
            "    fractal dimension (standard error):   0.001  0.03\n",
            "    radius (worst):                       7.93   36.04\n",
            "    texture (worst):                      12.02  49.54\n",
            "    perimeter (worst):                    50.41  251.2\n",
            "    area (worst):                         185.2  4254.0\n",
            "    smoothness (worst):                   0.071  0.223\n",
            "    compactness (worst):                  0.027  1.058\n",
            "    concavity (worst):                    0.0    1.252\n",
            "    concave points (worst):               0.0    0.291\n",
            "    symmetry (worst):                     0.156  0.664\n",
            "    fractal dimension (worst):            0.055  0.208\n",
            "    ===================================== ====== ======\n",
            "\n",
            "    :Missing Attribute Values: None\n",
            "\n",
            "    :Class Distribution: 212 - Malignant, 357 - Benign\n",
            "\n",
            "    :Creator:  Dr. William H. Wolberg, W. Nick Street, Olvi L. Mangasarian\n",
            "\n",
            "    :Donor: Nick Street\n",
            "\n",
            "    :Date: November, 1995\n",
            "\n",
            "This is a copy of UCI ML Breast Cancer Wisconsin (Diagnostic) datasets.\n",
            "https://goo.gl/U2Uwz2\n",
            "\n",
            "Features are computed from a digitized image of a fine needle\n",
            "aspirate (FNA) of a breast mass.  They describe\n",
            "characteristics of the cell nuclei present in the image.\n",
            "\n",
            "Separating plane described above was obtained using\n",
            "Multisurface Method-Tree (MSM-T) [K. P. Bennett, \"Decision Tree\n",
            "Construction Via Linear Programming.\" Proceedings of the 4th\n",
            "Midwest Artificial Intelligence and Cognitive Science Society,\n",
            "pp. 97-101, 1992], a classification method which uses linear\n",
            "programming to construct a decision tree.  Relevant features\n",
            "were selected using an exhaustive search in the space of 1-4\n",
            "features and 1-3 separating planes.\n",
            "\n",
            "The actual linear program used to obtain the separating plane\n",
            "in the 3-dimensional space is that described in:\n",
            "[K. P. Bennett and O. L. Mangasarian: \"Robust Linear\n",
            "Programming Discrimination of Two Linearly Inseparable Sets\",\n",
            "Optimization Methods and Software 1, 1992, 23-34].\n",
            "\n",
            "This database is also available through the UW CS ftp server:\n",
            "\n",
            "ftp ftp.cs.wisc.edu\n",
            "cd math-prog/cpo-dataset/machine-learn/WDBC/\n",
            "\n",
            ".. topic:: References\n",
            "\n",
            "   - W.N. Street, W.H. Wolberg and O.L. Mangasarian. Nuclear feature extraction \n",
            "     for breast tumor diagnosis. IS&T/SPIE 1993 International Symposium on \n",
            "     Electronic Imaging: Science and Technology, volume 1905, pages 861-870,\n",
            "     San Jose, CA, 1993.\n",
            "   - O.L. Mangasarian, W.N. Street and W.H. Wolberg. Breast cancer diagnosis and \n",
            "     prognosis via linear programming. Operations Research, 43(4), pages 570-577, \n",
            "     July-August 1995.\n",
            "   - W.H. Wolberg, W.N. Street, and O.L. Mangasarian. Machine learning techniques\n",
            "     to diagnose breast cancer from fine-needle aspirates. Cancer Letters 77 (1994) \n",
            "     163-171.\n"
          ],
          "name": "stdout"
        }
      ]
    },
    {
      "cell_type": "markdown",
      "metadata": {
        "id": "pPTaFhdxtVPv",
        "colab_type": "text"
      },
      "source": [
        "### Prepare the Dataset for Consumption"
      ]
    },
    {
      "cell_type": "code",
      "metadata": {
        "ExecuteTime": {
          "end_time": "2019-11-08T03:20:18.797066Z",
          "start_time": "2019-11-08T03:20:18.792418Z"
        },
        "id": "_fDF8PWUtVPv",
        "colab_type": "code",
        "colab": {}
      },
      "source": [
        "df = pd.concat([pd.DataFrame(X, columns=data.feature_names), \n",
        "                pd.DataFrame(y_labels.reshape(-1,1), columns=['has cancer'])], axis=1)"
      ],
      "execution_count": 0,
      "outputs": []
    },
    {
      "cell_type": "code",
      "metadata": {
        "ExecuteTime": {
          "end_time": "2019-11-08T03:20:18.833452Z",
          "start_time": "2019-11-08T03:20:18.798960Z"
        },
        "id": "InWurs47tVPx",
        "colab_type": "code",
        "colab": {
          "base_uri": "https://localhost:8080/",
          "height": 399
        },
        "outputId": "700ab418-0eef-4529-b5be-dce861b5fba1"
      },
      "source": [
        "df.sample(10)"
      ],
      "execution_count": 6,
      "outputs": [
        {
          "output_type": "execute_result",
          "data": {
            "text/html": [
              "<div>\n",
              "<style scoped>\n",
              "    .dataframe tbody tr th:only-of-type {\n",
              "        vertical-align: middle;\n",
              "    }\n",
              "\n",
              "    .dataframe tbody tr th {\n",
              "        vertical-align: top;\n",
              "    }\n",
              "\n",
              "    .dataframe thead th {\n",
              "        text-align: right;\n",
              "    }\n",
              "</style>\n",
              "<table border=\"1\" class=\"dataframe\">\n",
              "  <thead>\n",
              "    <tr style=\"text-align: right;\">\n",
              "      <th></th>\n",
              "      <th>mean radius</th>\n",
              "      <th>mean texture</th>\n",
              "      <th>mean perimeter</th>\n",
              "      <th>mean area</th>\n",
              "      <th>mean smoothness</th>\n",
              "      <th>mean compactness</th>\n",
              "      <th>mean concavity</th>\n",
              "      <th>mean concave points</th>\n",
              "      <th>mean symmetry</th>\n",
              "      <th>mean fractal dimension</th>\n",
              "      <th>radius error</th>\n",
              "      <th>texture error</th>\n",
              "      <th>perimeter error</th>\n",
              "      <th>area error</th>\n",
              "      <th>smoothness error</th>\n",
              "      <th>compactness error</th>\n",
              "      <th>concavity error</th>\n",
              "      <th>concave points error</th>\n",
              "      <th>symmetry error</th>\n",
              "      <th>fractal dimension error</th>\n",
              "      <th>worst radius</th>\n",
              "      <th>worst texture</th>\n",
              "      <th>worst perimeter</th>\n",
              "      <th>worst area</th>\n",
              "      <th>worst smoothness</th>\n",
              "      <th>worst compactness</th>\n",
              "      <th>worst concavity</th>\n",
              "      <th>worst concave points</th>\n",
              "      <th>worst symmetry</th>\n",
              "      <th>worst fractal dimension</th>\n",
              "      <th>has cancer</th>\n",
              "    </tr>\n",
              "  </thead>\n",
              "  <tbody>\n",
              "    <tr>\n",
              "      <th>357</th>\n",
              "      <td>13.870</td>\n",
              "      <td>16.21</td>\n",
              "      <td>88.52</td>\n",
              "      <td>593.7</td>\n",
              "      <td>0.08743</td>\n",
              "      <td>0.05492</td>\n",
              "      <td>0.01502</td>\n",
              "      <td>0.02088</td>\n",
              "      <td>0.1424</td>\n",
              "      <td>0.05883</td>\n",
              "      <td>0.2543</td>\n",
              "      <td>1.3630</td>\n",
              "      <td>1.737</td>\n",
              "      <td>20.74</td>\n",
              "      <td>0.005638</td>\n",
              "      <td>0.007939</td>\n",
              "      <td>0.005254</td>\n",
              "      <td>0.006042</td>\n",
              "      <td>0.01544</td>\n",
              "      <td>0.002087</td>\n",
              "      <td>15.110</td>\n",
              "      <td>25.58</td>\n",
              "      <td>96.74</td>\n",
              "      <td>694.4</td>\n",
              "      <td>0.1153</td>\n",
              "      <td>0.10080</td>\n",
              "      <td>0.05285</td>\n",
              "      <td>0.05556</td>\n",
              "      <td>0.2362</td>\n",
              "      <td>0.07113</td>\n",
              "      <td>benign</td>\n",
              "    </tr>\n",
              "    <tr>\n",
              "      <th>343</th>\n",
              "      <td>19.680</td>\n",
              "      <td>21.68</td>\n",
              "      <td>129.90</td>\n",
              "      <td>1194.0</td>\n",
              "      <td>0.09797</td>\n",
              "      <td>0.13390</td>\n",
              "      <td>0.18630</td>\n",
              "      <td>0.11030</td>\n",
              "      <td>0.2082</td>\n",
              "      <td>0.05715</td>\n",
              "      <td>0.6226</td>\n",
              "      <td>2.2840</td>\n",
              "      <td>5.173</td>\n",
              "      <td>67.66</td>\n",
              "      <td>0.004756</td>\n",
              "      <td>0.033680</td>\n",
              "      <td>0.043450</td>\n",
              "      <td>0.018060</td>\n",
              "      <td>0.03756</td>\n",
              "      <td>0.003288</td>\n",
              "      <td>22.750</td>\n",
              "      <td>34.66</td>\n",
              "      <td>157.60</td>\n",
              "      <td>1540.0</td>\n",
              "      <td>0.1218</td>\n",
              "      <td>0.34580</td>\n",
              "      <td>0.47340</td>\n",
              "      <td>0.22550</td>\n",
              "      <td>0.4045</td>\n",
              "      <td>0.07918</td>\n",
              "      <td>malignant</td>\n",
              "    </tr>\n",
              "    <tr>\n",
              "      <th>252</th>\n",
              "      <td>19.730</td>\n",
              "      <td>19.82</td>\n",
              "      <td>130.70</td>\n",
              "      <td>1206.0</td>\n",
              "      <td>0.10620</td>\n",
              "      <td>0.18490</td>\n",
              "      <td>0.24170</td>\n",
              "      <td>0.09740</td>\n",
              "      <td>0.1733</td>\n",
              "      <td>0.06697</td>\n",
              "      <td>0.7661</td>\n",
              "      <td>0.7800</td>\n",
              "      <td>4.115</td>\n",
              "      <td>92.81</td>\n",
              "      <td>0.008482</td>\n",
              "      <td>0.050570</td>\n",
              "      <td>0.068000</td>\n",
              "      <td>0.019710</td>\n",
              "      <td>0.01467</td>\n",
              "      <td>0.007259</td>\n",
              "      <td>25.280</td>\n",
              "      <td>25.59</td>\n",
              "      <td>159.80</td>\n",
              "      <td>1933.0</td>\n",
              "      <td>0.1710</td>\n",
              "      <td>0.59550</td>\n",
              "      <td>0.84890</td>\n",
              "      <td>0.25070</td>\n",
              "      <td>0.2749</td>\n",
              "      <td>0.12970</td>\n",
              "      <td>malignant</td>\n",
              "    </tr>\n",
              "    <tr>\n",
              "      <th>292</th>\n",
              "      <td>12.950</td>\n",
              "      <td>16.02</td>\n",
              "      <td>83.14</td>\n",
              "      <td>513.7</td>\n",
              "      <td>0.10050</td>\n",
              "      <td>0.07943</td>\n",
              "      <td>0.06155</td>\n",
              "      <td>0.03370</td>\n",
              "      <td>0.1730</td>\n",
              "      <td>0.06470</td>\n",
              "      <td>0.2094</td>\n",
              "      <td>0.7636</td>\n",
              "      <td>1.231</td>\n",
              "      <td>17.67</td>\n",
              "      <td>0.008725</td>\n",
              "      <td>0.020030</td>\n",
              "      <td>0.023350</td>\n",
              "      <td>0.011320</td>\n",
              "      <td>0.02625</td>\n",
              "      <td>0.004726</td>\n",
              "      <td>13.740</td>\n",
              "      <td>19.93</td>\n",
              "      <td>88.81</td>\n",
              "      <td>585.4</td>\n",
              "      <td>0.1483</td>\n",
              "      <td>0.20680</td>\n",
              "      <td>0.22410</td>\n",
              "      <td>0.10560</td>\n",
              "      <td>0.3380</td>\n",
              "      <td>0.09584</td>\n",
              "      <td>benign</td>\n",
              "    </tr>\n",
              "    <tr>\n",
              "      <th>282</th>\n",
              "      <td>19.400</td>\n",
              "      <td>18.18</td>\n",
              "      <td>127.20</td>\n",
              "      <td>1145.0</td>\n",
              "      <td>0.10370</td>\n",
              "      <td>0.14420</td>\n",
              "      <td>0.16260</td>\n",
              "      <td>0.09464</td>\n",
              "      <td>0.1893</td>\n",
              "      <td>0.05892</td>\n",
              "      <td>0.4709</td>\n",
              "      <td>0.9951</td>\n",
              "      <td>2.903</td>\n",
              "      <td>53.16</td>\n",
              "      <td>0.005654</td>\n",
              "      <td>0.021990</td>\n",
              "      <td>0.030590</td>\n",
              "      <td>0.014990</td>\n",
              "      <td>0.01623</td>\n",
              "      <td>0.001965</td>\n",
              "      <td>23.790</td>\n",
              "      <td>28.65</td>\n",
              "      <td>152.40</td>\n",
              "      <td>1628.0</td>\n",
              "      <td>0.1518</td>\n",
              "      <td>0.37490</td>\n",
              "      <td>0.43160</td>\n",
              "      <td>0.22520</td>\n",
              "      <td>0.3590</td>\n",
              "      <td>0.07787</td>\n",
              "      <td>malignant</td>\n",
              "    </tr>\n",
              "    <tr>\n",
              "      <th>538</th>\n",
              "      <td>7.729</td>\n",
              "      <td>25.49</td>\n",
              "      <td>47.98</td>\n",
              "      <td>178.8</td>\n",
              "      <td>0.08098</td>\n",
              "      <td>0.04878</td>\n",
              "      <td>0.00000</td>\n",
              "      <td>0.00000</td>\n",
              "      <td>0.1870</td>\n",
              "      <td>0.07285</td>\n",
              "      <td>0.3777</td>\n",
              "      <td>1.4620</td>\n",
              "      <td>2.492</td>\n",
              "      <td>19.14</td>\n",
              "      <td>0.012660</td>\n",
              "      <td>0.009692</td>\n",
              "      <td>0.000000</td>\n",
              "      <td>0.000000</td>\n",
              "      <td>0.02882</td>\n",
              "      <td>0.006872</td>\n",
              "      <td>9.077</td>\n",
              "      <td>30.92</td>\n",
              "      <td>57.17</td>\n",
              "      <td>248.0</td>\n",
              "      <td>0.1256</td>\n",
              "      <td>0.08340</td>\n",
              "      <td>0.00000</td>\n",
              "      <td>0.00000</td>\n",
              "      <td>0.3058</td>\n",
              "      <td>0.09938</td>\n",
              "      <td>benign</td>\n",
              "    </tr>\n",
              "    <tr>\n",
              "      <th>219</th>\n",
              "      <td>19.530</td>\n",
              "      <td>32.47</td>\n",
              "      <td>128.00</td>\n",
              "      <td>1223.0</td>\n",
              "      <td>0.08420</td>\n",
              "      <td>0.11300</td>\n",
              "      <td>0.11450</td>\n",
              "      <td>0.06637</td>\n",
              "      <td>0.1428</td>\n",
              "      <td>0.05313</td>\n",
              "      <td>0.7392</td>\n",
              "      <td>1.3210</td>\n",
              "      <td>4.722</td>\n",
              "      <td>109.90</td>\n",
              "      <td>0.005539</td>\n",
              "      <td>0.026440</td>\n",
              "      <td>0.026640</td>\n",
              "      <td>0.010780</td>\n",
              "      <td>0.01332</td>\n",
              "      <td>0.002256</td>\n",
              "      <td>27.900</td>\n",
              "      <td>45.41</td>\n",
              "      <td>180.20</td>\n",
              "      <td>2477.0</td>\n",
              "      <td>0.1408</td>\n",
              "      <td>0.40970</td>\n",
              "      <td>0.39950</td>\n",
              "      <td>0.16250</td>\n",
              "      <td>0.2713</td>\n",
              "      <td>0.07568</td>\n",
              "      <td>malignant</td>\n",
              "    </tr>\n",
              "    <tr>\n",
              "      <th>155</th>\n",
              "      <td>12.250</td>\n",
              "      <td>17.94</td>\n",
              "      <td>78.27</td>\n",
              "      <td>460.3</td>\n",
              "      <td>0.08654</td>\n",
              "      <td>0.06679</td>\n",
              "      <td>0.03885</td>\n",
              "      <td>0.02331</td>\n",
              "      <td>0.1970</td>\n",
              "      <td>0.06228</td>\n",
              "      <td>0.2200</td>\n",
              "      <td>0.9823</td>\n",
              "      <td>1.484</td>\n",
              "      <td>16.51</td>\n",
              "      <td>0.005518</td>\n",
              "      <td>0.015620</td>\n",
              "      <td>0.019940</td>\n",
              "      <td>0.007924</td>\n",
              "      <td>0.01799</td>\n",
              "      <td>0.002484</td>\n",
              "      <td>13.590</td>\n",
              "      <td>25.22</td>\n",
              "      <td>86.60</td>\n",
              "      <td>564.2</td>\n",
              "      <td>0.1217</td>\n",
              "      <td>0.17880</td>\n",
              "      <td>0.19430</td>\n",
              "      <td>0.08211</td>\n",
              "      <td>0.3113</td>\n",
              "      <td>0.08132</td>\n",
              "      <td>benign</td>\n",
              "    </tr>\n",
              "    <tr>\n",
              "      <th>446</th>\n",
              "      <td>17.750</td>\n",
              "      <td>28.03</td>\n",
              "      <td>117.30</td>\n",
              "      <td>981.6</td>\n",
              "      <td>0.09997</td>\n",
              "      <td>0.13140</td>\n",
              "      <td>0.16980</td>\n",
              "      <td>0.08293</td>\n",
              "      <td>0.1713</td>\n",
              "      <td>0.05916</td>\n",
              "      <td>0.3897</td>\n",
              "      <td>1.0770</td>\n",
              "      <td>2.873</td>\n",
              "      <td>43.95</td>\n",
              "      <td>0.004714</td>\n",
              "      <td>0.020150</td>\n",
              "      <td>0.036970</td>\n",
              "      <td>0.011100</td>\n",
              "      <td>0.01237</td>\n",
              "      <td>0.002556</td>\n",
              "      <td>21.530</td>\n",
              "      <td>38.54</td>\n",
              "      <td>145.40</td>\n",
              "      <td>1437.0</td>\n",
              "      <td>0.1401</td>\n",
              "      <td>0.37620</td>\n",
              "      <td>0.63990</td>\n",
              "      <td>0.19700</td>\n",
              "      <td>0.2972</td>\n",
              "      <td>0.09075</td>\n",
              "      <td>malignant</td>\n",
              "    </tr>\n",
              "    <tr>\n",
              "      <th>314</th>\n",
              "      <td>8.597</td>\n",
              "      <td>18.60</td>\n",
              "      <td>54.09</td>\n",
              "      <td>221.2</td>\n",
              "      <td>0.10740</td>\n",
              "      <td>0.05847</td>\n",
              "      <td>0.00000</td>\n",
              "      <td>0.00000</td>\n",
              "      <td>0.2163</td>\n",
              "      <td>0.07359</td>\n",
              "      <td>0.3368</td>\n",
              "      <td>2.7770</td>\n",
              "      <td>2.222</td>\n",
              "      <td>17.81</td>\n",
              "      <td>0.020750</td>\n",
              "      <td>0.014030</td>\n",
              "      <td>0.000000</td>\n",
              "      <td>0.000000</td>\n",
              "      <td>0.06146</td>\n",
              "      <td>0.006820</td>\n",
              "      <td>8.952</td>\n",
              "      <td>22.44</td>\n",
              "      <td>56.65</td>\n",
              "      <td>240.1</td>\n",
              "      <td>0.1347</td>\n",
              "      <td>0.07767</td>\n",
              "      <td>0.00000</td>\n",
              "      <td>0.00000</td>\n",
              "      <td>0.3142</td>\n",
              "      <td>0.08116</td>\n",
              "      <td>benign</td>\n",
              "    </tr>\n",
              "  </tbody>\n",
              "</table>\n",
              "</div>"
            ],
            "text/plain": [
              "     mean radius  mean texture  ...  worst fractal dimension  has cancer\n",
              "357       13.870         16.21  ...                  0.07113      benign\n",
              "343       19.680         21.68  ...                  0.07918   malignant\n",
              "252       19.730         19.82  ...                  0.12970   malignant\n",
              "292       12.950         16.02  ...                  0.09584      benign\n",
              "282       19.400         18.18  ...                  0.07787   malignant\n",
              "538        7.729         25.49  ...                  0.09938      benign\n",
              "219       19.530         32.47  ...                  0.07568   malignant\n",
              "155       12.250         17.94  ...                  0.08132      benign\n",
              "446       17.750         28.03  ...                  0.09075   malignant\n",
              "314        8.597         18.60  ...                  0.08116      benign\n",
              "\n",
              "[10 rows x 31 columns]"
            ]
          },
          "metadata": {
            "tags": []
          },
          "execution_count": 6
        }
      ]
    },
    {
      "cell_type": "markdown",
      "metadata": {
        "id": "esnRUK0YtVPz",
        "colab_type": "text"
      },
      "source": [
        "### Exploratory Analysis\n",
        "\n",
        "### Question 1\n",
        "\n",
        "Import the data and do the following:\n",
        "\n",
        "* Examine the data types--there are many columns, so it might be wise to use value counts\n",
        "* Determine the distribution of each type of record\n",
        "* Encode the activity label as an integer"
      ]
    },
    {
      "cell_type": "code",
      "metadata": {
        "ExecuteTime": {
          "end_time": "2019-11-08T03:20:18.854168Z",
          "start_time": "2019-11-08T03:20:18.836106Z"
        },
        "id": "sDtbOo8ttVPz",
        "colab_type": "code",
        "colab": {
          "base_uri": "https://localhost:8080/",
          "height": 619
        },
        "outputId": "8b8a1cdf-4dcd-434b-acc0-9008073d6f71"
      },
      "source": [
        "df.info()"
      ],
      "execution_count": 7,
      "outputs": [
        {
          "output_type": "stream",
          "text": [
            "<class 'pandas.core.frame.DataFrame'>\n",
            "RangeIndex: 569 entries, 0 to 568\n",
            "Data columns (total 31 columns):\n",
            "mean radius                569 non-null float64\n",
            "mean texture               569 non-null float64\n",
            "mean perimeter             569 non-null float64\n",
            "mean area                  569 non-null float64\n",
            "mean smoothness            569 non-null float64\n",
            "mean compactness           569 non-null float64\n",
            "mean concavity             569 non-null float64\n",
            "mean concave points        569 non-null float64\n",
            "mean symmetry              569 non-null float64\n",
            "mean fractal dimension     569 non-null float64\n",
            "radius error               569 non-null float64\n",
            "texture error              569 non-null float64\n",
            "perimeter error            569 non-null float64\n",
            "area error                 569 non-null float64\n",
            "smoothness error           569 non-null float64\n",
            "compactness error          569 non-null float64\n",
            "concavity error            569 non-null float64\n",
            "concave points error       569 non-null float64\n",
            "symmetry error             569 non-null float64\n",
            "fractal dimension error    569 non-null float64\n",
            "worst radius               569 non-null float64\n",
            "worst texture              569 non-null float64\n",
            "worst perimeter            569 non-null float64\n",
            "worst area                 569 non-null float64\n",
            "worst smoothness           569 non-null float64\n",
            "worst compactness          569 non-null float64\n",
            "worst concavity            569 non-null float64\n",
            "worst concave points       569 non-null float64\n",
            "worst symmetry             569 non-null float64\n",
            "worst fractal dimension    569 non-null float64\n",
            "has cancer                 569 non-null object\n",
            "dtypes: float64(30), object(1)\n",
            "memory usage: 137.9+ KB\n"
          ],
          "name": "stdout"
        }
      ]
    },
    {
      "cell_type": "markdown",
      "metadata": {
        "id": "xozybd18tVP1",
        "colab_type": "text"
      },
      "source": [
        "### Classification Targets/Output"
      ]
    },
    {
      "cell_type": "code",
      "metadata": {
        "ExecuteTime": {
          "end_time": "2019-11-08T03:20:18.863814Z",
          "start_time": "2019-11-08T03:20:18.857784Z"
        },
        "id": "818dtBJhtVP1",
        "colab_type": "code",
        "colab": {
          "base_uri": "https://localhost:8080/",
          "height": 33
        },
        "outputId": "75749129-aa44-48b5-a487-7deba58115b4"
      },
      "source": [
        "data.target_names"
      ],
      "execution_count": 8,
      "outputs": [
        {
          "output_type": "execute_result",
          "data": {
            "text/plain": [
              "array(['malignant', 'benign'], dtype='<U9')"
            ]
          },
          "metadata": {
            "tags": []
          },
          "execution_count": 8
        }
      ]
    },
    {
      "cell_type": "markdown",
      "metadata": {
        "id": "Nv4hdXyutVP3",
        "colab_type": "text"
      },
      "source": [
        "### Class Distribution"
      ]
    },
    {
      "cell_type": "code",
      "metadata": {
        "ExecuteTime": {
          "end_time": "2019-11-08T03:20:18.878084Z",
          "start_time": "2019-11-08T03:20:18.868057Z"
        },
        "id": "ecbyMHPhtVP3",
        "colab_type": "code",
        "colab": {
          "base_uri": "https://localhost:8080/",
          "height": 67
        },
        "outputId": "e9c2f2aa-0d0c-4722-d66e-4232dfffd7de"
      },
      "source": [
        "df['has cancer'].value_counts()"
      ],
      "execution_count": 9,
      "outputs": [
        {
          "output_type": "execute_result",
          "data": {
            "text/plain": [
              "benign       357\n",
              "malignant    212\n",
              "Name: has cancer, dtype: int64"
            ]
          },
          "metadata": {
            "tags": []
          },
          "execution_count": 9
        }
      ]
    },
    {
      "cell_type": "markdown",
      "metadata": {
        "id": "l4kQ4tSMtVP5",
        "colab_type": "text"
      },
      "source": [
        "## Train-Test Split"
      ]
    },
    {
      "cell_type": "markdown",
      "metadata": {
        "id": "JYEhfOUXtVP5",
        "colab_type": "text"
      },
      "source": [
        "### Question 2\n",
        "\n",
        "* Split the data into train and test data sets. This can be done using any method, but consider using Scikit-learn's `StratifiedShuffleSplit` to maintain the same ratio of predictor classes.\n",
        "* Regardless of methods used to split the data, compare the ratio of classes in both the train and test splits."
      ]
    },
    {
      "cell_type": "code",
      "metadata": {
        "ExecuteTime": {
          "end_time": "2019-11-08T03:20:18.915062Z",
          "start_time": "2019-11-08T03:20:18.881826Z"
        },
        "id": "uSLmoUP6tVP6",
        "colab_type": "code",
        "colab": {
          "base_uri": "https://localhost:8080/",
          "height": 33
        },
        "outputId": "0318b9cc-f129-4485-aabe-45aabf1876ba"
      },
      "source": [
        "from sklearn.model_selection import train_test_split\n",
        "\n",
        "X_train, X_test, y_train, y_test = train_test_split(X, y_labels, test_size=0.3, random_state=42)\n",
        "print('Training dataset shape:', X_train.shape, '\\tTest dataset shape:', X_test.shape)"
      ],
      "execution_count": 10,
      "outputs": [
        {
          "output_type": "stream",
          "text": [
            "Training dataset shape: (398, 30) \tTest dataset shape: (171, 30)\n"
          ],
          "name": "stdout"
        }
      ]
    },
    {
      "cell_type": "markdown",
      "metadata": {
        "id": "pkh8Vpi7tVP7",
        "colab_type": "text"
      },
      "source": [
        "## Modeling"
      ]
    },
    {
      "cell_type": "markdown",
      "metadata": {
        "id": "vbUH8a1FtVP7",
        "colab_type": "text"
      },
      "source": [
        "### Question 3\n",
        "\n",
        "* Fit a logistic regression model without any regularization using all of the features. \n",
        "* Using cross validation to determine the hyperparameters, fit models using L1, and L2 regularization. Store each of these models as well. Note the limitations on regularizations. The regularized models, in particular the L1 model, will probably take a while to fit."
      ]
    },
    {
      "cell_type": "code",
      "metadata": {
        "ExecuteTime": {
          "end_time": "2019-11-08T03:20:18.984371Z",
          "start_time": "2019-11-08T03:20:18.917841Z"
        },
        "id": "Cg76eS9ctVP8",
        "colab_type": "code",
        "colab": {}
      },
      "source": [
        "from sklearn.linear_model import LogisticRegression\n",
        "\n",
        "lr = LogisticRegression(random_state=42, max_iter=100, solver='liblinear')"
      ],
      "execution_count": 0,
      "outputs": []
    },
    {
      "cell_type": "code",
      "metadata": {
        "ExecuteTime": {
          "end_time": "2019-11-08T03:20:19.201669Z",
          "start_time": "2019-11-08T03:20:18.986962Z"
        },
        "id": "PMAknWLdtVP9",
        "colab_type": "code",
        "colab": {
          "base_uri": "https://localhost:8080/",
          "height": 100
        },
        "outputId": "cd4ac518-cd06-4234-ea59-97c0d0548214"
      },
      "source": [
        "lr.fit(X_train, y_train)"
      ],
      "execution_count": 12,
      "outputs": [
        {
          "output_type": "execute_result",
          "data": {
            "text/plain": [
              "LogisticRegression(C=1.0, class_weight=None, dual=False, fit_intercept=True,\n",
              "                   intercept_scaling=1, l1_ratio=None, max_iter=100,\n",
              "                   multi_class='warn', n_jobs=None, penalty='l2',\n",
              "                   random_state=42, solver='liblinear', tol=0.0001, verbose=0,\n",
              "                   warm_start=False)"
            ]
          },
          "metadata": {
            "tags": []
          },
          "execution_count": 12
        }
      ]
    },
    {
      "cell_type": "code",
      "metadata": {
        "ExecuteTime": {
          "end_time": "2019-11-08T03:20:24.343872Z",
          "start_time": "2019-11-08T03:20:19.204385Z"
        },
        "id": "BD_nbF5dtVP_",
        "colab_type": "code",
        "colab": {}
      },
      "source": [
        "from sklearn.linear_model import LogisticRegressionCV\n",
        "\n",
        "# L1 regularized logistic regression\n",
        "lr_l1 = LogisticRegressionCV(Cs=10, cv=4, penalty='l1', solver='liblinear', max_iter=100).fit(X_train, y_train)"
      ],
      "execution_count": 0,
      "outputs": []
    },
    {
      "cell_type": "code",
      "metadata": {
        "ExecuteTime": {
          "end_time": "2019-11-08T03:20:25.004084Z",
          "start_time": "2019-11-08T03:20:24.345654Z"
        },
        "id": "76KYU0uktVQA",
        "colab_type": "code",
        "colab": {}
      },
      "source": [
        "# L2 regularized logistic regression\n",
        "lr_l2 = LogisticRegressionCV(Cs=10, cv=4, penalty='l2', solver='liblinear', max_iter=100).fit(X_train, y_train)"
      ],
      "execution_count": 0,
      "outputs": []
    },
    {
      "cell_type": "markdown",
      "metadata": {
        "id": "SfCWdrzxtVQC",
        "colab_type": "text"
      },
      "source": [
        "### Understand Coefficients"
      ]
    },
    {
      "cell_type": "markdown",
      "metadata": {
        "id": "zCzSUfdDtVQC",
        "colab_type": "text"
      },
      "source": [
        "### Question 4\n",
        "\n",
        "Compare the magnitudes of the coefficients for each of the models. "
      ]
    },
    {
      "cell_type": "code",
      "metadata": {
        "ExecuteTime": {
          "end_time": "2019-11-08T03:20:25.026818Z",
          "start_time": "2019-11-08T03:20:25.005925Z"
        },
        "id": "hL3GzB26tVQD",
        "colab_type": "code",
        "colab": {
          "base_uri": "https://localhost:8080/",
          "height": 345
        },
        "outputId": "bfaad23f-c88d-4244-d934-f27bda26925d"
      },
      "source": [
        "# Combine all the coefficients into a dataframe\n",
        "coefficients = pd.DataFrame({'lr': lr.coef_[0], 'l1': lr_l1.coef_[0], 'l2': lr_l2.coef_[0]})\n",
        "coefficients.head(10)"
      ],
      "execution_count": 15,
      "outputs": [
        {
          "output_type": "execute_result",
          "data": {
            "text/html": [
              "<div>\n",
              "<style scoped>\n",
              "    .dataframe tbody tr th:only-of-type {\n",
              "        vertical-align: middle;\n",
              "    }\n",
              "\n",
              "    .dataframe tbody tr th {\n",
              "        vertical-align: top;\n",
              "    }\n",
              "\n",
              "    .dataframe thead th {\n",
              "        text-align: right;\n",
              "    }\n",
              "</style>\n",
              "<table border=\"1\" class=\"dataframe\">\n",
              "  <thead>\n",
              "    <tr style=\"text-align: right;\">\n",
              "      <th></th>\n",
              "      <th>lr</th>\n",
              "      <th>l1</th>\n",
              "      <th>l2</th>\n",
              "    </tr>\n",
              "  </thead>\n",
              "  <tbody>\n",
              "    <tr>\n",
              "      <th>0</th>\n",
              "      <td>-2.038245</td>\n",
              "      <td>-1.019625</td>\n",
              "      <td>-5.537228</td>\n",
              "    </tr>\n",
              "    <tr>\n",
              "      <th>1</th>\n",
              "      <td>-0.155576</td>\n",
              "      <td>-0.089434</td>\n",
              "      <td>-0.310132</td>\n",
              "    </tr>\n",
              "    <tr>\n",
              "      <th>2</th>\n",
              "      <td>0.102256</td>\n",
              "      <td>-0.104957</td>\n",
              "      <td>0.587009</td>\n",
              "    </tr>\n",
              "    <tr>\n",
              "      <th>3</th>\n",
              "      <td>0.003794</td>\n",
              "      <td>0.013139</td>\n",
              "      <td>0.017725</td>\n",
              "    </tr>\n",
              "    <tr>\n",
              "      <th>4</th>\n",
              "      <td>0.113067</td>\n",
              "      <td>0.000000</td>\n",
              "      <td>0.514848</td>\n",
              "    </tr>\n",
              "    <tr>\n",
              "      <th>5</th>\n",
              "      <td>0.389714</td>\n",
              "      <td>0.000000</td>\n",
              "      <td>1.094062</td>\n",
              "    </tr>\n",
              "    <tr>\n",
              "      <th>6</th>\n",
              "      <td>0.596462</td>\n",
              "      <td>0.000000</td>\n",
              "      <td>2.028991</td>\n",
              "    </tr>\n",
              "    <tr>\n",
              "      <th>7</th>\n",
              "      <td>0.304108</td>\n",
              "      <td>53.114779</td>\n",
              "      <td>1.321519</td>\n",
              "    </tr>\n",
              "    <tr>\n",
              "      <th>8</th>\n",
              "      <td>0.174986</td>\n",
              "      <td>0.000000</td>\n",
              "      <td>0.816247</td>\n",
              "    </tr>\n",
              "    <tr>\n",
              "      <th>9</th>\n",
              "      <td>0.028549</td>\n",
              "      <td>0.000000</td>\n",
              "      <td>0.070778</td>\n",
              "    </tr>\n",
              "  </tbody>\n",
              "</table>\n",
              "</div>"
            ],
            "text/plain": [
              "         lr         l1        l2\n",
              "0 -2.038245  -1.019625 -5.537228\n",
              "1 -0.155576  -0.089434 -0.310132\n",
              "2  0.102256  -0.104957  0.587009\n",
              "3  0.003794   0.013139  0.017725\n",
              "4  0.113067   0.000000  0.514848\n",
              "5  0.389714   0.000000  1.094062\n",
              "6  0.596462   0.000000  2.028991\n",
              "7  0.304108  53.114779  1.321519\n",
              "8  0.174986   0.000000  0.816247\n",
              "9  0.028549   0.000000  0.070778"
            ]
          },
          "metadata": {
            "tags": []
          },
          "execution_count": 15
        }
      ]
    },
    {
      "cell_type": "code",
      "metadata": {
        "ExecuteTime": {
          "end_time": "2019-11-08T03:20:25.246926Z",
          "start_time": "2019-11-08T03:20:25.029302Z"
        },
        "id": "awtwjNe3tVQF",
        "colab_type": "code",
        "colab": {}
      },
      "source": [
        "from matplotlib import pyplot as plt\n",
        "%matplotlib inline"
      ],
      "execution_count": 0,
      "outputs": []
    },
    {
      "cell_type": "code",
      "metadata": {
        "ExecuteTime": {
          "end_time": "2019-11-08T03:20:25.585160Z",
          "start_time": "2019-11-08T03:20:25.248961Z"
        },
        "id": "AgpFXD0CtVQG",
        "colab_type": "code",
        "colab": {
          "base_uri": "https://localhost:8080/",
          "height": 281
        },
        "outputId": "e825f552-81cf-4725-b15f-68f4d6d9d96f"
      },
      "source": [
        "coefficients.plot(y=[\"lr\", \"l1\", \"l2\"], kind=\"line\")"
      ],
      "execution_count": 17,
      "outputs": [
        {
          "output_type": "execute_result",
          "data": {
            "text/plain": [
              "<matplotlib.axes._subplots.AxesSubplot at 0x7fdd69a997f0>"
            ]
          },
          "metadata": {
            "tags": []
          },
          "execution_count": 17
        },
        {
          "output_type": "display_data",
          "data": {
            "image/png": "[encoded data removed]",
            "text/plain": [
              "<Figure size 432x288 with 1 Axes>"
            ]
          },
          "metadata": {
            "tags": []
          }
        }
      ]
    },
    {
      "cell_type": "markdown",
      "metadata": {
        "id": "sktPc5JrtVQJ",
        "colab_type": "text"
      },
      "source": [
        "### Predict on Test Set"
      ]
    },
    {
      "cell_type": "markdown",
      "metadata": {
        "id": "1g6YqXeBtVQK",
        "colab_type": "text"
      },
      "source": [
        "### Question 5\n",
        "\n",
        "* Predict and store the class for each model.\n",
        "* Also store the probability for the predicted class for each model. "
      ]
    },
    {
      "cell_type": "code",
      "metadata": {
        "ExecuteTime": {
          "end_time": "2019-11-08T03:20:25.590373Z",
          "start_time": "2019-11-08T03:20:25.587151Z"
        },
        "id": "Eth1mVR5tVQL",
        "colab_type": "code",
        "colab": {}
      },
      "source": [
        "test_predictions = lr.predict(X_test)"
      ],
      "execution_count": 0,
      "outputs": []
    },
    {
      "cell_type": "code",
      "metadata": {
        "ExecuteTime": {
          "end_time": "2019-11-08T03:20:25.599543Z",
          "start_time": "2019-11-08T03:20:25.592475Z"
        },
        "id": "WBSxWukKtVQO",
        "colab_type": "code",
        "colab": {
          "base_uri": "https://localhost:8080/",
          "height": 67
        },
        "outputId": "4ebba231-2277-47f2-dd3d-0760a2077f37"
      },
      "source": [
        "test_predictions[:10]"
      ],
      "execution_count": 19,
      "outputs": [
        {
          "output_type": "execute_result",
          "data": {
            "text/plain": [
              "array(['benign', 'malignant', 'malignant', 'benign', 'benign',\n",
              "       'malignant', 'malignant', 'malignant', 'benign', 'benign'],\n",
              "      dtype='<U9')"
            ]
          },
          "metadata": {
            "tags": []
          },
          "execution_count": 19
        }
      ]
    },
    {
      "cell_type": "markdown",
      "metadata": {
        "id": "kqPPV-13tVQP",
        "colab_type": "text"
      },
      "source": [
        "## Model Evaluation"
      ]
    },
    {
      "cell_type": "markdown",
      "metadata": {
        "id": "Z520TQLxtVQQ",
        "colab_type": "text"
      },
      "source": [
        "### Question 6\n",
        "For each model, calculate the following error metrics: \n",
        "\n",
        "* accuracy\n",
        "* precision\n",
        "* recall\n",
        "* fscore\n",
        "* confusion matrix"
      ]
    },
    {
      "cell_type": "code",
      "metadata": {
        "ExecuteTime": {
          "end_time": "2019-11-08T03:20:25.605775Z",
          "start_time": "2019-11-08T03:20:25.601667Z"
        },
        "id": "Kp7yCqMptVQQ",
        "colab_type": "code",
        "colab": {}
      },
      "source": [
        "from sklearn import metrics\n",
        "\n",
        "\n",
        "def get_metrics(true_labels, predicted_labels):\n",
        "    \n",
        "    print('Accuracy:', np.round(\n",
        "                        metrics.accuracy_score(true_labels, \n",
        "                                               predicted_labels),\n",
        "                        4))\n",
        "    print('Precision:', np.round(\n",
        "                        metrics.precision_score(true_labels, \n",
        "                                               predicted_labels,\n",
        "                                               average='weighted'),\n",
        "                        4))\n",
        "    print('Recall:', np.round(\n",
        "                        metrics.recall_score(true_labels, \n",
        "                                               predicted_labels,\n",
        "                                               average='weighted'),\n",
        "                        4))\n",
        "    print('F1 Score:', np.round(\n",
        "                        metrics.f1_score(true_labels, \n",
        "                                               predicted_labels,\n",
        "                                               average='weighted'),\n",
        "                        4))"
      ],
      "execution_count": 0,
      "outputs": []
    },
    {
      "cell_type": "markdown",
      "metadata": {
        "id": "iGJDbzYrtVQS",
        "colab_type": "text"
      },
      "source": [
        "### Evaluation Stats"
      ]
    },
    {
      "cell_type": "code",
      "metadata": {
        "ExecuteTime": {
          "end_time": "2019-11-08T03:20:25.614115Z",
          "start_time": "2019-11-08T03:20:25.607306Z"
        },
        "id": "YvYfhZSJtVQS",
        "colab_type": "code",
        "colab": {
          "base_uri": "https://localhost:8080/",
          "height": 84
        },
        "outputId": "a2908b84-cf70-4778-d7b0-bc2db18db895"
      },
      "source": [
        "get_metrics(true_labels=y_test, predicted_labels=test_predictions)"
      ],
      "execution_count": 21,
      "outputs": [
        {
          "output_type": "stream",
          "text": [
            "Accuracy: 0.9649\n",
            "Precision: 0.965\n",
            "Recall: 0.9649\n",
            "F1 Score: 0.9648\n"
          ],
          "name": "stdout"
        }
      ]
    },
    {
      "cell_type": "code",
      "metadata": {
        "id": "Tv6EZhf3xVAa",
        "colab_type": "code",
        "colab": {
          "base_uri": "https://localhost:8080/",
          "height": 84
        },
        "outputId": "be8acb7f-2e8a-4966-ae00-f58ec0c1e319"
      },
      "source": [
        "test_predictions = lr_l1.predict(X_test)\n",
        "get_metrics(true_labels=y_test, predicted_labels=test_predictions)"
      ],
      "execution_count": 22,
      "outputs": [
        {
          "output_type": "stream",
          "text": [
            "Accuracy: 0.9708\n",
            "Precision: 0.9709\n",
            "Recall: 0.9708\n",
            "F1 Score: 0.9708\n"
          ],
          "name": "stdout"
        }
      ]
    },
    {
      "cell_type": "code",
      "metadata": {
        "id": "d89UOK-jxad_",
        "colab_type": "code",
        "colab": {
          "base_uri": "https://localhost:8080/",
          "height": 84
        },
        "outputId": "8d556de5-6d4e-493d-c1cd-bc245b514763"
      },
      "source": [
        "test_predictions = lr_l2.predict(X_test)\n",
        "get_metrics(true_labels=y_test, predicted_labels=test_predictions)"
      ],
      "execution_count": 23,
      "outputs": [
        {
          "output_type": "stream",
          "text": [
            "Accuracy: 0.9649\n",
            "Precision: 0.9649\n",
            "Recall: 0.9649\n",
            "F1 Score: 0.9649\n"
          ],
          "name": "stdout"
        }
      ]
    },
    {
      "cell_type": "markdown",
      "metadata": {
        "id": "h2qzud0etVQT",
        "colab_type": "text"
      },
      "source": [
        "### Confusion Matrix"
      ]
    },
    {
      "cell_type": "code",
      "metadata": {
        "ExecuteTime": {
          "end_time": "2019-11-08T03:20:25.760792Z",
          "start_time": "2019-11-08T03:20:25.615811Z"
        },
        "id": "OInvsC5itVQU",
        "colab_type": "code",
        "colab": {
          "base_uri": "https://localhost:8080/",
          "height": 137
        },
        "outputId": "5ae1d034-1ebc-4e35-9aa5-1b243822f9de"
      },
      "source": [
        "total_classes = len(data.target_names)\n",
        "level_labels = [total_classes*[0], list(range(total_classes))]\n",
        "\n",
        "cm = metrics.confusion_matrix(y_true=y_test, y_pred=test_predictions, \n",
        "                                  labels=data.target_names)\n",
        "cm_frame = pd.DataFrame(data=cm, \n",
        "                        columns=pd.MultiIndex(levels=[['Predicted:'], data.target_names], \n",
        "                                              codes=level_labels), \n",
        "                        index=pd.MultiIndex(levels=[['Actual:'], data.target_names], \n",
        "                                            codes=level_labels)) \n",
        "cm_frame"
      ],
      "execution_count": 24,
      "outputs": [
        {
          "output_type": "execute_result",
          "data": {
            "text/html": [
              "<div>\n",
              "<style scoped>\n",
              "    .dataframe tbody tr th:only-of-type {\n",
              "        vertical-align: middle;\n",
              "    }\n",
              "\n",
              "    .dataframe tbody tr th {\n",
              "        vertical-align: top;\n",
              "    }\n",
              "\n",
              "    .dataframe thead tr th {\n",
              "        text-align: left;\n",
              "    }\n",
              "</style>\n",
              "<table border=\"1\" class=\"dataframe\">\n",
              "  <thead>\n",
              "    <tr>\n",
              "      <th></th>\n",
              "      <th></th>\n",
              "      <th colspan=\"2\" halign=\"left\">Predicted:</th>\n",
              "    </tr>\n",
              "    <tr>\n",
              "      <th></th>\n",
              "      <th></th>\n",
              "      <th>malignant</th>\n",
              "      <th>benign</th>\n",
              "    </tr>\n",
              "  </thead>\n",
              "  <tbody>\n",
              "    <tr>\n",
              "      <th rowspan=\"2\" valign=\"top\">Actual:</th>\n",
              "      <th>malignant</th>\n",
              "      <td>60</td>\n",
              "      <td>3</td>\n",
              "    </tr>\n",
              "    <tr>\n",
              "      <th>benign</th>\n",
              "      <td>3</td>\n",
              "      <td>105</td>\n",
              "    </tr>\n",
              "  </tbody>\n",
              "</table>\n",
              "</div>"
            ],
            "text/plain": [
              "                  Predicted:       \n",
              "                   malignant benign\n",
              "Actual: malignant         60      3\n",
              "        benign             3    105"
            ]
          },
          "metadata": {
            "tags": []
          },
          "execution_count": 24
        }
      ]
    },
    {
      "cell_type": "code",
      "metadata": {
        "ExecuteTime": {
          "end_time": "2019-11-08T03:20:25.763122Z",
          "start_time": "2019-11-08T03:20:17.280Z"
        },
        "id": "giwLFo34tVQV",
        "colab_type": "code",
        "colab": {
          "base_uri": "https://localhost:8080/",
          "height": 167
        },
        "outputId": "61d28692-d68d-4626-9f94-3ef629e02e27"
      },
      "source": [
        "print(metrics.classification_report(y_test, test_predictions))"
      ],
      "execution_count": 25,
      "outputs": [
        {
          "output_type": "stream",
          "text": [
            "              precision    recall  f1-score   support\n",
            "\n",
            "      benign       0.97      0.97      0.97       108\n",
            "   malignant       0.95      0.95      0.95        63\n",
            "\n",
            "    accuracy                           0.96       171\n",
            "   macro avg       0.96      0.96      0.96       171\n",
            "weighted avg       0.96      0.96      0.96       171\n",
            "\n"
          ],
          "name": "stdout"
        }
      ]
    },
    {
      "cell_type": "markdown",
      "metadata": {
        "id": "U9Ch3frUtVQX",
        "colab_type": "text"
      },
      "source": [
        "## Feature Selection"
      ]
    },
    {
      "cell_type": "markdown",
      "metadata": {
        "ExecuteTime": {
          "end_time": "2019-11-08T03:06:34.449526Z",
          "start_time": "2019-11-08T03:06:34.445874Z"
        },
        "id": "gmGfo4MNtVQX",
        "colab_type": "text"
      },
      "source": [
        "### Question 7\n",
        " Identify highly correlated columns and drop those columns before building models"
      ]
    },
    {
      "cell_type": "code",
      "metadata": {
        "ExecuteTime": {
          "end_time": "2019-11-08T03:20:25.766139Z",
          "start_time": "2019-11-08T03:20:17.293Z"
        },
        "id": "n74PD-FCtVQZ",
        "colab_type": "code",
        "colab": {
          "base_uri": "https://localhost:8080/",
          "height": 33
        },
        "outputId": "b8ac2dd4-b607-4dcb-c3e0-819919067929"
      },
      "source": [
        "from sklearn.feature_selection import SelectKBest\n",
        "from sklearn.feature_selection import chi2\n",
        "from sklearn.feature_selection import VarianceThreshold\n",
        "\n",
        "#threshold with .7\n",
        "\n",
        "sel = VarianceThreshold(threshold=(.7 * (1 - .7)))\n",
        "\n",
        "data2 = df.copy()\n",
        "data_new = pd.DataFrame(sel.fit_transform(data2.loc[:,~data2.columns.isin(['has cancer'])]))\n",
        "\n",
        "# train-test split\n",
        "X_new,X_test_new, Y_new,Y_test_new = train_test_split(data_new, data2['has cancer'].tolist(), test_size=0.3, random_state=42)\n",
        "print('Training dataset shape:', X_new.shape, '\\tTest dataset shape:', X_test_new.shape)"
      ],
      "execution_count": 27,
      "outputs": [
        {
          "output_type": "stream",
          "text": [
            "Training dataset shape: (398, 11) \tTest dataset shape: (171, 11)\n"
          ],
          "name": "stdout"
        }
      ]
    },
    {
      "cell_type": "markdown",
      "metadata": {
        "ExecuteTime": {
          "end_time": "2019-11-08T03:19:16.682703Z",
          "start_time": "2019-11-08T03:19:16.678246Z"
        },
        "id": "qJrHXl5VtVQc",
        "colab_type": "text"
      },
      "source": [
        "### Question 8\n",
        "\n",
        "For each model, calculate the following error metrics: \n",
        "\n",
        "* accuracy\n",
        "* precision\n",
        "* recall\n",
        "* fscore\n",
        "* confusion matrix"
      ]
    },
    {
      "cell_type": "code",
      "metadata": {
        "id": "r2YUM4EVyUg3",
        "colab_type": "code",
        "colab": {}
      },
      "source": [
        ""
      ],
      "execution_count": 0,
      "outputs": []
    }
  ]
}